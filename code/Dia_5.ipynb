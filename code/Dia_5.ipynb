{
  "cells": [
    {
      "cell_type": "markdown",
      "id": "67fa111b-d392-4779-a7ed-64a2fd0c2cd7",
      "metadata": {
        "id": "67fa111b-d392-4779-a7ed-64a2fd0c2cd7"
      },
      "source": [
        "<a href=\"https://colab.research.google.com/github/ulises1229/Intro-ML-Python/blob/master/code/Dia_5.ipynb\" target=\"_parent\"><img src=\"https://colab.research.google.com/assets/colab-badge.svg\" alt=\"Open In Colab\"/></a>"
      ]
    },
    {
      "cell_type": "markdown",
      "id": "e10af191-9600-4fbb-9b74-888705cc2b06",
      "metadata": {
        "id": "e10af191-9600-4fbb-9b74-888705cc2b06"
      },
      "source": [
        "# Día 5: Aprendizaje profundo (Deep Learning)\n",
        "<ul>\n",
        "    <li><strong>Autor:</strong> Walter Rosales</li>\n",
        "    <li><strong>Contacto:</strong> <a href=\"mailto:walt22r@outlook.com\">walt22r@outlook.com</a>\n",
        "</ul>"
      ]
    },
    {
      "cell_type": "markdown",
      "id": "600233bc-d20c-41c5-b7ff-828ac09633a5",
      "metadata": {
        "id": "600233bc-d20c-41c5-b7ff-828ac09633a5"
      },
      "source": [
        "---\n",
        "#### Deep Learning, Machine Learning e Inteligencia Artificial ¿son lo mismo?\n",
        "\n",
        "> <img src=\"https://github.com/ulises1229/Intro-ML-Python/blob/master/figs/nvidia-ai-comparison.png?raw=1\" width=700/>\n",
        ">\n",
        "> Fig 1. Linea temporal del surgimiento de Inteligencia Artificial, Machine Learning y Deep Learning. \n",
        "> \n",
        "> Fuente: <a href=\"https://blogs.nvidia.com/blog/2016/07/29/whats-difference-artificial-intelligence-machine-learning-deep-learning-ai/\">Blog de NVIDIA</a>\n",
        "\n",
        "Como se puede apreciar en la Fig. 1, en realidad una es un subconjunto de la otra. En particular Deep Learning es un subconjunto de Machine Learning, que a su vez lo es de algo mucho más grande que se denomina Inteligencia Artificial. Puedes encontrar más información también en [este artículo de IBM](https://www.ibm.com/cloud/blog/ai-vs-machine-learning-vs-deep-learning-vs-neural-networks).\n",
        "\n",
        "Existe una particularidad que define a los algoritmos de Deep Learning dentro de los de Machine Learning, y es su capacidad de aprender sin necesidad de una intervención/decisión humana directo respecto al modelo (ver Fig. 2).\n",
        "\n",
        "> <img src=\"https://github.com/ulises1229/Intro-ML-Python/blob/master/figs/ML_vs_DL.png?raw=1\" width=700/>\n",
        ">\n",
        "> Fig. 2. Comparación entre algoritmos de Machine Learning y Deep Learning"
      ]
    },
    {
      "cell_type": "markdown",
      "id": "71a8e9ab-aac0-40d1-bc2e-a7c8058ad6cd",
      "metadata": {
        "id": "71a8e9ab-aac0-40d1-bc2e-a7c8058ad6cd"
      },
      "source": [
        "---\n",
        "## Deep Learning\n",
        "\n",
        "Conjunto de algoritmos que utilizan una estrategia de capas ocultas (_hidden layers_) con funciones de activación no lineales internas entre una capa de entrada y una de salida. Es decir, modelos bioinspirados por el funcionamiento general del cerebro biológico, como se establece de forma general en [este otro artículo de IBM](https://www.ibm.com/cloud/learn/deep-learning).\n",
        "\n",
        "> <img src=\"https://github.com/ulises1229/Intro-ML-Python/blob/master/figs/bioinspired_DL_neuron.png?raw=1\" width=440>\n",
        "> \n",
        "> Fig. 3: a) Esquema de una neurona del sistema nervioso biológico. b) Representación matemática/computacional de una neurona artificial.\n",
        "> \n",
        "> Fuente: [Zhu, G., Jiang, B., Tong, L., Xie, Y., Zaharchuk, G., &amp; Wintermark, M. (2019). Applications of deep learning to neuro-imaging techniques. Frontiers in Neurology, 10. https://doi.org/10.3389/fneur.2019.00869 ](https://www.frontiersin.org/articles/10.3389/fneur.2019.00869/full)\n",
        "\n",
        "En la Fig. 3 podemos observar cómo se plantea la similitud entre una neurona biolígica, y se respectivo modelo matemático que se utiliza para emular su respuesta ante estímulos y que sirve como base para construir redes neuronales artificiales como es mostrado en la Fig. 4.\n",
        "\n",
        "> <img src=\"https://github.com/ulises1229/Intro-ML-Python/blob/master/figs/bioinspired_DL_network.jpg?raw=1\" width=600>\n",
        "> \n",
        "> Fig. 4: Emulación de una red neuronal artificial (B) y su representación análoga en el sistema nervioso biológico (A) para clasificar a partir de datos gráficos (imagen) como entrada.\n",
        ">\n",
        "> Fuente: [Mohamed K.S. (2020) Deep Learning and Cognitive Computing: Pillars and Ladders. In: Neuromorphic Computing and Beyond. Springer, Cham. https://doi.org/10.1007/978-3-030-37224-8_4](https://link.springer.com/chapter/10.1007/978-3-030-37224-8_4)\n"
      ]
    },
    {
      "cell_type": "markdown",
      "id": "4168a113-4055-4b88-af01-b8a633980cf2",
      "metadata": {
        "id": "4168a113-4055-4b88-af01-b8a633980cf2"
      },
      "source": [
        "### Modelos de Deep Learning\n",
        "\n",
        "Existen diversos modelos de Deep Learning, cada día habiendo más y más, siendo los más comúnes los feed-forward neural network (también conocidos como ANN de Artificial Neural Network), Convolutional Neural Networks (CNN), Recurrent Neural Network (RNN) y muchas más (ver Fig. 5). Y sus actuales aplicaciones son el mejor referente de su éxito, algunos de los más importantes están mencionados en [Wikipedia](https://en.wikipedia.org/wiki/Deep_learning#Applications).\n",
        "\n",
        "> <img src=\"https://github.com/ulises1229/Intro-ML-Python/blob/master/figs/DL_architectures.png?raw=1\" width=500 />\n",
        "> \n",
        "> Fig. 5: Diagramas de las diferentes arquitecturas de redes neuronales más comúnes en la literatura actual. \n",
        ">\n",
        "> Fuente: [Kwon, S.H.; Kim, J.H. (2021) Machine Learning and Urban Drainage Systems: State-of-the-Art Review. Water, 13. https://doi.org/10.3390/w13243545](https://www.mdpi.com/2073-4441/13/24/3545)\n",
        "\n",
        "Siguiendo todos estos un patrón esencial, cuentan con tres componentes básicos: una capa de entrada, una o varias capas ocultas y una capa de salida (ver Fig. 6), siendo la primera donde ingresan los datos, las siguientes donde se procesa y se _aprende_ y la última aquella que da la _predicción_ del modelo.\n",
        "\n",
        "> <img src=\"https://github.com/ulises1229/Intro-ML-Python/blob/master/figs/ANN_architecture.png?raw=1\" width=600 />\n",
        ">\n",
        "> Fig. 6: Esquema general de un modelo de red neuronal artificial (ANN) ejemplificando los tres tipos de capas que la componen: entrada ($i$), ocultas ($h_n$) y salida ($o$).\n",
        ">\n",
        "> Fuente: [Bre, F., Gimenez, J. M., &amp; Fachinotti, V. D. (2018). Prediction of wind pressure coefficients on building surfaces using artificial neural networks. Energy and Buildings, 158, 1429–1441. https://doi.org/10.1016/j.enbuild.2017.11.045](https://www.sciencedirect.com/science/article/abs/pii/S0378778817325501?via%3Dihub)\n"
      ]
    },
    {
      "cell_type": "markdown",
      "id": "8d2d7a7a-2a07-4e6c-b0ee-9525c38159a7",
      "metadata": {
        "id": "8d2d7a7a-2a07-4e6c-b0ee-9525c38159a7"
      },
      "source": [
        "### Requerimientos para crear un modelo de DL\n",
        "\n",
        "Para crear un modelo de DL es necesario contar con los siguientes cuatro pilares básicos:\n",
        "1. Datos\n",
        "2. Arquitectura\n",
        "3. Función de pérdida\n",
        "4. Optimizador\n",
        "\n",
        "#### Datos\n",
        "Al ser los algoritmos de DL pertenecientes a la categoría de Aprendizaje Supervisado, es necesario que todos los datos estén _etiquetados_ con su correspondiente _respuesta correcta_ o _esperada_ la cual se utilizará para evaluar el rendimiento del modelo. El tipo de datos que se puede utilizar es altamente variado, desde imágenes, texto plano, vídeos hasta simples valores numéricos; la limitante es que puedan se representados de forma numérica para ingresarlos a las capas de entrada.\n",
        "\n",
        "#### Arquitectura\n",
        "Es necesario definir qué estructura (estática) se desea utilizar (i.e. CNN, RNN, ANN, etc.), así como la estructura (número de capas ocultas, neuronas en cada una, funciones de activación, etc.). Recuerda que hay diversas redes _ideales_ para cierto tipo de datos de entrada, pero no te limites, **deja salir tu creatividad**.\n",
        "\n",
        "#### Función de pérdida\n",
        "Es la forma de evaluar si el modelo está haciendo las cosas bien o no, nuevamente dependerá de tu caso, pero las más comúnes son:\n",
        "\n",
        "**Regresión**\n",
        "- Mean Absolute Error (error absoluto promedio) $MAE = \\frac{1}{n}\\sum_{i=1}^{n}|{Y_i - \\hat{Y}_i}|$\n",
        "- Mean Squared Error (error cuadrático medio) $MSE = \\frac{1}{n}\\sum_{i=1}^{n}(Y_i - \\hat{Y}_i)^2$\n",
        "\n",
        "**Clasificación**\n",
        "- Binary Cross Entropy (clasificación binaria) $H_p(q) = -\\frac{1}{n}\\sum_{i=1}^{n}Y_i \\dot log(p(Y_i)) + (1 - Y_i) \\dot log(1 - p(Y_i))$ donde $p(Y_i) = \\hat{Y}_i$, puedes indagar un poco más [aquí](https://towardsdatascience.com/understanding-binary-cross-entropy-log-loss-a-visual-explanation-a3ac6025181a)\n",
        "- Categorical Cross Entropy (clasificación de múltiples categorías)\n",
        "\n",
        "#### Optimizador\n",
        "Para poder actualizar los parámetros de cada capa es necsario definir un algoritmo para hacerlo, ese es el optimizador, es decir, qué regla (fórmula matemática) vamos a seguir para actualizarlo. Esto está relacionado con el proceso de _backpropagation_ que es la clave para actualizar los valores dependiendo de la pérdida (error) que hubo entre $Y_i$ y $\\hat{Y}_i$ (también denotada como $Y^*$ (ver Fig. 7) ¨**pero no te espantes, no debes de comprender todas las operaciones matemáticas, tan solo conocer cómo es el proceso**.\n",
        "\n",
        "> <img src=\"https://github.com/ulises1229/Intro-ML-Python/blob/master/figs/backpropagation.png?raw=1\" width=600 />\n",
        ">\n",
        "> Fig. 7: Diagrama y algoritmo de backpropagation, así como regla de actualización de parámetros (optmimización) como se ilustra en la sección (b) en el punto (ii).\n",
        ">\n",
        "> Fuente: [Backpropagation, Medium](https://medium.com/@jorgesleonel/backpropagation-cc81e9c772fd)\n",
        "\n",
        "Algunos de los algoritmos más usados son:\n",
        "- Stochastic Gradient Descent (SGD)\n",
        "- ADAM\n",
        "\n",
        "Puedes encontrar información sobre estos y muchos otros en [este artículo en Medium](https://medium.com/mlearning-ai/optimizers-in-deep-learning-7bf81fed78a0).\n",
        "\n",
        "Una vez tienes estos cuatro pilares básicos, **¡estamos list@s para entrenar nuestro modelo de DL!**"
      ]
    },
    {
      "cell_type": "markdown",
      "id": "93f54856-1803-4408-8f31-f84647fd6902",
      "metadata": {
        "tags": [],
        "id": "93f54856-1803-4408-8f31-f84647fd6902"
      },
      "source": [
        "---\n",
        "\n",
        "### DL 101: \"Hello Neural Networks\"\n",
        "Para crear modelos de DL en Python una de las bibliotecas más utilizadas es [TensorFlow](https://www.tensorflow.org/about), desarrollada por Google y de código abierto (open source)."
      ]
    },
    {
      "cell_type": "code",
      "execution_count": 1,
      "id": "5e4d9fe8-19f1-4807-9b47-c0c28d2d4a83",
      "metadata": {
        "id": "5e4d9fe8-19f1-4807-9b47-c0c28d2d4a83",
        "outputId": "6715f2fd-7efe-4471-e3fc-e429b00b2d2e",
        "colab": {
          "base_uri": "https://localhost:8080/"
        }
      },
      "outputs": [
        {
          "output_type": "stream",
          "name": "stdout",
          "text": [
            "Versión de TensorFlow: 2.7.0\n"
          ]
        }
      ],
      "source": [
        "import tensorflow as tf\n",
        "print(\"Versión de TensorFlow:\", tf.__version__)"
      ]
    },
    {
      "cell_type": "markdown",
      "id": "b0a44853-066f-4873-8292-d5efd5e93c88",
      "metadata": {
        "id": "b0a44853-066f-4873-8292-d5efd5e93c88"
      },
      "source": [
        "#### Datos\n",
        "\n",
        "Ocuparemos una base de datos muy utilizada en DL y que es abierta para su uso, conocida como MNIST ([sitio oficial](http://yann.lecun.com/exdb/mnist/), [artículo en Wikipedia](https://en.wikipedia.org/wiki/MNIST_database)) esta base de datos consiste en imágenes con dígitos del 0 al 9 escritos a mano."
      ]
    },
    {
      "cell_type": "code",
      "execution_count": 2,
      "id": "13c089e3-c07a-4c79-85a1-51cf4a0520c2",
      "metadata": {
        "id": "13c089e3-c07a-4c79-85a1-51cf4a0520c2",
        "outputId": "bddd3004-9bc6-4a92-b836-a21f0f3362a7",
        "colab": {
          "base_uri": "https://localhost:8080/"
        }
      },
      "outputs": [
        {
          "output_type": "stream",
          "name": "stdout",
          "text": [
            "Downloading data from https://storage.googleapis.com/tensorflow/tf-keras-datasets/mnist.npz\n",
            "11493376/11490434 [==============================] - 0s 0us/step\n",
            "11501568/11490434 [==============================] - 0s 0us/step\n"
          ]
        }
      ],
      "source": [
        "mnist = tf.keras.datasets.mnist ## Cargamos localmente el dataset que está precargado en tensorflow\n",
        "\n",
        "## Lo leemos y a su vez separamos en set de train y test\n",
        "(x_train, y_train), (x_test, y_test) = mnist.load_data()"
      ]
    },
    {
      "cell_type": "markdown",
      "id": "3beb16f1-f876-4b99-847c-bda5f0d50a96",
      "metadata": {
        "id": "3beb16f1-f876-4b99-847c-bda5f0d50a96"
      },
      "source": [
        "Exploremos ahora un poco el dataset para saber con qué estamos trabajando"
      ]
    },
    {
      "cell_type": "code",
      "execution_count": 4,
      "id": "0c950af9-bc41-47a5-80a2-7ef01d6ab68c",
      "metadata": {
        "id": "0c950af9-bc41-47a5-80a2-7ef01d6ab68c",
        "outputId": "77510bb0-e2aa-46be-9f89-2ac56b97186b",
        "colab": {
          "base_uri": "https://localhost:8080/"
        }
      },
      "outputs": [
        {
          "output_type": "stream",
          "name": "stdout",
          "text": [
            "(60000, 28, 28)\n",
            "(10000, 28, 28)\n"
          ]
        }
      ],
      "source": [
        "print(x_train.shape) # De aquí podemos ver cuántas imágenes hay en el set de train, y qué tamaño tienen\n",
        "print(x_test.shape) # Igualmente para el de test"
      ]
    },
    {
      "cell_type": "markdown",
      "id": "33803b5c-3e4b-45cb-87c8-59e4ededc601",
      "metadata": {
        "id": "33803b5c-3e4b-45cb-87c8-59e4ededc601"
      },
      "source": [
        "Es decir, hay 60,000 imágenes en el set de train, y 10,000 en el de test. Todas estas imágenes son de 28x28 pixeles. Vamos a explorarlas un poco más."
      ]
    },
    {
      "cell_type": "code",
      "execution_count": 5,
      "id": "035a5773-d220-40d3-852e-9d90379f8b0a",
      "metadata": {
        "id": "035a5773-d220-40d3-852e-9d90379f8b0a",
        "outputId": "3bc4dd4f-2d76-4078-95c5-d96e9986cd76",
        "colab": {
          "base_uri": "https://localhost:8080/"
        }
      },
      "outputs": [
        {
          "output_type": "stream",
          "name": "stdout",
          "text": [
            "[[  0   0   0   0   0   0   0   0   0   0   0   0   0   0   0   0   0   0\n",
            "    0   0   0   0   0   0   0   0   0   0]\n",
            " [  0   0   0   0   0   0   0   0   0   0   0   0   0   0   0   0   0   0\n",
            "    0   0   0   0   0   0   0   0   0   0]\n",
            " [  0   0   0   0   0   0   0   0   0   0   0   0   0   0   0   0   0   0\n",
            "    0   0   0   0   0   0   0   0   0   0]\n",
            " [  0   0   0   0   0   0   0   0   0   0   0   0   0   0   0   0   0   0\n",
            "    0   0   0   0   0   0   0   0   0   0]\n",
            " [  0   0   0   0   0   0   0   0   0   0   0   0   0   0   0   0   0   0\n",
            "    0   0   0   0   0   0   0   0   0   0]\n",
            " [  0   0   0   0   0   0   0   0   0   0   0   0   3  18  18  18 126 136\n",
            "  175  26 166 255 247 127   0   0   0   0]\n",
            " [  0   0   0   0   0   0   0   0  30  36  94 154 170 253 253 253 253 253\n",
            "  225 172 253 242 195  64   0   0   0   0]\n",
            " [  0   0   0   0   0   0   0  49 238 253 253 253 253 253 253 253 253 251\n",
            "   93  82  82  56  39   0   0   0   0   0]\n",
            " [  0   0   0   0   0   0   0  18 219 253 253 253 253 253 198 182 247 241\n",
            "    0   0   0   0   0   0   0   0   0   0]\n",
            " [  0   0   0   0   0   0   0   0  80 156 107 253 253 205  11   0  43 154\n",
            "    0   0   0   0   0   0   0   0   0   0]\n",
            " [  0   0   0   0   0   0   0   0   0  14   1 154 253  90   0   0   0   0\n",
            "    0   0   0   0   0   0   0   0   0   0]\n",
            " [  0   0   0   0   0   0   0   0   0   0   0 139 253 190   2   0   0   0\n",
            "    0   0   0   0   0   0   0   0   0   0]\n",
            " [  0   0   0   0   0   0   0   0   0   0   0  11 190 253  70   0   0   0\n",
            "    0   0   0   0   0   0   0   0   0   0]\n",
            " [  0   0   0   0   0   0   0   0   0   0   0   0  35 241 225 160 108   1\n",
            "    0   0   0   0   0   0   0   0   0   0]\n",
            " [  0   0   0   0   0   0   0   0   0   0   0   0   0  81 240 253 253 119\n",
            "   25   0   0   0   0   0   0   0   0   0]\n",
            " [  0   0   0   0   0   0   0   0   0   0   0   0   0   0  45 186 253 253\n",
            "  150  27   0   0   0   0   0   0   0   0]\n",
            " [  0   0   0   0   0   0   0   0   0   0   0   0   0   0   0  16  93 252\n",
            "  253 187   0   0   0   0   0   0   0   0]\n",
            " [  0   0   0   0   0   0   0   0   0   0   0   0   0   0   0   0   0 249\n",
            "  253 249  64   0   0   0   0   0   0   0]\n",
            " [  0   0   0   0   0   0   0   0   0   0   0   0   0   0  46 130 183 253\n",
            "  253 207   2   0   0   0   0   0   0   0]\n",
            " [  0   0   0   0   0   0   0   0   0   0   0   0  39 148 229 253 253 253\n",
            "  250 182   0   0   0   0   0   0   0   0]\n",
            " [  0   0   0   0   0   0   0   0   0   0  24 114 221 253 253 253 253 201\n",
            "   78   0   0   0   0   0   0   0   0   0]\n",
            " [  0   0   0   0   0   0   0   0  23  66 213 253 253 253 253 198  81   2\n",
            "    0   0   0   0   0   0   0   0   0   0]\n",
            " [  0   0   0   0   0   0  18 171 219 253 253 253 253 195  80   9   0   0\n",
            "    0   0   0   0   0   0   0   0   0   0]\n",
            " [  0   0   0   0  55 172 226 253 253 253 253 244 133  11   0   0   0   0\n",
            "    0   0   0   0   0   0   0   0   0   0]\n",
            " [  0   0   0   0 136 253 253 253 212 135 132  16   0   0   0   0   0   0\n",
            "    0   0   0   0   0   0   0   0   0   0]\n",
            " [  0   0   0   0   0   0   0   0   0   0   0   0   0   0   0   0   0   0\n",
            "    0   0   0   0   0   0   0   0   0   0]\n",
            " [  0   0   0   0   0   0   0   0   0   0   0   0   0   0   0   0   0   0\n",
            "    0   0   0   0   0   0   0   0   0   0]\n",
            " [  0   0   0   0   0   0   0   0   0   0   0   0   0   0   0   0   0   0\n",
            "    0   0   0   0   0   0   0   0   0   0]]\n"
          ]
        }
      ],
      "source": [
        "# Algunas bibliotecas que nos van a ser de mucha ayuda\n",
        "import numpy as np\n",
        "import matplotlib.pyplot as plt\n",
        "\n",
        "# Veamos cómo luce una imagen\n",
        "imagen = x_train[0]\n",
        "print(imagen)\n",
        "\n",
        "# [0   0   0   0   0   0   0   0   0   0   0   0   0   0   0   0   0   0 0   0   0   0   0   0   0   0   0   0 0   0   0   0   0   0   0   0   0   0   0   0   0   0   0   0   0   0 0   0   0   0   0   0   0   0   0   0"
      ]
    },
    {
      "cell_type": "code",
      "execution_count": 6,
      "id": "1a5b9ff5-9b42-4aeb-8b3e-0d84e86a6893",
      "metadata": {
        "id": "1a5b9ff5-9b42-4aeb-8b3e-0d84e86a6893",
        "outputId": "c4414716-260a-4f82-be9e-0be8e0446f34",
        "colab": {
          "base_uri": "https://localhost:8080/",
          "height": 265
        }
      },
      "outputs": [
        {
          "output_type": "display_data",
          "data": {
            "image/png": "[encoded data removed]",
            "text/plain": [
              "<Figure size 432x288 with 2 Axes>"
            ]
          },
          "metadata": {
            "needs_background": "light"
          }
        }
      ],
      "source": [
        "# Mejor veamos cómo serían esos números convertidos a una imagen\n",
        "plt.figure()\n",
        "plt.imshow(imagen, cmap=plt.cm.binary)\n",
        "plt.colorbar()\n",
        "plt.show()"
      ]
    },
    {
      "cell_type": "code",
      "execution_count": 7,
      "id": "35a18fa7-5fbb-4a3f-965b-8044a06a05f0",
      "metadata": {
        "id": "35a18fa7-5fbb-4a3f-965b-8044a06a05f0",
        "outputId": "b1a502d7-8887-4377-beca-d7c9b67aba2c",
        "colab": {
          "base_uri": "https://localhost:8080/"
        }
      },
      "outputs": [
        {
          "output_type": "stream",
          "name": "stdout",
          "text": [
            "5\n"
          ]
        }
      ],
      "source": [
        "# Veamos cómo luce la \"predicción esperada\" que corresponde a esa imagen\n",
        "prediccion = y_train[0]\n",
        "print(prediccion)"
      ]
    },
    {
      "cell_type": "markdown",
      "id": "6062eb11-e4fe-4fc9-b562-eafd2c62e9a0",
      "metadata": {
        "id": "6062eb11-e4fe-4fc9-b562-eafd2c62e9a0"
      },
      "source": [
        "Como pudiste notar tanto en la matriz, como en la escala de colores de la imagen, los valores van desde 0 hasta 255 (código RGB de 8-bits usualmente), una técnica muy común cuando se trabaja con imágenes es transformarlas y pasar de un rango [0, 255] a uno [0, 1] de forma que los valores no tiendan a infinito si se mutiplican en algún momento.\n",
        "\n",
        "Podemos hacer eso fácilmente porque nuestras imágenes son tensores (algo muy parecido a un arreglo de Numpy multi-dimensional) a los que les podemos aplicar operaciones matemáticas de la forma que ya conocemos."
      ]
    },
    {
      "cell_type": "code",
      "execution_count": 8,
      "id": "fd9b9fca-7ac3-491e-809d-663c154da37f",
      "metadata": {
        "id": "fd9b9fca-7ac3-491e-809d-663c154da37f"
      },
      "outputs": [],
      "source": [
        "x_train, x_test = x_train / 255, x_test / 255 # dividimos entre el valor máximo para normalizar"
      ]
    },
    {
      "cell_type": "markdown",
      "id": "0cb028f8-4840-491c-bee8-22ffb39a0207",
      "metadata": {
        "id": "0cb028f8-4840-491c-bee8-22ffb39a0207"
      },
      "source": [
        "Veamos cómo lucen algunos de nuestras imágenes en el set de train"
      ]
    },
    {
      "cell_type": "code",
      "execution_count": 9,
      "id": "926ea635-92fa-4874-ac8b-11a24ef60990",
      "metadata": {
        "id": "926ea635-92fa-4874-ac8b-11a24ef60990",
        "outputId": "c0117d7b-e195-4464-96e4-4a033d1e7801",
        "colab": {
          "base_uri": "https://localhost:8080/",
          "height": 589
        }
      },
      "outputs": [
        {
          "output_type": "display_data",
          "data": {
            "image/png": "[encoded data removed]",
            "text/plain": [
              "<Figure size 720x720 with 25 Axes>"
            ]
          },
          "metadata": {}
        }
      ],
      "source": [
        "# Guardemos cuántas imágenes hay en el set de train\n",
        "train_len = x_train.shape[0]\n",
        "\n",
        "# Hagamos múltiples sub-gráficas en una misma\n",
        "plt.figure(figsize=(10,10))\n",
        "for i in range(25):\n",
        "    plt.subplot(5,5,i+1)\n",
        "    plt.xticks([])\n",
        "    plt.yticks([])\n",
        "    plt.grid(False)\n",
        "    indice_random = np.random.randint(train_len) # seleccionamos un índice de imagen al azar\n",
        "    imagen_random = x_train[indice_random]\n",
        "    plt.imshow(imagen_random, cmap=plt.cm.binary) # desplegamos la imagen\n",
        "    plt.xlabel(y_train[indice_random]) # desplegamos su correspondiente predicción esperada\n",
        "plt.show()"
      ]
    },
    {
      "cell_type": "markdown",
      "id": "bb33232a-dacd-46ae-a992-7137711e00ce",
      "metadata": {
        "tags": [],
        "id": "bb33232a-dacd-46ae-a992-7137711e00ce"
      },
      "source": [
        "#### Arquitectura\n",
        "Veamos la parte más intrigante de construir un modelo de DL, la arquitectura de la red.\n",
        "\n",
        "En esta ocasión vamos a entrenar un modelo tipo ANN simple, con únicamente una capa oculta, para eso vamos a ocupar la función [`Sequential` de TensorFlow](https://www.tensorflow.org/api_docs/python/tf/keras/Sequential), la cual nos permite ir agregando capas de forma secuencial como si fueran una lista de pasos.\n",
        "\n",
        "En este caso nuestra red va a tener una forma del tipo:\n",
        "> - Capa de entrada de **28x28 (784) neuronas**\n",
        "> - Una **capa oculta con 300 neuronas y función de activación del tipo ReLU** ([más aquí](https://towardsdatascience.com/activation-functions-neural-networks-1cbd9f8d91d6))\n",
        ">> <img src=\"https://github.com/ulises1229/Intro-ML-Python/blob/master/figs/activation_functions.png?raw=1\" width=400 />\n",
        ">> \n",
        ">> Fig. 8: Gráficas de diferentes funciones de activación comúnmente utilizadas\n",
        "> - Una estrategia del tipo **_dropout_ con probabilidad 0.5**\n",
        ">> <img src=\"https://github.com/ulises1229/Intro-ML-Python/blob/master/figs/dropout.png?raw=1\" width=400 />\n",
        ">>\n",
        ">> Fig. 9: Esquema de la funcionalidad de una estrategia de _dropout_ donde antes de la iteración todos los pesos $w_i \\neq 0$, y en la iteración siguiente un cierto número de conexiones _j_ (dado por la probabilidad) tiene peso $w_j = 0$ durante esa iteración.\n",
        "> - Una capa de salida con **10 neuronas**"
      ]
    },
    {
      "cell_type": "code",
      "source": [
        "np.unique(y_train)"
      ],
      "metadata": {
        "id": "zgRLOAhkuXjz",
        "outputId": "97654b83-b724-4c9a-fb83-18297deb9c07",
        "colab": {
          "base_uri": "https://localhost:8080/"
        }
      },
      "id": "zgRLOAhkuXjz",
      "execution_count": 13,
      "outputs": [
        {
          "output_type": "execute_result",
          "data": {
            "text/plain": [
              "array([0, 1, 2, 3, 4, 5, 6, 7, 8, 9], dtype=uint8)"
            ]
          },
          "metadata": {},
          "execution_count": 13
        }
      ]
    },
    {
      "cell_type": "code",
      "execution_count": 14,
      "id": "e0df7951-de0b-4103-9083-20d4bda866b3",
      "metadata": {
        "id": "e0df7951-de0b-4103-9083-20d4bda866b3"
      },
      "outputs": [],
      "source": [
        "# Creamos nuestro primer modelo en tensorflow\n",
        "tamano_imagen = imagen.shape # tamaño de las imágenes en pixeles\n",
        "numero_categorias = len(np.unique(y_train)) # número de categorías a predecir\n",
        "\n",
        "primer_modelo = tf.keras.models.Sequential([\n",
        "  tf.keras.layers.Flatten(input_shape=tamano_imagen), # capa de entrada\n",
        "  tf.keras.layers.Dense(300, activation='relu'), # capa oculta\n",
        "  tf.keras.layers.Dropout(0.5),\n",
        "  tf.keras.layers.Dense(numero_categorias)\n",
        "])"
      ]
    },
    {
      "cell_type": "code",
      "execution_count": 15,
      "id": "698057b7-9d6c-4483-b07e-661366cf708f",
      "metadata": {
        "id": "698057b7-9d6c-4483-b07e-661366cf708f",
        "outputId": "eafe443b-6db7-4c6f-b29d-e2968730ec0a",
        "colab": {
          "base_uri": "https://localhost:8080/",
          "height": 282
        }
      },
      "outputs": [
        {
          "output_type": "stream",
          "name": "stdout",
          "text": [
            "(1, 28, 28)\n"
          ]
        },
        {
          "output_type": "display_data",
          "data": {
            "image/png": "[encoded data removed]",
            "text/plain": [
              "<Figure size 432x288 with 1 Axes>"
            ]
          },
          "metadata": {
            "needs_background": "light"
          }
        }
      ],
      "source": [
        "# Retomamos nuestra imagen del 5 que ya habíamos ocupado antes\n",
        "plt.imshow(x_train[:1][0], cmap=plt.cm.binary);\n",
        "print(x_train[:1].shape)"
      ]
    },
    {
      "cell_type": "code",
      "execution_count": 16,
      "id": "8d487d59-4d9f-476e-9489-cf4e1a4c5e11",
      "metadata": {
        "id": "8d487d59-4d9f-476e-9489-cf4e1a4c5e11",
        "outputId": "352865b2-27fe-49f2-d029-c36db887fb55",
        "colab": {
          "base_uri": "https://localhost:8080/"
        }
      },
      "outputs": [
        {
          "output_type": "stream",
          "name": "stdout",
          "text": [
            "(1, 10)\n"
          ]
        },
        {
          "output_type": "execute_result",
          "data": {
            "text/plain": [
              "array([[ 0.79571295,  0.09715908,  0.412055  , -1.133969  ,  0.391328  ,\n",
              "         0.4603452 , -0.42867747,  0.1379951 ,  0.48105997,  0.31286514]],\n",
              "      dtype=float32)"
            ]
          },
          "metadata": {},
          "execution_count": 16
        }
      ],
      "source": [
        "# Veamos qué sucede si aplicamos nuestro modelo a una de nuestras imágenes del set de train\n",
        "prediccion_primer_modelo = primer_modelo(x_train[:1]).numpy()\n",
        "print(prediccion_primer_modelo.shape)\n",
        "prediccion_primer_modelo"
      ]
    },
    {
      "cell_type": "markdown",
      "id": "64b5c482-c8fd-42c1-a448-c081e89cc148",
      "metadata": {
        "id": "64b5c482-c8fd-42c1-a448-c081e89cc148"
      },
      "source": [
        "¿Qué significa este resultado? Bueno, simplemente son resultados que arroja la capa de salida de nuestro modelo, que si recordamos tenía 10 neuronas, mismas que nos están dando un valor final y por tanto un vector de dimensión 10. Y eso quiere decir que... ¿Cuál es la predicción entonces?"
      ]
    },
    {
      "cell_type": "markdown",
      "id": "7c55ff68-cf9b-42ae-81ca-9aa65688fe0f",
      "metadata": {
        "id": "7c55ff68-cf9b-42ae-81ca-9aa65688fe0f"
      },
      "source": [
        "##### Regresión vs Clasificación\n",
        "\n",
        "Si nuestro problema fuera de regresión, seguramente este valor nos sería de mucha utilidad y podríamos tomarlo como la predicción del modelo. Sin embargo, nuestro problema es de clasificación **¿cierto?**.\n",
        "\n",
        "Para situaciones de clasificación usualmente se utiliza una capa extra, conocida como _softmax_ y que nos permite crear una distribución donde la suma de todos los valores del vector de salida sea 1. En conclusión, algo que podemos interpretar como una distribución de probabilidades, y por tanto cada valor del vector representará la probabilidad de que la respuesta sea cada dígito de las opciones posibles (en este caso diez, dpigitos del 0 al 9). Veamos esto en acción."
      ]
    },
    {
      "cell_type": "code",
      "execution_count": 19,
      "id": "b8e8e1b5-bfb8-4dbb-9c0a-7851ae288860",
      "metadata": {
        "id": "b8e8e1b5-bfb8-4dbb-9c0a-7851ae288860",
        "outputId": "f91d4517-5579-4c81-dd6d-badc43d72de5",
        "colab": {
          "base_uri": "https://localhost:8080/"
        }
      },
      "outputs": [
        {
          "output_type": "stream",
          "name": "stdout",
          "text": [
            "(1, 10)\n"
          ]
        },
        {
          "output_type": "execute_result",
          "data": {
            "text/plain": [
              "array([0.17049251, 0.0847866 , 0.11616755, 0.02475456, 0.11378451,\n",
              "       0.12191495, 0.05011403, 0.08832062, 0.12446672, 0.10519792],\n",
              "      dtype=float32)"
            ]
          },
          "metadata": {},
          "execution_count": 19
        }
      ],
      "source": [
        "tensor_probabilidades = tf.nn.softmax(prediccion_primer_modelo).numpy()\n",
        "print(tensor_probabilidades.shape)\n",
        "probabilidades = tensor_probabilidades[0] # En realidad es un tensor con un único elemento, que es la predicción a nuestra primera imagen\n",
        "probabilidades"
      ]
    },
    {
      "cell_type": "code",
      "execution_count": 20,
      "id": "653fe80e-c3cc-4de5-87df-30e356557195",
      "metadata": {
        "id": "653fe80e-c3cc-4de5-87df-30e356557195",
        "outputId": "04eb6826-7a2a-4077-8b25-0df4fdbf5e92",
        "colab": {
          "base_uri": "https://localhost:8080/"
        }
      },
      "outputs": [
        {
          "output_type": "stream",
          "name": "stdout",
          "text": [
            "La probabilidad de que sea un 0 es 0.170\n",
            "La probabilidad de que sea un 1 es 0.085\n",
            "La probabilidad de que sea un 2 es 0.116\n",
            "La probabilidad de que sea un 3 es 0.025\n",
            "La probabilidad de que sea un 4 es 0.114\n",
            "La probabilidad de que sea un 5 es 0.122\n",
            "La probabilidad de que sea un 6 es 0.050\n",
            "La probabilidad de que sea un 7 es 0.088\n",
            "La probabilidad de que sea un 8 es 0.124\n",
            "La probabilidad de que sea un 9 es 0.105\n",
            "\n",
            "La probabilidad más alta es que sea un dígito 0 con probabilidad 0.170\n"
          ]
        }
      ],
      "source": [
        "for i, proba in enumerate(probabilidades):\n",
        "    print(f\"La probabilidad de que sea un {i} es {proba:.3f}\")\n",
        "\n",
        "print(f\"\\nLa probabilidad más alta es que sea un dígito {np.argmax(probabilidades)} con probabilidad {np.max(probabilidades):.3f}\")"
      ]
    },
    {
      "cell_type": "markdown",
      "id": "fdd9b6a6-7359-4594-94b0-23289822055b",
      "metadata": {
        "id": "fdd9b6a6-7359-4594-94b0-23289822055b"
      },
      "source": [
        "#### Función de pérdida \n",
        "Como podemos ver, el modelo en realidad es bastante malo para predecir y en este caso es evidente para nosotros que se equivocó, pero para comunicarle eso es necesario utilizar una función de pérdida, la cual le diga de forma matemática al modelo qué tanto y cómo se equivocó.\n",
        "\n",
        "Para este ejemplo vamos a utilizar la función _Sparse Categorical Cross Entropy_ que nos permite evaluar entre varias clases y no solo de forma binaria (puedes ver más [de esta función de pérdida](https://www.tensorflow.org/api_docs/python/tf/keras/losses/SparseCategoricalCrossentropy), o la lista de [todas las disponibles en TensorFlow](https://www.tensorflow.org/api_docs/python/tf/keras/losses)) y también considera que tú puedes hacer tus propias funciones de pérdida si es necesario."
      ]
    },
    {
      "cell_type": "code",
      "execution_count": 22,
      "id": "d66d4538-57eb-4770-bdf0-1dbb5cead504",
      "metadata": {
        "id": "d66d4538-57eb-4770-bdf0-1dbb5cead504",
        "outputId": "05cb8d27-e2d8-4d48-c5cb-c0bcdae51000",
        "colab": {
          "base_uri": "https://localhost:8080/"
        }
      },
      "outputs": [
        {
          "output_type": "execute_result",
          "data": {
            "text/plain": [
              "2.1044316"
            ]
          },
          "metadata": {},
          "execution_count": 22
        }
      ],
      "source": [
        "# creamos una nueva instancia de esta función de pérdida, la cual vamos a ocupar para medir el error\n",
        "funcion_perdida = tf.keras.losses.SparseCategoricalCrossentropy(from_logits=True) # from_logits hace referencia a que tiene que convertir primero a distribución de probabilidades\n",
        "\n",
        "funcion_perdida(y_train[:1], prediccion_primer_modelo).numpy() # Una respuesta aleatoria sería equivalente a tf.math.log(1/10) ~= 2.3 (1/10 de probabilidad de que fuera correcta por simple azar)"
      ]
    },
    {
      "cell_type": "markdown",
      "id": "c60be848-4b06-4459-a82c-a4b8e5ba09c9",
      "metadata": {
        "id": "c60be848-4b06-4459-a82c-a4b8e5ba09c9"
      },
      "source": [
        "Es decir, la probabilidad de que salga la categoría correcta es equivalente a que saliera por simple azar dado que $log(\\frac{1}{10}) \\approx 2.3$"
      ]
    },
    {
      "cell_type": "markdown",
      "id": "dae7e35c-0df1-4cb4-a011-5d55742ca8f9",
      "metadata": {
        "id": "dae7e35c-0df1-4cb4-a011-5d55742ca8f9"
      },
      "source": [
        "#### Optimizador\n",
        "Ya que tenemos cómo medir el error, ahora solo falta definir la forma matemática en que vamos a actualizar los parémetros durante el entrenamiento, en otras palabras un optimizador. En este caso vamos a partir del más común, el Stochastic Gradient Descente (SGD), pero no dudes en revisar todos los disponibles en [la lista de TensorFlow](https://www.tensorflow.org/api_docs/python/tf/keras/optimizers)"
      ]
    },
    {
      "cell_type": "markdown",
      "id": "41b96a52-524e-4bf3-9629-d14cdcfb0a8e",
      "metadata": {
        "id": "41b96a52-524e-4bf3-9629-d14cdcfb0a8e"
      },
      "source": [
        "#### Compilar (TensorFlow)\n",
        "Cuando creamos un modelo de deep learning en TensorFlow es conveniente compilarlo antes de empezar con el entrenamiento, esto nos permite que sea más rápido y controlado, así como par definir las características que va a tener el entrenamiento, como lo es la función de pérdida y el optimizador a utilizar."
      ]
    },
    {
      "cell_type": "code",
      "execution_count": 23,
      "id": "7be600d5-7daa-42dc-a708-6ba85af1343e",
      "metadata": {
        "id": "7be600d5-7daa-42dc-a708-6ba85af1343e"
      },
      "outputs": [],
      "source": [
        "primer_modelo.compile(optimizer='sgd', loss=funcion_perdida, metrics=['accuracy']) # compilamos nuestro modelo y definimos que la forma de medir su rendimiento sea a través del 'accuracy'"
      ]
    },
    {
      "cell_type": "markdown",
      "id": "7173ad9a-beb4-4e84-859a-761d844faa82",
      "metadata": {
        "id": "7173ad9a-beb4-4e84-859a-761d844faa82"
      },
      "source": [
        "#### Entrenamiento\n",
        "Una vez que ya tenemos nuestro modelo compilado, el último paso es comenzar a entrenar con los datos. ¡Sí, por fin lo lograste! En este caso vamos a darle el set de train para entrenar, y definimos que haga **5** vueltas de entrenamiento con el set completo (_epochs_)."
      ]
    },
    {
      "cell_type": "code",
      "execution_count": 47,
      "id": "fc3c8e5e-bca9-43d5-80b9-4131ca393358",
      "metadata": {
        "id": "fc3c8e5e-bca9-43d5-80b9-4131ca393358",
        "outputId": "06d11f2f-a1a9-457c-a7e5-c5032039b1d0",
        "colab": {
          "base_uri": "https://localhost:8080/"
        }
      },
      "outputs": [
        {
          "output_type": "stream",
          "name": "stdout",
          "text": [
            "Epoch 1/5\n",
            "1875/1875 [==============================] - 9s 5ms/step - loss: 0.1666 - accuracy: 0.9517\n",
            "Epoch 2/5\n",
            "1875/1875 [==============================] - 6s 3ms/step - loss: 0.1600 - accuracy: 0.9544\n",
            "Epoch 3/5\n",
            "1875/1875 [==============================] - 5s 3ms/step - loss: 0.1561 - accuracy: 0.9551\n",
            "Epoch 4/5\n",
            "1875/1875 [==============================] - 6s 3ms/step - loss: 0.1512 - accuracy: 0.9570\n",
            "Epoch 5/5\n",
            "1875/1875 [==============================] - 5s 3ms/step - loss: 0.1473 - accuracy: 0.9585\n"
          ]
        },
        {
          "output_type": "execute_result",
          "data": {
            "text/plain": [
              "<keras.callbacks.History at 0x7feb6d88b290>"
            ]
          },
          "metadata": {},
          "execution_count": 47
        }
      ],
      "source": [
        "primer_modelo.fit(x_train, y_train, epochs=5)"
      ]
    },
    {
      "cell_type": "markdown",
      "id": "0904a70c-741a-4ee7-a602-3c719eed9cf1",
      "metadata": {
        "id": "0904a70c-741a-4ee7-a602-3c719eed9cf1"
      },
      "source": [
        "#### Evaluación\n",
        "**¡Así de fácil!** Qué te parece si ahora lo evaluamos sobre el set de test."
      ]
    },
    {
      "cell_type": "code",
      "execution_count": 26,
      "id": "9e35620d-c74c-40d0-9da7-8ff1d99ced22",
      "metadata": {
        "id": "9e35620d-c74c-40d0-9da7-8ff1d99ced22",
        "outputId": "06d9e1ed-8dc1-4b40-9bf5-b1106a7fca0c",
        "colab": {
          "base_uri": "https://localhost:8080/"
        }
      },
      "outputs": [
        {
          "output_type": "stream",
          "name": "stdout",
          "text": [
            "313/313 - 1s - loss: 0.1298 - accuracy: 0.9619 - 583ms/epoch - 2ms/step\n"
          ]
        },
        {
          "output_type": "execute_result",
          "data": {
            "text/plain": [
              "[0.12984363734722137, 0.961899995803833]"
            ]
          },
          "metadata": {},
          "execution_count": 26
        }
      ],
      "source": [
        "primer_modelo.evaluate(x_test,  y_test, verbose=2) # Obtenemos las métricas sobre el set de test"
      ]
    },
    {
      "cell_type": "markdown",
      "id": "126816e9-df8d-4f60-b5a9-0ddf731ca175",
      "metadata": {
        "id": "126816e9-df8d-4f60-b5a9-0ddf731ca175"
      },
      "source": [
        "Veamos esto un poco más claro retomando nuestro dígito 5 de más arriba."
      ]
    },
    {
      "cell_type": "code",
      "execution_count": 27,
      "id": "fc764877-c53d-4388-a3cb-0727c8708ce6",
      "metadata": {
        "id": "fc764877-c53d-4388-a3cb-0727c8708ce6",
        "outputId": "4f4288da-585c-4fa1-ad23-77fc8b3579bc",
        "colab": {
          "base_uri": "https://localhost:8080/",
          "height": 282
        }
      },
      "outputs": [
        {
          "output_type": "stream",
          "name": "stdout",
          "text": [
            "(1, 28, 28)\n"
          ]
        },
        {
          "output_type": "display_data",
          "data": {
            "image/png": "[encoded data removed]",
            "text/plain": [
              "<Figure size 432x288 with 1 Axes>"
            ]
          },
          "metadata": {
            "needs_background": "light"
          }
        }
      ],
      "source": [
        "# Retomamos nuestra imagen del 5 que ya habíamos ocupado antes\n",
        "plt.imshow(x_train[:1][0], cmap=plt.cm.binary);\n",
        "print(x_train[:1].shape)"
      ]
    },
    {
      "cell_type": "code",
      "execution_count": 29,
      "id": "efd86f60-aebb-4b5a-91f2-7a525ed90ead",
      "metadata": {
        "id": "efd86f60-aebb-4b5a-91f2-7a525ed90ead",
        "outputId": "cb6986e6-654e-4139-faac-b4e179140867",
        "colab": {
          "base_uri": "https://localhost:8080/"
        }
      },
      "outputs": [
        {
          "output_type": "stream",
          "name": "stdout",
          "text": [
            "[[1.7647794e-04 3.1815765e-05 3.4540845e-04 4.9706411e-02 2.9979738e-08\n",
            "  9.4963515e-01 6.8719069e-06 4.9782735e-05 7.3172350e-06 4.0694074e-05]]\n",
            "\n",
            "La probabilidad más alta es que sea un dígito 5 con probabilidad 0.950\n"
          ]
        }
      ],
      "source": [
        "# Evaluamos la predicción del modelo entrenado\n",
        "pred = primer_modelo(x_train[:1]).numpy()\n",
        "probabilidades = tf.nn.softmax(pred).numpy()\n",
        "print(probabilidades)\n",
        "print(f\"\\nLa probabilidad más alta es que sea un dígito {np.argmax(probabilidades[0])} con probabilidad {np.max(probabilidades[0]):.3f}\")"
      ]
    },
    {
      "cell_type": "code",
      "source": [
        "preds = primer_modelo(x_test) # predicción del modelo\n",
        "probabilidades = tf.nn.softmax(preds).numpy() # distribución de probabilidades\n",
        "respuestas = np.argmax(probabilidades, axis=1) # obtenemos el índice/respuesta de la predicción\n",
        "matriz = tf.math.confusion_matrix(y_test, respuestas)\n",
        "\n",
        "import seaborn as sns\n",
        "\n",
        "plt.figure(figsize=(10, 10))\n",
        "sns.heatmap(matriz, annot=True, fmt=\"d\", cmap=\"YlGnBu\")"
      ],
      "metadata": {
        "id": "w_5HhYpM70x1",
        "outputId": "5c408245-b0e4-4570-9c26-0ceb9cf9db70",
        "colab": {
          "base_uri": "https://localhost:8080/",
          "height": 609
        }
      },
      "id": "w_5HhYpM70x1",
      "execution_count": 50,
      "outputs": [
        {
          "output_type": "execute_result",
          "data": {
            "text/plain": [
              "<matplotlib.axes._subplots.AxesSubplot at 0x7feb77121550>"
            ]
          },
          "metadata": {},
          "execution_count": 50
        },
        {
          "output_type": "display_data",
          "data": {
            "image/png": "[encoded data removed]",
            "text/plain": [
              "<Figure size 720x720 with 2 Axes>"
            ]
          },
          "metadata": {
            "needs_background": "light"
          }
        }
      ]
    },
    {
      "cell_type": "markdown",
      "id": "62bc8720-a513-4696-a86a-036b67e589dd",
      "metadata": {
        "id": "62bc8720-a513-4696-a86a-036b67e589dd"
      },
      "source": [
        "---\n",
        "### Ejercicio 1\n",
        "Ahora que tenemos un modelo básico funcional, ¡es momento de explorar! Prueba modificando tu modelo (arquitectura, función de pérdida, optimizador, épocas de entrenamiento) para ver si puedes conseguir un mejor rendimiento. ¡Éxito!"
      ]
    },
    {
      "cell_type": "markdown",
      "id": "ba35116b-00a4-49cc-8ff9-1735b3948cb7",
      "metadata": {
        "id": "ba35116b-00a4-49cc-8ff9-1735b3948cb7"
      },
      "source": [
        "---\n",
        "#### Mejoras menores\n",
        "Podemos evitarnos la necesidad de evaluar dentro de la función de pérdida las probabilidades, y meterlas en nuestro modelo, de forma que la salida sea en sí la distribución de probabilidad de las posibles categorías."
      ]
    },
    {
      "cell_type": "code",
      "execution_count": 51,
      "id": "bf8e8332-53fd-4860-b357-08658a056fb9",
      "metadata": {
        "id": "bf8e8332-53fd-4860-b357-08658a056fb9",
        "outputId": "32705aad-64fb-4afa-b3ce-48e873dbe877",
        "colab": {
          "base_uri": "https://localhost:8080/"
        }
      },
      "outputs": [
        {
          "output_type": "stream",
          "name": "stdout",
          "text": [
            "Salida primer modelo: [[ 0.79571295  0.09715908  0.412055   -1.133969    0.391328    0.4603452\n",
            "  -0.42867747  0.1379951   0.48105997  0.31286514]]\n",
            "Salida modelo probabilidad: [[0.07805014 0.09830108 0.08901644 0.08296528 0.0792246  0.06488118\n",
            "  0.10436301 0.04208934 0.17502213 0.18608685]]\n"
          ]
        }
      ],
      "source": [
        "# Podemos hacerlo agregrando una nueva capa al modelo que ya teníamos, o volviendo a construirlo y agregándola al final de la secuencia de capas\n",
        "modelo_probabilidad = tf.keras.Sequential([\n",
        "  primer_modelo,\n",
        "  tf.keras.layers.Softmax()\n",
        "])\n",
        "\n",
        "# Que es equivalente a este\n",
        "modelo_probabilidad = tf.keras.models.Sequential([\n",
        "  tf.keras.layers.Flatten(input_shape=tamano_imagen),\n",
        "  tf.keras.layers.Dense(300, activation='relu'),\n",
        "  tf.keras.layers.Dropout(0.5),\n",
        "  tf.keras.layers.Dense(numero_categorias),\n",
        "  tf.keras.layers.Softmax() # nueva capa\n",
        "])\n",
        "\n",
        "pred_modelo_proba = modelo_probabilidad(x_train[:1]).numpy()\n",
        "# Vemos cómo luce ahora la salida en comparación con la anterior\n",
        "print(f\"Salida primer modelo: {prediccion_primer_modelo}\\nSalida modelo probabilidad: {pred_modelo_proba}\")"
      ]
    },
    {
      "cell_type": "code",
      "execution_count": 53,
      "id": "b59f13d2-1ef0-407d-928b-5c6e2b7e2c28",
      "metadata": {
        "id": "b59f13d2-1ef0-407d-928b-5c6e2b7e2c28"
      },
      "outputs": [],
      "source": [
        "# Podemos hacer el proceso de entrenar nuestro modelo de probbailidad, pero hay que hacer cambios mínimos, principalmente en la función de pérdida\n",
        "funcion_perdida_proba = tf.keras.losses.SparseCategoricalCrossentropy() # ahora que la salida es una densidad de probabilidades, podemos ignorar el parámetro `from_logits` ya que el _default_ es `False`\n",
        "modelo_probabilidad.compile(optimizer='sgd', loss=funcion_perdida_proba, metrics=['accuracy'])"
      ]
    },
    {
      "cell_type": "code",
      "execution_count": 54,
      "id": "ab903b62-65c0-435e-aa53-eaeb8bb848d0",
      "metadata": {
        "id": "ab903b62-65c0-435e-aa53-eaeb8bb848d0",
        "outputId": "d29df3f0-71ae-44f9-c3c1-80fa9f498c64",
        "colab": {
          "base_uri": "https://localhost:8080/"
        }
      },
      "outputs": [
        {
          "output_type": "stream",
          "name": "stdout",
          "text": [
            "Epoch 1/5\n",
            "1875/1875 [==============================] - 5s 3ms/step - loss: 0.7343 - accuracy: 0.7903\n",
            "Epoch 2/5\n",
            "1875/1875 [==============================] - 5s 3ms/step - loss: 0.4026 - accuracy: 0.8837\n",
            "Epoch 3/5\n",
            "1875/1875 [==============================] - 5s 3ms/step - loss: 0.3373 - accuracy: 0.9034\n",
            "Epoch 4/5\n",
            "1875/1875 [==============================] - 5s 3ms/step - loss: 0.2967 - accuracy: 0.9149\n",
            "Epoch 5/5\n",
            "1875/1875 [==============================] - 5s 3ms/step - loss: 0.2682 - accuracy: 0.9236\n",
            "313/313 - 1s - loss: 0.2003 - accuracy: 0.9447 - 535ms/epoch - 2ms/step\n"
          ]
        },
        {
          "output_type": "execute_result",
          "data": {
            "text/plain": [
              "[0.20027536153793335, 0.9447000026702881]"
            ]
          },
          "metadata": {},
          "execution_count": 54
        }
      ],
      "source": [
        "modelo_probabilidad.fit(x_train, y_train, epochs=5) # Entrenamos el nuevo modelo\n",
        "modelo_probabilidad.evaluate(x_test,  y_test, verbose=2) # Obtenemos las métricas sobre el set de test"
      ]
    },
    {
      "cell_type": "markdown",
      "id": "92c6ec36-28fe-47fd-b959-4af9f070d4de",
      "metadata": {
        "id": "92c6ec36-28fe-47fd-b959-4af9f070d4de"
      },
      "source": [
        "¡Impresionante, ahora sí ya hiciste tu primer gran entrada al mundo de Deep Learning!"
      ]
    },
    {
      "cell_type": "markdown",
      "id": "0021ac99-7d9c-4837-b086-7b095033e8ed",
      "metadata": {
        "id": "0021ac99-7d9c-4837-b086-7b095033e8ed"
      },
      "source": [
        "---\n",
        "### Evaluación con datos reales"
      ]
    },
    {
      "cell_type": "code",
      "execution_count": 57,
      "id": "72b71257-d14b-4c58-927a-13211a0e8798",
      "metadata": {
        "id": "72b71257-d14b-4c58-927a-13211a0e8798"
      },
      "outputs": [],
      "source": [
        "# Hagamos la prueba con sus imágenes, para probar la red en un caso real\n",
        "import os\n",
        "import PIL\n",
        "from PIL import Image, ImageOps\n",
        "\n",
        "images = []\n",
        "labels = []\n",
        "\n",
        "path = os.path.join('ENENIST')\n",
        "for im_path in os.listdir(path):\n",
        "    dot_split = im_path.split('.')\n",
        "    if dot_split[-1] in [\"png\", \"jpg\", \"jpeg\"]:\n",
        "        try:\n",
        "            label = int(dot_split[0].split('_')[-1])\n",
        "        except Exception as e:\n",
        "            print(f\"Error: {e} with image '{im_path}'\")\n",
        "            continue\n",
        "        im = Image.open(os.path.join(path, im_path))\n",
        "        im = im.resize((28, 28))\n",
        "        im = ImageOps.grayscale(im)\n",
        "        im = ImageOps.invert(im)\n",
        "        im_arr = np.asarray(im)\n",
        "        images.append(im_arr)\n",
        "        labels.append(label)\n",
        "\n",
        "x_new = tf.convert_to_tensor(images)\n",
        "#y_new = tf.convert_to_tensor(labels)\n",
        "y_new = labels"
      ]
    },
    {
      "cell_type": "code",
      "execution_count": 58,
      "id": "e588cbce-daa9-4c66-b828-03f7e9fdc33b",
      "metadata": {
        "id": "e588cbce-daa9-4c66-b828-03f7e9fdc33b",
        "outputId": "4fc7067f-d7c1-4cdf-fe9c-f14cffe564d9",
        "colab": {
          "base_uri": "https://localhost:8080/",
          "height": 425
        }
      },
      "outputs": [
        {
          "output_type": "display_data",
          "data": {
            "image/png": "[encoded data removed]",
            "text/plain": [
              "<Figure size 720x720 with 15 Axes>"
            ]
          },
          "metadata": {}
        }
      ],
      "source": [
        "preds = modelo_probabilidad(x_new).numpy()\n",
        "plt.figure(figsize=(10,10))\n",
        "for i in range(len(images)):\n",
        "    plt.subplot(len(images)//5+1,5,i+1)\n",
        "    plt.xticks([])\n",
        "    plt.yticks([])\n",
        "    plt.grid(False)\n",
        "    plt.imshow(x_new[i], cmap=plt.cm.binary)\n",
        "    plt.xlabel(f\"Real: {y_new[i]}   Pred: {np.argmax(preds[i])}\")\n",
        "plt.show()"
      ]
    },
    {
      "cell_type": "markdown",
      "id": "8f3da587-f630-40a3-96b0-91d9aa23f081",
      "metadata": {
        "id": "8f3da587-f630-40a3-96b0-91d9aa23f081"
      },
      "source": [
        "---\n",
        "### Fashion MNIST\n",
        "Probemos entrenar un modelo con otro dataset, ahora llamado _Fashoin MNIST_, el cual es muy similar a _MNIST_, pero de ropa. Nuevamente hay 10 categorías, en las cuales se pueden clasificar las imágenes que lo contienen, son las siguientes:\n",
        "\n",
        "|Etiqueta (label)|Categoría|\n",
        "|-|-|\n",
        "|0|T-shirt/top|\n",
        "|1|Trouser|\n",
        "|2|Pullover|\n",
        "|3|Dress|\n",
        "|4|Coat|\n",
        "|5|Sandal|\n",
        "|6|Shirt|\n",
        "|7|Sneaker|\n",
        "|8|Bag|\n",
        "|9|Ankle boot|"
      ]
    },
    {
      "cell_type": "code",
      "execution_count": 59,
      "id": "355064c0-1c5f-4d63-ba9b-ae4f1a1bbfaa",
      "metadata": {
        "id": "355064c0-1c5f-4d63-ba9b-ae4f1a1bbfaa",
        "outputId": "0c0d0f03-8f06-4964-d876-f57b820f43c9",
        "colab": {
          "base_uri": "https://localhost:8080/"
        }
      },
      "outputs": [
        {
          "output_type": "stream",
          "name": "stdout",
          "text": [
            "Downloading data from https://storage.googleapis.com/tensorflow/tf-keras-datasets/train-labels-idx1-ubyte.gz\n",
            "32768/29515 [=================================] - 0s 0us/step\n",
            "40960/29515 [=========================================] - 0s 0us/step\n",
            "Downloading data from https://storage.googleapis.com/tensorflow/tf-keras-datasets/train-images-idx3-ubyte.gz\n",
            "26427392/26421880 [==============================] - 0s 0us/step\n",
            "26435584/26421880 [==============================] - 0s 0us/step\n",
            "Downloading data from https://storage.googleapis.com/tensorflow/tf-keras-datasets/t10k-labels-idx1-ubyte.gz\n",
            "16384/5148 [===============================================================================================] - 0s 0us/step\n",
            "Downloading data from https://storage.googleapis.com/tensorflow/tf-keras-datasets/t10k-images-idx3-ubyte.gz\n",
            "4423680/4422102 [==============================] - 0s 0us/step\n",
            "4431872/4422102 [==============================] - 0s 0us/step\n",
            "Imágenes en set de train: 60000 de dimensión: (28, 28)\n",
            "Imágenes en set de test: 10000\n",
            "Etiquetas: [9 0 0 ... 3 0 5]\n"
          ]
        }
      ],
      "source": [
        "# Cargamos los datos\n",
        "fashion_mnist = tf.keras.datasets.fashion_mnist\n",
        "(x_train, y_train), (x_test, y_test) = fashion_mnist.load_data()\n",
        "\n",
        "print(f\"Imágenes en set de train: {x_train.shape[0]} de dimensión: {x_train.shape[1:]}\\nImágenes en set de test: {x_test.shape[0]}\")\n",
        "# Veamos cómo lucen las etiquetas\n",
        "print(f\"Etiquetas: {y_train}\")"
      ]
    },
    {
      "cell_type": "code",
      "execution_count": 60,
      "id": "367df580-b46f-40a9-a5b9-d7325ffccfda",
      "metadata": {
        "id": "367df580-b46f-40a9-a5b9-d7325ffccfda",
        "outputId": "c6be1560-9181-4e9e-bd81-32602e2e70f3",
        "colab": {
          "base_uri": "https://localhost:8080/"
        }
      },
      "outputs": [
        {
          "output_type": "execute_result",
          "data": {
            "text/plain": [
              "['Ankle boot',\n",
              " 'T-shirt/top',\n",
              " 'T-shirt/top',\n",
              " 'Dress',\n",
              " 'T-shirt/top',\n",
              " 'Pullover',\n",
              " 'Sneaker',\n",
              " 'Pullover',\n",
              " 'Sandal',\n",
              " 'Sandal']"
            ]
          },
          "metadata": {},
          "execution_count": 60
        }
      ],
      "source": [
        "# Para comprender mejor de forma humana, podemos hacer un arreglo con las categorías como texto\n",
        "nombres_clases = ['T-shirt/top', 'Trouser', 'Pullover', 'Dress', 'Coat', 'Sandal', 'Shirt', 'Sneaker', 'Bag', 'Ankle boot'] # lista de categorías en su índice correspondiente\n",
        "\n",
        "# Veamos cómo lucen las etiquetas convertidas a texto\n",
        "mapeo_etiqueta = lambda x: (list(map(lambda i: nombres_clases[i], x))) if type(x) != type(np.uint8()) else nombres_clases[x]\n",
        "etiquetas = mapeo_etiqueta(y_train)\n",
        "etiquetas[:10] # solo veamos las primeras 10 por simplicidad"
      ]
    },
    {
      "cell_type": "code",
      "execution_count": 61,
      "id": "ddffe3c6-0bfe-4bd8-a702-c1535d949b70",
      "metadata": {
        "id": "ddffe3c6-0bfe-4bd8-a702-c1535d949b70",
        "outputId": "835e90cc-cfd7-4e70-95f4-aacef805eb25",
        "colab": {
          "base_uri": "https://localhost:8080/",
          "height": 265
        }
      },
      "outputs": [
        {
          "output_type": "display_data",
          "data": {
            "image/png": "[encoded data removed]",
            "text/plain": [
              "<Figure size 432x288 with 2 Axes>"
            ]
          },
          "metadata": {
            "needs_background": "light"
          }
        }
      ],
      "source": [
        "# Visualizamos una de las imágenes\n",
        "plt.figure()\n",
        "plt.imshow(x_train[0], cmap=plt.cm.binary)\n",
        "plt.colorbar()\n",
        "plt.grid(False)\n",
        "plt.show()"
      ]
    },
    {
      "cell_type": "code",
      "execution_count": 62,
      "id": "a845a4ef-b598-49ed-872d-448b4dff619e",
      "metadata": {
        "id": "a845a4ef-b598-49ed-872d-448b4dff619e"
      },
      "outputs": [],
      "source": [
        "# Normalizamos las imágenes\n",
        "x_train, x_test = x_train / 255.0, x_test / 255.0"
      ]
    },
    {
      "cell_type": "code",
      "execution_count": 63,
      "id": "db724e29-4bde-4e66-a60a-50adfe13c5e5",
      "metadata": {
        "id": "db724e29-4bde-4e66-a60a-50adfe13c5e5",
        "outputId": "605a0002-718e-4a14-b3b7-9054b00b04ab",
        "colab": {
          "base_uri": "https://localhost:8080/",
          "height": 589
        }
      },
      "outputs": [
        {
          "output_type": "display_data",
          "data": {
            "image/png": "[encoded data removed]",
            "text/plain": [
              "<Figure size 720x720 with 25 Axes>"
            ]
          },
          "metadata": {}
        }
      ],
      "source": [
        "# Analicemos nuevamente un poco más de imágenes\n",
        "train_len = x_train.shape[0]\n",
        "\n",
        "# Hagamos múltiples sub-gráficas en una misma\n",
        "plt.figure(figsize=(10,10))\n",
        "for i in range(25):\n",
        "    plt.subplot(5,5,i+1)\n",
        "    plt.xticks([])\n",
        "    plt.yticks([])\n",
        "    plt.grid(False)\n",
        "    indice_random = np.random.randint(train_len) # seleccionamos un índice de imagen al azar\n",
        "    imagen_random = x_train[indice_random]\n",
        "    plt.imshow(imagen_random, cmap=plt.cm.binary) # desplegamos la imagen\n",
        "    y = y_train[indice_random]\n",
        "    plt.xlabel(f\"{mapeo_etiqueta(y)} ({y})\") # desplegamos su correspondiente predicción esperada, según el nombre de la clase correspondientes\n",
        "plt.show()"
      ]
    },
    {
      "cell_type": "markdown",
      "id": "16225478-2e44-421a-81c4-b6087914d03a",
      "metadata": {
        "id": "16225478-2e44-421a-81c4-b6087914d03a"
      },
      "source": [
        "---\n",
        "### Ejercicio 2\n",
        "Muy bien, ya tenemos los datos listos, ¡ahora hay que terminar los pasos restantes!\n",
        "Deberás:\n",
        "- Crear una arquitectura de red para entrenar con los nuevos datos\n",
        "- Seleccionar una función de pérdida que te permita evaluar de forma adecuada el error durante el entrenamiento\n",
        "- Elegir un optimizador para actualizar los parámetros de la red\n",
        "- Indicar el número de épocas que deseas que se entrene el modelo\n",
        "\n",
        "Una vez que tengas eso, ¡evalúa su desempeño en el set de test!"
      ]
    },
    {
      "cell_type": "markdown",
      "id": "35edea3b-1fde-4b4c-adc6-4f066019ceb1",
      "metadata": {
        "tags": [],
        "id": "35edea3b-1fde-4b4c-adc6-4f066019ceb1"
      },
      "source": [
        "---\n",
        "###### Ayudas para graficar\n",
        "Algunas funciones útiles para imprimir de forma más interesante los resultados del modelo (no te preocupes si no comprendes todo lo que está sucediendo en cada línea del código, solo son funciones adicionales complementarias para un mejor despliegue)"
      ]
    },
    {
      "cell_type": "code",
      "execution_count": 64,
      "id": "d1b8aeeb-a128-40ce-abb3-de82f19eb895",
      "metadata": {
        "id": "d1b8aeeb-a128-40ce-abb3-de82f19eb895"
      },
      "outputs": [],
      "source": [
        "class_names = ['T-shirt/top', 'Trouser', 'Pullover', 'Dress', 'Coat', 'Sandal', 'Shirt', 'Sneaker', 'Bag', 'Ankle boot']\n",
        "\n",
        "# Imprimimos una imagen en escala de grises, e indicamos la categoría predicha y la probabilidad con que lo asegura el modelo\n",
        "def plot_image(i, predictions_array, true_label, img):\n",
        "    true_label, img = true_label[i], img[i] # obtenemos los datos \n",
        "    plt.grid(False)\n",
        "    plt.xticks([])\n",
        "    plt.yticks([])\n",
        "    plt.imshow(img, cmap=plt.cm.binary) # desplegamos la imagen\n",
        "    \n",
        "    # Obtenemos la predicción de mayor probabilidad, y la pintamos según si fue correcta (azul) o incorrecta (roja)\n",
        "    predicted_label = np.argmax(predictions_array)\n",
        "    if predicted_label == true_label:\n",
        "        color = 'blue'\n",
        "    else:\n",
        "        color = 'red'\n",
        "    # Añadimos esa leyenda a la figura\n",
        "    plt.xlabel(\"{} {:2.0f}% ({})\".format(class_names[predicted_label],\n",
        "                                100*np.max(predictions_array),\n",
        "                                class_names[true_label]),\n",
        "                                color=color)\n",
        "\n",
        "\n",
        "# Gráfica de barras con la distribución de probabilidad para todas las categorías\n",
        "def plot_value_array(i, predictions_array, true_label):\n",
        "    true_label = true_label[i] # obtenemos la predicción correcta\n",
        "    plt.grid(False)\n",
        "    plt.xticks(range(10)) # colocamos 10 barras (número de categorías posibles)\n",
        "    plt.yticks([])\n",
        "    thisplot = plt.bar(range(10), predictions_array, color=\"#777777\") # hacemos una gráfica de barras\n",
        "    plt.ylim([0, 1]) # definimos el rango máximo\n",
        "    predicted_label = np.argmax(predictions_array) # obtenemos la predicción con mayor probabilidad\n",
        "\n",
        "    thisplot[predicted_label].set_color('red') # pintamos todas las erróneas de color rojo\n",
        "    thisplot[true_label].set_color('blue') # pintamos la correcta de azul"
      ]
    },
    {
      "cell_type": "code",
      "execution_count": 65,
      "id": "6768e259-de9a-4bdd-8024-04f79291869c",
      "metadata": {
        "id": "6768e259-de9a-4bdd-8024-04f79291869c",
        "outputId": "d431d14e-2332-4b25-dd29-c75301688ba0",
        "colab": {
          "base_uri": "https://localhost:8080/"
        }
      },
      "outputs": [
        {
          "output_type": "stream",
          "name": "stdout",
          "text": [
            "Epoch 1/3\n",
            "1875/1875 [==============================] - 4s 2ms/step - loss: 0.5044 - accuracy: 0.8224\n",
            "Epoch 2/3\n",
            "1875/1875 [==============================] - 4s 2ms/step - loss: 0.3800 - accuracy: 0.8635\n",
            "Epoch 3/3\n",
            "1875/1875 [==============================] - 4s 2ms/step - loss: 0.3411 - accuracy: 0.8770\n"
          ]
        }
      ],
      "source": [
        "model = tf.keras.Sequential([\n",
        "    tf.keras.layers.Flatten(input_shape=(28, 28)),\n",
        "    tf.keras.layers.Dense(128, activation='relu'),\n",
        "    tf.keras.layers.Dense(10)\n",
        "])\n",
        "\n",
        "model.compile(optimizer='adam',\n",
        "              loss=tf.keras.losses.SparseCategoricalCrossentropy(from_logits=True),\n",
        "              metrics=['accuracy'])\n",
        "\n",
        "model.fit(x_train, y_train, epochs=3)\n",
        "\n",
        "modelo_con_probabilidad = tf.keras.Sequential([model, \n",
        "                                         tf.keras.layers.Softmax()])"
      ]
    },
    {
      "cell_type": "markdown",
      "id": "3b432d5d-a181-453b-b695-7f12bde14218",
      "metadata": {
        "id": "3b432d5d-a181-453b-b695-7f12bde14218"
      },
      "source": [
        "#### Visualizamos las predicciones"
      ]
    },
    {
      "cell_type": "code",
      "execution_count": 66,
      "id": "1a022194-fc02-4410-a66c-7f82f3adf5d1",
      "metadata": {
        "id": "1a022194-fc02-4410-a66c-7f82f3adf5d1",
        "outputId": "49ff71ab-1ef3-4c25-f560-f2d96019d8d6",
        "colab": {
          "base_uri": "https://localhost:8080/",
          "height": 211
        }
      },
      "outputs": [
        {
          "output_type": "display_data",
          "data": {
            "image/png": "[encoded data removed]",
            "text/plain": [
              "<Figure size 432x216 with 2 Axes>"
            ]
          },
          "metadata": {
            "needs_background": "light"
          }
        }
      ],
      "source": [
        "## ¡OJO: aquí debes de poner el nombre que le hayas asignado a tu modelo! Y presta atención a que es necesario que la predicción ya sea una distribución de probabilidades\n",
        "predicciones = modelo_con_probabilidad.predict(x_test)\n",
        "\n",
        "i = 0 # índice de la imagen a visualizar\n",
        "plt.figure(figsize=(6,3))\n",
        "plt.subplot(1,2,1)\n",
        "plot_image(i, predicciones[i], y_train, x_train)\n",
        "plt.subplot(1,2,2)\n",
        "plot_value_array(i, predicciones[i],  y_train)\n",
        "plt.show()"
      ]
    },
    {
      "cell_type": "code",
      "execution_count": 67,
      "id": "b934708d-51a3-479f-b6c2-e3ac9345ecf3",
      "metadata": {
        "id": "b934708d-51a3-479f-b6c2-e3ac9345ecf3",
        "outputId": "2157eace-32fb-476e-9ee0-c81d3fcdd643",
        "colab": {
          "base_uri": "https://localhost:8080/",
          "height": 729
        }
      },
      "outputs": [
        {
          "output_type": "display_data",
          "data": {
            "image/png": "[encoded data removed]",
            "text/plain": [
              "<Figure size 864x720 with 30 Axes>"
            ]
          },
          "metadata": {
            "needs_background": "light"
          }
        }
      ],
      "source": [
        "## Imprimimos algunos más para analizar un comportamiento general\n",
        "n_filas = 5\n",
        "n_columnas = 3\n",
        "n_imagenes = n_filas*n_columnas\n",
        "plt.figure(figsize=(2*2*n_columnas, 2*n_filas))\n",
        "for i in range(n_imagenes):\n",
        "    plt.subplot(n_filas, 2*n_columnas, 2*i+1)\n",
        "    plot_image(i, predicciones[i], y_test, x_test)\n",
        "    plt.subplot(n_filas, 2*n_columnas, 2*i+2)\n",
        "    plot_value_array(i, predicciones[i], y_test)\n",
        "plt.tight_layout()\n",
        "plt.show()"
      ]
    },
    {
      "cell_type": "markdown",
      "id": "f82a5d15-34d5-4cf7-96ea-cc52d3fa2b13",
      "metadata": {
        "id": "f82a5d15-34d5-4cf7-96ea-cc52d3fa2b13"
      },
      "source": [
        "---\n",
        "#### Ejercicio 3 (opcional)\n",
        "¿Crees poder lograr un mejor rendimiento? Prueba modificar tu aruitectura, optimizador, etc. ¡pero ten cuidado con el overfitting!"
      ]
    },
    {
      "cell_type": "markdown",
      "id": "68e82771-2a9b-474f-af58-1e7597b2c1f5",
      "metadata": {
        "id": "68e82771-2a9b-474f-af58-1e7597b2c1f5"
      },
      "source": [
        "---\n",
        "Fuentes:\n",
        "1. [Tutorial de TensorFlow sobre MNIST](https://www.tensorflow.org/tutorials/quickstart/beginner)\n",
        "2. [Tutorial de TensorFlow sobre Fashion MNIST](https://www.tensorflow.org/tutorials/keras/classification)\n",
        "---\n",
        "### Reto\n",
        "Si quieres seguir explorando cómo crear modelos de DL con TensorFlow cada vez más complejos y versátiles, prueba con el [siguiente tutorial de TensorFlow](https://www.tensorflow.org/tutorials/keras/text_classification_with_hub) para clasificación a partir de lenguaje natural (texto).\n",
        "Y si te sientes cómodo, no dudes en visitar el sitio web de [Kaggle](https://www.kaggle.com/) es un recurso básico e impresionante para el mundo del DL."
      ]
    }
  ],
  "metadata": {
    "kernelspec": {
      "display_name": "Python 3 (ipykernel)",
      "language": "python",
      "name": "python3"
    },
    "language_info": {
      "codemirror_mode": {
        "name": "ipython",
        "version": 3
      },
      "file_extension": ".py",
      "mimetype": "text/x-python",
      "name": "python",
      "nbconvert_exporter": "python",
      "pygments_lexer": "ipython3",
      "version": "3.9.6"
    },
    "colab": {
      "name": "Dia_5.ipynb",
      "provenance": []
    }
  },
  "nbformat": 4,
  "nbformat_minor": 5
}
