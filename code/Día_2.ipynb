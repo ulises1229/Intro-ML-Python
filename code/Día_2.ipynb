{
  "cells": [
    {
      "cell_type": "markdown",
      "metadata": {
        "id": "view-in-github",
        "colab_type": "text"
      },
      "source": [
        "<a href=\"https://colab.research.google.com/github/ulises1229/Intro-ML-Python/blob/master/code/D%C3%ADa_2.ipynb\" target=\"_parent\"><img src=\"https://colab.research.google.com/assets/colab-badge.svg\" alt=\"Open In Colab\"/></a>"
      ]
    },
    {
      "cell_type": "markdown",
      "id": "5f7652d6",
      "metadata": {
        "id": "5f7652d6"
      },
      "source": [
        "# Introducción a Python y aplicaciones en Inteligencia Artificial\n",
        "## Curso intersemestral enero 2022\n",
        "\n",
        "---\n",
        "### Dr. Jesús Emmanuel Solís Pérez\n",
        "#### jessolisperez@gmail.com\n",
        "---"
      ]
    },
    {
      "cell_type": "markdown",
      "id": "6930fc4b",
      "metadata": {
        "id": "6930fc4b"
      },
      "source": [
        "# ¿Qué es Machine Learning (ML)?\n",
        "\n",
        "Es una rama de la Inteligencia Artificial (IA) dedicada a la extracción de conocimiento a partir de datos. En este campo se intersectan la estadística, la inteligencia artificial y las ciencias computacionales. ML también es conocido como **análisis predictivo** o **aprendizaje estadístico**.\n",
        "\n",
        "<img src=\"../figs/applications-of-machine-learning.png\" width=440 height=280 />\n",
        "\n",
        "## Tipos de machine learning\n",
        "\n",
        "* **Aprendizaje Supervisado (AS).** El usuario proporciona al algoritmo entradas y salidas deseadas para que busque la forma de producir lo deseado. \n",
        "\n",
        "<img src=\"../figs/supervision-teacher.jpg\" width=440 height=280 />\n",
        "\n",
        "**Ejemplos:**\n",
        "\n",
        "1. Identificación de los caracteres en una placa de carro\n",
        "2. Diagnóstico de un tumor basado en imágenes médicas\n",
        "3. Detección de actividades fraudulentas\n",
        "\n",
        "* **Aprendizaje No Supervisado (ANS).** Sólo se conocen las entradas y se desconoce la salida. Son difíciles de entender y evaluar.\n",
        "\n",
        "**Ejemplos:**\n",
        "\n",
        "1. Identificar el tema en un junto de posts de Facebook, tuits o comentarios\n",
        "2. Segmentación de consumidores (padres, niños, \"gamers\", etc.)\n",
        "3. Detección de patrones de acceso anormales en un sitio web\n",
        "\n",
        "<img src=\"../figs/tabla-articulo.png\" width=940 height=780 />\n",
        "\n",
        "Cada dato a analizar es una **fila** y cada propiedad que describe ese punto es una **columna**. En ML, cada fila es conocida como **muestra** y las columnas son llamadas **características**.\n",
        "\n",
        "* **Aprendizaje Semi-Supervisado (ASS).** una porción de los datos está etiquetada y el resto no (Bobadilla,2021). Además, la muestra de los datos etiquetados es más pequeña que las que no están etiquetadas.\n",
        "\n",
        "\n",
        "* **Aprendizaje por Refuerzo (AR).** Inspirado en mecanismos naturales. Recibe información del mundo real o de un entorno simulado.\n",
        "\n",
        "Los tipos de problemas abordados por el aprendizaje _supervisado_ y _no supervisado_ son los siguientes:\n",
        "\n",
        "|**Aprendizaje** | **Variable continua**        | **Variable categórica**|\n",
        "|:--------------:|:----------------------------:|:----------------------:|\n",
        "| Supervisado    | Regresión                    | Clasificación          |\n",
        "| No supervisado | Reducción de dimensionalidad | Clustering             |"
      ]
    },
    {
      "cell_type": "markdown",
      "id": "e066394e",
      "metadata": {
        "id": "e066394e"
      },
      "source": [
        "# Librerías necesarias y herramientas\n",
        "\n",
        "* **Jupyter Notebook.** Entorno interactivo para coder código en un navegador. Soporta diversos lenguajes, por ejemplo: Python, Julia, R, Maxima, Octave, MATLAB.\n",
        "\n",
        "<img src=\"../figs/jupyter-lang.jpg\" width=740 height=580 />"
      ]
    },
    {
      "cell_type": "markdown",
      "id": "da01c59d",
      "metadata": {
        "id": "da01c59d"
      },
      "source": [
        "* **NumPy.** Permite trabajar con arreglos multidimensionales, funciones matemáticas de alto nivel, operaciones de álgebra lineal, transformada de Fourier y generadores de números pseudo aleatorios."
      ]
    },
    {
      "cell_type": "code",
      "execution_count": null,
      "id": "8f0114ce",
      "metadata": {
        "id": "8f0114ce"
      },
      "outputs": [],
      "source": [
        "import numpy as np\n",
        "\n",
        "x = np.array([[1,2,3],[4,5,6]])\n",
        "print(\"x:\\n{}\".format(x))"
      ]
    },
    {
      "cell_type": "markdown",
      "id": "b9b3b64e",
      "metadata": {
        "id": "b9b3b64e"
      },
      "source": [
        "* **SciPy.** Colección de funciones para cómputo científico. También proporciona rutinas de álgebra lineal avanzadas, optimización de función matemática, procesamiento de señales, funciones matemáticas especiales y distribuciones estadísticas."
      ]
    },
    {
      "cell_type": "code",
      "execution_count": null,
      "id": "4993043c",
      "metadata": {
        "id": "4993043c"
      },
      "outputs": [],
      "source": [
        "from scipy import sparse\n",
        "\n",
        "# Crea una matriz identidad\n",
        "eye = np.eye(4)\n",
        "print(\"NumPy array:\\n{}\".format(eye))"
      ]
    },
    {
      "cell_type": "markdown",
      "id": "7712de21",
      "metadata": {
        "id": "7712de21"
      },
      "source": [
        "* **matplotlib.** Librería de graficación científica. Proporciona funciones para visualizar gráficas de líneas, histogramas, gráficos de dispersión, entre otros más.\n",
        "\n",
        "Para poder graficar dentro de los Notebook de Jupyter, necesitamos la instrucción `%matplotlib notebook` y `%matplotlib inline`.\n",
        "\n",
        "**Ejemplo:** Grafique la siguiente función\n",
        "\n",
        "$$\n",
        " f(x) = \\sin(x), \\quad x\\in[0,2\\pi].\n",
        "$$"
      ]
    },
    {
      "cell_type": "code",
      "execution_count": null,
      "id": "7d9ce14e",
      "metadata": {
        "id": "7d9ce14e",
        "outputId": "45657186-b4d6-4f31-8011-34857219464a"
      },
      "outputs": [
        {
          "data": {
            "text/plain": [
              "[<matplotlib.lines.Line2D at 0x7f3baff352e0>]"
            ]
          },
          "execution_count": 86,
          "metadata": {},
          "output_type": "execute_result"
        },
        {
          "data": {
            "image/png": "[encoded data removed]",
            "text/plain": [
              "<Figure size 432x288 with 1 Axes>"
            ]
          },
          "metadata": {
            "needs_background": "light"
          },
          "output_type": "display_data"
        }
      ],
      "source": [
        "%matplotlib inline\n",
        "import matplotlib.pyplot as plt\n",
        "\n",
        "# Genera una secuencia de números de 0 a 2pi\n",
        "x = np.linspace(0,2*np.pi,100)\n",
        "\n",
        "# Crea un arreglo para la función f(x) = sin(x)\n",
        "fx = np.sin(x)\n",
        "\n",
        "# Grafica la función\n",
        "plt.plot(x, fx, marker=\"x\")"
      ]
    },
    {
      "cell_type": "markdown",
      "id": "8ba7c837",
      "metadata": {
        "id": "8ba7c837"
      },
      "source": [
        "* **pandas.** biblioteca para el tratamiento y análisis de datos. Utiliza estructuras de datos llamadas *DataFrame*."
      ]
    },
    {
      "cell_type": "code",
      "execution_count": null,
      "id": "d65749cd",
      "metadata": {
        "id": "d65749cd",
        "outputId": "e3edf3d2-6b50-409c-dc83-9d60aa9a37b8"
      },
      "outputs": [
        {
          "data": {
            "text/html": [
              "<div>\n",
              "<style scoped>\n",
              "    .dataframe tbody tr th:only-of-type {\n",
              "        vertical-align: middle;\n",
              "    }\n",
              "\n",
              "    .dataframe tbody tr th {\n",
              "        vertical-align: top;\n",
              "    }\n",
              "\n",
              "    .dataframe thead th {\n",
              "        text-align: right;\n",
              "    }\n",
              "</style>\n",
              "<table border=\"1\" class=\"dataframe\">\n",
              "  <thead>\n",
              "    <tr style=\"text-align: right;\">\n",
              "      <th></th>\n",
              "      <th>Nombre</th>\n",
              "      <th>Carrera</th>\n",
              "      <th>Edad</th>\n",
              "    </tr>\n",
              "  </thead>\n",
              "  <tbody>\n",
              "    <tr>\n",
              "      <th>0</th>\n",
              "      <td>Juan</td>\n",
              "      <td>Ingeniería en energías renovables</td>\n",
              "      <td>20</td>\n",
              "    </tr>\n",
              "    <tr>\n",
              "      <th>1</th>\n",
              "      <td>Ana</td>\n",
              "      <td>Neurociencias</td>\n",
              "      <td>21</td>\n",
              "    </tr>\n",
              "    <tr>\n",
              "      <th>2</th>\n",
              "      <td>Pedro</td>\n",
              "      <td>Tecnología</td>\n",
              "      <td>23</td>\n",
              "    </tr>\n",
              "    <tr>\n",
              "      <th>3</th>\n",
              "      <td>Claudia</td>\n",
              "      <td>Ciencias de la tierra</td>\n",
              "      <td>22</td>\n",
              "    </tr>\n",
              "  </tbody>\n",
              "</table>\n",
              "</div>"
            ],
            "text/plain": [
              "    Nombre                            Carrera  Edad\n",
              "0     Juan  Ingeniería en energías renovables    20\n",
              "1      Ana                      Neurociencias    21\n",
              "2    Pedro                         Tecnología    23\n",
              "3  Claudia              Ciencias de la tierra    22"
            ]
          },
          "metadata": {},
          "output_type": "display_data"
        },
        {
          "data": {
            "text/html": [
              "<div>\n",
              "<style scoped>\n",
              "    .dataframe tbody tr th:only-of-type {\n",
              "        vertical-align: middle;\n",
              "    }\n",
              "\n",
              "    .dataframe tbody tr th {\n",
              "        vertical-align: top;\n",
              "    }\n",
              "\n",
              "    .dataframe thead th {\n",
              "        text-align: right;\n",
              "    }\n",
              "</style>\n",
              "<table border=\"1\" class=\"dataframe\">\n",
              "  <thead>\n",
              "    <tr style=\"text-align: right;\">\n",
              "      <th></th>\n",
              "      <th>Nombre</th>\n",
              "      <th>Carrera</th>\n",
              "      <th>Edad</th>\n",
              "    </tr>\n",
              "  </thead>\n",
              "  <tbody>\n",
              "    <tr>\n",
              "      <th>2</th>\n",
              "      <td>Pedro</td>\n",
              "      <td>Tecnología</td>\n",
              "      <td>23</td>\n",
              "    </tr>\n",
              "    <tr>\n",
              "      <th>3</th>\n",
              "      <td>Claudia</td>\n",
              "      <td>Ciencias de la tierra</td>\n",
              "      <td>22</td>\n",
              "    </tr>\n",
              "  </tbody>\n",
              "</table>\n",
              "</div>"
            ],
            "text/plain": [
              "    Nombre                Carrera  Edad\n",
              "2    Pedro             Tecnología    23\n",
              "3  Claudia  Ciencias de la tierra    22"
            ]
          },
          "metadata": {},
          "output_type": "display_data"
        }
      ],
      "source": [
        "import pandas as pd\n",
        "\n",
        "# Crea un conjunto de datos simple\n",
        "data = {'Nombre': [\"Juan\",\"Ana\",\"Pedro\",\"Claudia\"],\n",
        "        'Carrera': [\"Ingeniería en energías renovables\",\"Neurociencias\",\"Tecnología\",\"Ciencias de la tierra\"],\n",
        "        'Edad': [20,21,23,22]\n",
        "}\n",
        "\n",
        "data_pandas = pd.DataFrame(data)\n",
        "display(data_pandas)\n",
        "\n",
        "display(data_pandas[data_pandas.Edad > 21])"
      ]
    },
    {
      "cell_type": "markdown",
      "id": "5cb492dd",
      "metadata": {
        "id": "5cb492dd"
      },
      "source": [
        "# Regresión y clasificación\n",
        "\n",
        "Existen dos tipos de problemas de ML supervisados: **clasificación** y **regresión**. \n",
        "\n",
        "* **Clasificación.** El objetivo es predecir una _etiqueta clase_.\n",
        "    * _Binaria_. Clasifica entre dos clases (verdadero/falso, positivo/negativo, si/no).\n",
        "    * _Multiclase_. Clasifica entre dos o más clases.\n",
        "    \n",
        "* **Regresión.** Predecir números contínuos, _números de punto flotante_ (término de programación), o _números reales_ (término en matemáticas.)\n",
        "\n",
        "# Generalization, Overfitting, and Underfitting\n",
        "En AS, queremos construir un modelo a partir de datos de entrenamiento capaz de realizar predicciones precisas sobre nuevas. Es decir, sobre datos no conocidos (datos de prueba) que tienen las mismas características que los datos que utilizamos para entrenar al modelo.\n",
        "\n",
        "Si un modelo es capaz de realizar predicciones precisas sobre datos nuevos, entonces el modelo puede **generalizar** de los datos de entrada a los datos de prueba.\n",
        "\n",
        "<img src=\"../figs/navaja.jpg\"  width=540 height=380 />\n",
        "\n",
        "> _\"La explicación más simple es la más probable, aunque no necesariamente la verdadera.\"_\n",
        "\n",
        "Un error común es construir un modelo complejo para la cantidad de datos que tenemos, este error suele llevar a un **overfitting** (sobre ajuste). El sobreajuste se produce cuando un modelo es ajustado demasiado a los datos de entrenamiento. Se desempeña bien ante los datos de entrenamiento pero no generaliza a datos nuevos.\n",
        "\n",
        "Si un modelo es muy simple, es posible que éste no pueda capturar la variabilidad de los datos y sus aspectos. A esto se le conoce como **underfitting** (desajuste)."
      ]
    },
    {
      "cell_type": "markdown",
      "id": "b4ed4c90",
      "metadata": {
        "id": "b4ed4c90"
      },
      "source": [
        "<img src=\"../figs/diagrama_dispersion.png\" width=540 height=380/>"
      ]
    },
    {
      "cell_type": "markdown",
      "id": "db2300bd",
      "metadata": {
        "id": "db2300bd"
      },
      "source": [
        "# Modelos lineales\n",
        "Son modelos ampliamente utilizados en la práctica y muy usados en las últimas décadas. Los modelos lineales hacen una predicción utilizando una función lineal:\n",
        "\n",
        "$$\n",
        " \\hat{y} = \\beta_{0}\\cdot x_{0} + \\beta_{1}\\cdot x_{1} + \\cdots + \\beta_{p}\\cdot x_{p} + b,\n",
        "$$\n",
        "donde $x_{0}$ a $x_{p}$ denota las características, $\\beta$ y $b$ los parámetros del modelo, $\\hat{y}$ la predicción hecha por el modelo. Para un conjunto de datos con una sola característica está dada como sigue:\n",
        "\n",
        "$$\n",
        " \\hat{y} = \\beta_{0}\\cdot x_{0} + b.\n",
        "$$\n",
        "\n",
        "Aquí, $\\beta_{0}$ es la pendiente y $b$ el intercepto.\n",
        "\n",
        "## Regresión lineal (mínimos cuadrados ordinarios)\n",
        "Regresión lineal o *ordinary least squares (OLS)* es el modelo más simple de regresión. Se trata de encontrar los parámetros $\\beta$ y $b$ que minimicen el *MSE* entre los datos predichos y los datos reales. Es decir:\n",
        "\n",
        "$$\n",
        " \\underset{\\beta_{0},\\beta_{1}}{\\min} \\left\\{ \\frac{1}{N} \\sum_{k=1}^{N} \\left( y - \\hat{y} \\right)^{2} \\right\\},\n",
        "$$\n",
        "donde\n",
        "\n",
        "$$\n",
        " \\hat{y} = \\beta_{0} + \\beta_{1}\\cdot x,\n",
        "$$"
      ]
    },
    {
      "cell_type": "code",
      "execution_count": null,
      "id": "9e966eff",
      "metadata": {
        "id": "9e966eff"
      },
      "outputs": [],
      "source": [
        "import numpy as np\n",
        "from sklearn.linear_model import LinearRegression\n",
        "from sklearn import datasets"
      ]
    },
    {
      "cell_type": "code",
      "execution_count": null,
      "id": "f5fb02ce",
      "metadata": {
        "id": "f5fb02ce",
        "outputId": "8cd4dfec-e6bb-4f15-a437-a0b46eee2ca5"
      },
      "outputs": [
        {
          "data": {
            "text/plain": [
              "dict_keys(['data', 'target', 'feature_names', 'DESCR', 'filename'])"
            ]
          },
          "execution_count": 91,
          "metadata": {},
          "output_type": "execute_result"
        }
      ],
      "source": [
        "boston = datasets.load_boston()\n",
        "boston.keys()"
      ]
    },
    {
      "cell_type": "code",
      "execution_count": null,
      "id": "86bda3c1",
      "metadata": {
        "id": "86bda3c1",
        "outputId": "f0af0f7f-f843-4c82-d2b5-445dbf4cb799"
      },
      "outputs": [
        {
          "name": "stdout",
          "output_type": "stream",
          "text": [
            ".. _boston_dataset:\n",
            "\n",
            "Boston house prices dataset\n",
            "---------------------------\n",
            "\n",
            "**Data Set Characteristics:**  \n",
            "\n",
            "    :Number of Instances: 506 \n",
            "\n",
            "    :Number of Attributes: 13 numeric/categorical predictive. Median Value (attribute 14) is usually the target.\n",
            "\n",
            "    :Attribute Information (in order):\n",
            "        - CRIM     per capita crime rate by town\n",
            "        - ZN       proportion of residential land zoned for lots over 25,000 sq.ft.\n",
            "        - INDUS    proportion of non-retail business acres per town\n",
            "        - CHAS     Charles River dummy variable (= 1 if tract bounds river; 0 otherwise)\n",
            "        - NOX      nitric oxides concentration (parts per 10 million)\n",
            "        - RM       average number of rooms per dwelling\n",
            "        - AGE      proportion of owner-occupied units built prior to 1940\n",
            "        - DIS      weighted distances to five Boston employment centres\n",
            "        - RAD      index of accessibility to radial highways\n",
            "        - TAX      full-value property-tax rate per $10,000\n",
            "        - PTRATIO  pupil-teacher ratio by town\n",
            "        - B        1000(Bk - 0.63)^2 where Bk is the proportion of blacks by town\n",
            "        - LSTAT    % lower status of the population\n",
            "        - MEDV     Median value of owner-occupied homes in $1000's\n",
            "\n",
            "    :Missing Attribute Values: None\n",
            "\n",
            "    :Creator: Harrison, D. and Rubinfeld, D.L.\n",
            "\n",
            "This is a copy of UCI ML housing dataset.\n",
            "https://archive.ics.uci.edu/ml/machine-learning-databases/housing/\n",
            "\n",
            "\n",
            "This dataset was taken from the StatLib library which is maintained at Carnegie Mellon University.\n",
            "\n",
            "The Boston house-price data of Harrison, D. and Rubinfeld, D.L. 'Hedonic\n",
            "prices and the demand for clean air', J. Environ. Economics & Management,\n",
            "vol.5, 81-102, 1978.   Used in Belsley, Kuh & Welsch, 'Regression diagnostics\n",
            "...', Wiley, 1980.   N.B. Various transformations are used in the table on\n",
            "pages 244-261 of the latter.\n",
            "\n",
            "The Boston house-price data has been used in many machine learning papers that address regression\n",
            "problems.   \n",
            "     \n",
            ".. topic:: References\n",
            "\n",
            "   - Belsley, Kuh & Welsch, 'Regression diagnostics: Identifying Influential Data and Sources of Collinearity', Wiley, 1980. 244-261.\n",
            "   - Quinlan,R. (1993). Combining Instance-Based and Model-Based Learning. In Proceedings on the Tenth International Conference of Machine Learning, 236-243, University of Massachusetts, Amherst. Morgan Kaufmann.\n",
            "\n"
          ]
        }
      ],
      "source": [
        "print(boston[\"DESCR\"])"
      ]
    },
    {
      "cell_type": "code",
      "execution_count": null,
      "id": "43c4d24c",
      "metadata": {
        "id": "43c4d24c",
        "outputId": "6e7d18f3-3cf3-454c-c9ef-66124069c8c2"
      },
      "outputs": [
        {
          "name": "stdout",
          "output_type": "stream",
          "text": [
            "m_ols.coef_: [-1.08011358e-01  4.64204584e-02  2.05586264e-02  2.68673382e+00\n",
            " -1.77666112e+01  3.80986521e+00  6.92224640e-04 -1.47556685e+00\n",
            "  3.06049479e-01 -1.23345939e-02 -9.52747232e-01  9.31168327e-03\n",
            " -5.24758378e-01]\n",
            "m_ols.intercept_: 36.45948838509012\n"
          ]
        }
      ],
      "source": [
        "# 1. Crea el modelo de regresión lineal\n",
        "m_ols = LinearRegression()\n",
        "\n",
        "# 2. Ajusta el modelo\n",
        "m_ols.fit(X = boston[\"data\"], y = boston[\"target\"])\n",
        "\n",
        "# 3. Realiza predicciones sobre nuevas observaciones\n",
        "m_ols_pred = m_ols.predict(boston[\"data\"])\n",
        "\n",
        "# 4. Se obtienen sus coeficientes\n",
        "print(\"m_ols.coef_: {}\".format(m_ols.coef_))\n",
        "print(\"m_ols.intercept_: {}\".format(m_ols.intercept_))"
      ]
    },
    {
      "cell_type": "code",
      "execution_count": null,
      "id": "91824ebe",
      "metadata": {
        "id": "91824ebe",
        "outputId": "19b355dd-4316-4c58-832d-7d2458c12527"
      },
      "outputs": [
        {
          "data": {
            "text/plain": [
              "(506, 13)"
            ]
          },
          "execution_count": 108,
          "metadata": {},
          "output_type": "execute_result"
        }
      ],
      "source": [
        "boston[\"data\"].shape"
      ]
    },
    {
      "cell_type": "code",
      "execution_count": null,
      "id": "19fa2b71",
      "metadata": {
        "id": "19fa2b71"
      },
      "outputs": [],
      "source": [
        "def mse(target,yg):\n",
        "    return np.mean((target-yg)**2)\n",
        "\n",
        "def rmse(target,yg):\n",
        "    return np.sqrt(mse(target,yg))"
      ]
    },
    {
      "cell_type": "code",
      "execution_count": null,
      "id": "fca52346",
      "metadata": {
        "id": "fca52346",
        "outputId": "bcefd6df-bb62-4bbd-c039-64efd308c2e6"
      },
      "outputs": [
        {
          "name": "stdout",
          "output_type": "stream",
          "text": [
            "21.894831181729202\n",
            "4.679191295697281\n"
          ]
        }
      ],
      "source": [
        "print(mse(boston[\"target\"], m_ols_pred))\n",
        "print(rmse(boston[\"target\"], m_ols_pred))"
      ]
    },
    {
      "cell_type": "markdown",
      "id": "999a5899",
      "metadata": {
        "id": "999a5899"
      },
      "source": [
        "## Evaluación de modelos de regresión\n",
        "\n",
        "### Mean Absolute Error (MAE)\n",
        "La media de las diferencias entre el target y las predicciones sin el signo. Es una métrica robusta, no varía mucho si hay valores extremos en los datos. Además, el error se interpreta con las unidades del target:\n",
        "\n",
        "$$\n",
        " \\frac{1}{N} \\sum_{k=1}^{N} \\mid y_{k} - \\hat{y}_{k} \\mid.\n",
        "$$\n",
        "\n",
        "### Mean Squared Error (MSE)\n",
        "No es de fácil interpretación pues el MSE se define en unidades al cuadrado:\n",
        "\n",
        "$$\n",
        " \\frac{1}{N} \\sum_{k=1}^{N} \\left( y_{k} - \\hat{y}_{k} \\right)^{2}.\n",
        "$$\n",
        "\n",
        "### Root Mean Squared Error (RMSE)\n",
        "El resultado se mide en términos del target, es decir, el RMSE tiene las mismas unidades que el target. No obstante, es sensible ante valores atípicos:\n",
        "\n",
        "$$\n",
        " \\sqrt{\\frac{1}{N} \\sum_{k=1}^{N} \\left( y_{k} - \\hat{y}_{k} \\right)^{2}}.\n",
        "$$\n",
        "\n",
        "### $R^{2}$ o $R$-squared\n",
        "Mide la varianza del target que es explicada por el modelo. Tiene un valor máximo de 1 (cuando el modelo explica toda la varianza):\n",
        "\n",
        "$$\n",
        " 1 - \\frac{\\sum_{k=1}^{N} \\left( y_{k} - \\hat{y}_{k} \\right)^{2}}{\\sum_{k=1}^{N} \\left(y_{k} - \\bar{y} \\right)^{2}}\n",
        "$$\n",
        "\n",
        "**Nota:** No indica si el modelo explica la varianza debido a un overfitting.\n",
        "\n",
        "### $R^{2}_{adj}$ o Adjusted $R$-squared\n",
        "\n",
        "$$\n",
        " R^{2} - \\left( \\frac{p-1}{n-p} \\right)\\left(1 - R^{2} \\right),\n",
        "$$\n",
        "donde $n$ es el número de observaciones y $p$ es el numero de coeficientes de regresión o parámetros en el modelo."
      ]
    },
    {
      "cell_type": "markdown",
      "id": "239e92bd",
      "metadata": {
        "id": "239e92bd"
      },
      "source": [
        "---\n",
        "# Ejemplo 1.\n",
        "¿Es posible predecir el tamaño de la cabeza de una zarigüeya a partir del tamaño total?"
      ]
    },
    {
      "cell_type": "markdown",
      "id": "4adb1a2e",
      "metadata": {
        "id": "4adb1a2e"
      },
      "source": [
        "## Metodología"
      ]
    },
    {
      "cell_type": "code",
      "execution_count": null,
      "id": "526a7d30",
      "metadata": {
        "id": "526a7d30",
        "outputId": "3c1ff1bc-d3eb-43a7-809a-a6c40823815a"
      },
      "outputs": [
        {
          "data": {
            "text/html": [
              "<div>\n",
              "<style scoped>\n",
              "    .dataframe tbody tr th:only-of-type {\n",
              "        vertical-align: middle;\n",
              "    }\n",
              "\n",
              "    .dataframe tbody tr th {\n",
              "        vertical-align: top;\n",
              "    }\n",
              "\n",
              "    .dataframe thead th {\n",
              "        text-align: right;\n",
              "    }\n",
              "</style>\n",
              "<table border=\"1\" class=\"dataframe\">\n",
              "  <thead>\n",
              "    <tr style=\"text-align: right;\">\n",
              "      <th></th>\n",
              "      <th>case</th>\n",
              "      <th>site</th>\n",
              "      <th>Pop</th>\n",
              "      <th>sex</th>\n",
              "      <th>age</th>\n",
              "      <th>hdlngth</th>\n",
              "      <th>skullw</th>\n",
              "      <th>totlngth</th>\n",
              "      <th>taill</th>\n",
              "      <th>footlgth</th>\n",
              "      <th>earconch</th>\n",
              "      <th>eye</th>\n",
              "      <th>chest</th>\n",
              "      <th>belly</th>\n",
              "    </tr>\n",
              "  </thead>\n",
              "  <tbody>\n",
              "    <tr>\n",
              "      <th>0</th>\n",
              "      <td>1</td>\n",
              "      <td>1</td>\n",
              "      <td>Vic</td>\n",
              "      <td>m</td>\n",
              "      <td>8.0</td>\n",
              "      <td>94.1</td>\n",
              "      <td>60.4</td>\n",
              "      <td>89.0</td>\n",
              "      <td>36.0</td>\n",
              "      <td>74.5</td>\n",
              "      <td>54.5</td>\n",
              "      <td>15.2</td>\n",
              "      <td>28.0</td>\n",
              "      <td>36.0</td>\n",
              "    </tr>\n",
              "    <tr>\n",
              "      <th>1</th>\n",
              "      <td>2</td>\n",
              "      <td>1</td>\n",
              "      <td>Vic</td>\n",
              "      <td>f</td>\n",
              "      <td>6.0</td>\n",
              "      <td>92.5</td>\n",
              "      <td>57.6</td>\n",
              "      <td>91.5</td>\n",
              "      <td>36.5</td>\n",
              "      <td>72.5</td>\n",
              "      <td>51.2</td>\n",
              "      <td>16.0</td>\n",
              "      <td>28.5</td>\n",
              "      <td>33.0</td>\n",
              "    </tr>\n",
              "    <tr>\n",
              "      <th>2</th>\n",
              "      <td>3</td>\n",
              "      <td>1</td>\n",
              "      <td>Vic</td>\n",
              "      <td>f</td>\n",
              "      <td>6.0</td>\n",
              "      <td>94.0</td>\n",
              "      <td>60.0</td>\n",
              "      <td>95.5</td>\n",
              "      <td>39.0</td>\n",
              "      <td>75.4</td>\n",
              "      <td>51.9</td>\n",
              "      <td>15.5</td>\n",
              "      <td>30.0</td>\n",
              "      <td>34.0</td>\n",
              "    </tr>\n",
              "    <tr>\n",
              "      <th>3</th>\n",
              "      <td>4</td>\n",
              "      <td>1</td>\n",
              "      <td>Vic</td>\n",
              "      <td>f</td>\n",
              "      <td>6.0</td>\n",
              "      <td>93.2</td>\n",
              "      <td>57.1</td>\n",
              "      <td>92.0</td>\n",
              "      <td>38.0</td>\n",
              "      <td>76.1</td>\n",
              "      <td>52.2</td>\n",
              "      <td>15.2</td>\n",
              "      <td>28.0</td>\n",
              "      <td>34.0</td>\n",
              "    </tr>\n",
              "    <tr>\n",
              "      <th>4</th>\n",
              "      <td>5</td>\n",
              "      <td>1</td>\n",
              "      <td>Vic</td>\n",
              "      <td>f</td>\n",
              "      <td>2.0</td>\n",
              "      <td>91.5</td>\n",
              "      <td>56.3</td>\n",
              "      <td>85.5</td>\n",
              "      <td>36.0</td>\n",
              "      <td>71.0</td>\n",
              "      <td>53.2</td>\n",
              "      <td>15.1</td>\n",
              "      <td>28.5</td>\n",
              "      <td>33.0</td>\n",
              "    </tr>\n",
              "  </tbody>\n",
              "</table>\n",
              "</div>"
            ],
            "text/plain": [
              "   case  site  Pop sex  age  hdlngth  skullw  totlngth  taill  footlgth  \\\n",
              "0     1     1  Vic   m  8.0     94.1    60.4      89.0   36.0      74.5   \n",
              "1     2     1  Vic   f  6.0     92.5    57.6      91.5   36.5      72.5   \n",
              "2     3     1  Vic   f  6.0     94.0    60.0      95.5   39.0      75.4   \n",
              "3     4     1  Vic   f  6.0     93.2    57.1      92.0   38.0      76.1   \n",
              "4     5     1  Vic   f  2.0     91.5    56.3      85.5   36.0      71.0   \n",
              "\n",
              "   earconch   eye  chest  belly  \n",
              "0      54.5  15.2   28.0   36.0  \n",
              "1      51.2  16.0   28.5   33.0  \n",
              "2      51.9  15.5   30.0   34.0  \n",
              "3      52.2  15.2   28.0   34.0  \n",
              "4      53.2  15.1   28.5   33.0  "
            ]
          },
          "execution_count": 111,
          "metadata": {},
          "output_type": "execute_result"
        }
      ],
      "source": [
        "# 1. Importación de la base de datos\n",
        "db_possum = pd.read_csv('possum.csv')\n",
        "db_possum.head()"
      ]
    },
    {
      "cell_type": "markdown",
      "id": "68be4847",
      "metadata": {
        "id": "68be4847"
      },
      "source": [
        "## Representación gráfica\n",
        "Antes de generar un modelo de regresión lineal debemos representar los datos para observar si existe una relación. Además, dicha relación debe ser cuantificada mediante un coeficiente de correlación"
      ]
    },
    {
      "cell_type": "code",
      "execution_count": null,
      "id": "b5d7b34b",
      "metadata": {
        "id": "b5d7b34b",
        "outputId": "91b2414c-08e8-4e62-f359-69be4ed75b6c"
      },
      "outputs": [
        {
          "data": {
            "text/plain": [
              "Text(0.5, 1.0, 'Linear regression')"
            ]
          },
          "execution_count": 143,
          "metadata": {},
          "output_type": "execute_result"
        },
        {
          "data": {
            "image/png": "[encoded data removed]",
            "text/plain": [
              "<Figure size 432x288 with 1 Axes>"
            ]
          },
          "metadata": {
            "needs_background": "light"
          },
          "output_type": "display_data"
        }
      ],
      "source": [
        "plt.plot(db_possum['totlngth'],db_possum['hdlngth'],'.')\n",
        "plt.xlabel(\"Total length\")\n",
        "plt.ylabel(\"Head length\")\n",
        "plt.title('Linear regression')"
      ]
    },
    {
      "cell_type": "code",
      "execution_count": null,
      "id": "f7ca4800",
      "metadata": {
        "id": "f7ca4800",
        "outputId": "af537aeb-d88b-4883-bdb1-abf5ca5084fb"
      },
      "outputs": [
        {
          "name": "stdout",
          "output_type": "stream",
          "text": [
            "Coeficiente de Pearson:  0.6910936973935056\n",
            "p-value:  4.680578654379385e-16\n"
          ]
        }
      ],
      "source": [
        "# Correlación lineal entre las dos variables\n",
        "from scipy.stats import pearsonr\n",
        "\n",
        "corr_test = pearsonr(x = db_possum['totlngth'], y = db_possum['hdlngth'])\n",
        "print(\"Coeficiente de Pearson: \", corr_test[0])\n",
        "print(\"p-value: \", corr_test[1])"
      ]
    },
    {
      "cell_type": "markdown",
      "id": "45475042",
      "metadata": {
        "id": "45475042"
      },
      "source": [
        "La gráfica nos muestra de que existe una tendencia lineal entre la longitud total y el tamaño de la cabeza con una intensidad alta ($R\\approx 0.70$). Por lo tanto, es viable generar un modelo de regresión lineal."
      ]
    },
    {
      "cell_type": "code",
      "execution_count": null,
      "id": "8f244b3e",
      "metadata": {
        "id": "8f244b3e",
        "outputId": "af528ce5-255b-4511-d81d-ec0befd3e8ef"
      },
      "outputs": [
        {
          "name": "stdout",
          "output_type": "stream",
          "text": [
            "m_ols.coef_: [0.57290128]\n",
            "m_ols.intercept_: 42.70979314896378\n"
          ]
        },
        {
          "data": {
            "text/html": [
              "<div>\n",
              "<style scoped>\n",
              "    .dataframe tbody tr th:only-of-type {\n",
              "        vertical-align: middle;\n",
              "    }\n",
              "\n",
              "    .dataframe tbody tr th {\n",
              "        vertical-align: top;\n",
              "    }\n",
              "\n",
              "    .dataframe thead th {\n",
              "        text-align: right;\n",
              "    }\n",
              "</style>\n",
              "<table border=\"1\" class=\"dataframe\">\n",
              "  <thead>\n",
              "    <tr style=\"text-align: right;\">\n",
              "      <th></th>\n",
              "      <th>Results</th>\n",
              "    </tr>\n",
              "  </thead>\n",
              "  <tbody>\n",
              "    <tr>\n",
              "      <th>MAE</th>\n",
              "      <td>1.972670</td>\n",
              "    </tr>\n",
              "    <tr>\n",
              "      <th>R2</th>\n",
              "      <td>0.477610</td>\n",
              "    </tr>\n",
              "    <tr>\n",
              "      <th>RMSE</th>\n",
              "      <td>6.606163</td>\n",
              "    </tr>\n",
              "  </tbody>\n",
              "</table>\n",
              "</div>"
            ],
            "text/plain": [
              "       Results\n",
              "MAE   1.972670\n",
              "R2    0.477610\n",
              "RMSE  6.606163"
            ]
          },
          "execution_count": 138,
          "metadata": {},
          "output_type": "execute_result"
        }
      ],
      "source": [
        "# 2. Creación del modelo de regresión lineal\n",
        "possum_ols = LinearRegression()\n",
        "\n",
        "# 3. Ajuste del modelo de regresión lineal\n",
        "possum_ols.fit(X = np.array(db_possum['totlngth']).reshape(-1, 1), y = db_possum['hdlngth'])\n",
        "\n",
        "# 4. Predicción del modelo ajustado\n",
        "possum_ols_pred = possum_ols.predict(np.array(db_possum['totlngth']).reshape(-1, 1))\n",
        "\n",
        "# 5. Se obtienen sus coeficientes\n",
        "print(\"m_ols.coef_: {}\".format(possum_ols.coef_))\n",
        "print(\"m_ols.intercept_: {}\".format(possum_ols.intercept_))\n",
        "\n",
        "# 6. Evaluacion del modelo\n",
        "from sklearn import metrics\n",
        "\n",
        "results = {}\n",
        "results['Results'] = {'MAE': metrics.mean_absolute_error(db_possum['hdlngth'],possum_ols_pred), \n",
        "                      'RMSE': metrics.mean_squared_error(db_possum['hdlngth'],possum_ols_pred),\n",
        "                      'R2': metrics.r2_score(db_possum['hdlngth'],possum_ols_pred)}\n",
        "\n",
        "\n",
        "pd.DataFrame(results)"
      ]
    },
    {
      "cell_type": "code",
      "execution_count": null,
      "id": "2857cba3",
      "metadata": {
        "id": "2857cba3",
        "outputId": "2a4ed118-b10d-4ac4-ec9f-021745b10f27"
      },
      "outputs": [
        {
          "data": {
            "text/plain": [
              "Text(0.5, 1.0, 'Linear regression')"
            ]
          },
          "execution_count": 127,
          "metadata": {},
          "output_type": "execute_result"
        },
        {
          "data": {
            "image/png": "[encoded data removed]",
            "text/plain": [
              "<Figure size 432x288 with 1 Axes>"
            ]
          },
          "metadata": {
            "needs_background": "light"
          },
          "output_type": "display_data"
        }
      ],
      "source": [
        "%matplotlib inline\n",
        "plt.plot(db_possum['totlngth'],db_possum['hdlngth'],'.')\n",
        "plt.plot(db_possum['totlngth'],possum_ols_pred)\n",
        "plt.xlabel(\"Total length\")\n",
        "plt.ylabel(\"Head length\")\n",
        "plt.title('Linear regression')"
      ]
    },
    {
      "cell_type": "markdown",
      "id": "6d802ee3",
      "metadata": {
        "id": "6d802ee3"
      },
      "source": [
        "# Práctica en clase\n",
        "¿Podemos predecir la ubicación de captura de una zarigüeya a partir de las dimensiones de su cuerpo?"
      ]
    },
    {
      "cell_type": "markdown",
      "id": "d6299570",
      "metadata": {
        "id": "d6299570"
      },
      "source": [
        "---\n",
        "# Ejemplo 2\n",
        "Performance evaluation of ground source heat pump using linear and nonlinear regressions and artificial neural networks\n",
        "\n",
        "_Xinjie Xu, Jinxiang Liu, Yu Wang, Jinjun Xu, Jun Bao_\n",
        "\n",
        "## Description\n",
        "\n",
        "* Heat exchange manner **(HEM)**\n",
        "* Soil thermal conductivity, λ [W/m· °C] **(STC)**\n",
        "* Vertical well depth, h [m] **(VWD)**\n",
        "* Well diameter, d [mm] **(WD)**\n",
        "* U-tube thickness, δ [mm] **(UT)**\n",
        "* Water flow rate, G [m3/h] **(WFR)**\n",
        "* Water temperature difference, Δt [°C] **(WTD)**\n",
        "* Heat transfer rate, Q [W/m] **(HTR)**"
      ]
    },
    {
      "cell_type": "code",
      "execution_count": null,
      "id": "6ce9fd34",
      "metadata": {
        "id": "6ce9fd34",
        "outputId": "6febabdd-b276-42e2-9c93-db6dff544453"
      },
      "outputs": [
        {
          "data": {
            "text/html": [
              "<div>\n",
              "<style scoped>\n",
              "    .dataframe tbody tr th:only-of-type {\n",
              "        vertical-align: middle;\n",
              "    }\n",
              "\n",
              "    .dataframe tbody tr th {\n",
              "        vertical-align: top;\n",
              "    }\n",
              "\n",
              "    .dataframe thead th {\n",
              "        text-align: right;\n",
              "    }\n",
              "</style>\n",
              "<table border=\"1\" class=\"dataframe\">\n",
              "  <thead>\n",
              "    <tr style=\"text-align: right;\">\n",
              "      <th></th>\n",
              "      <th>HEM</th>\n",
              "      <th>STC</th>\n",
              "      <th>VWD</th>\n",
              "      <th>WD</th>\n",
              "      <th>UT</th>\n",
              "      <th>WFR</th>\n",
              "      <th>WTD</th>\n",
              "      <th>HTR</th>\n",
              "    </tr>\n",
              "  </thead>\n",
              "  <tbody>\n",
              "    <tr>\n",
              "      <th>0</th>\n",
              "      <td>Release</td>\n",
              "      <td>1.41</td>\n",
              "      <td>100.0</td>\n",
              "      <td>180</td>\n",
              "      <td>3.0</td>\n",
              "      <td>1.15</td>\n",
              "      <td>4.04</td>\n",
              "      <td>53.9</td>\n",
              "    </tr>\n",
              "    <tr>\n",
              "      <th>1</th>\n",
              "      <td>Release</td>\n",
              "      <td>1.41</td>\n",
              "      <td>125.0</td>\n",
              "      <td>180</td>\n",
              "      <td>3.0</td>\n",
              "      <td>1.15</td>\n",
              "      <td>4.86</td>\n",
              "      <td>52.0</td>\n",
              "    </tr>\n",
              "    <tr>\n",
              "      <th>2</th>\n",
              "      <td>Extraction</td>\n",
              "      <td>1.41</td>\n",
              "      <td>100.0</td>\n",
              "      <td>180</td>\n",
              "      <td>3.0</td>\n",
              "      <td>1.15</td>\n",
              "      <td>3.18</td>\n",
              "      <td>42.4</td>\n",
              "    </tr>\n",
              "    <tr>\n",
              "      <th>3</th>\n",
              "      <td>Extraction</td>\n",
              "      <td>1.41</td>\n",
              "      <td>125.0</td>\n",
              "      <td>180</td>\n",
              "      <td>3.0</td>\n",
              "      <td>1.15</td>\n",
              "      <td>3.82</td>\n",
              "      <td>40.7</td>\n",
              "    </tr>\n",
              "    <tr>\n",
              "      <th>4</th>\n",
              "      <td>Release</td>\n",
              "      <td>1.46</td>\n",
              "      <td>85.0</td>\n",
              "      <td>130</td>\n",
              "      <td>2.8</td>\n",
              "      <td>1.19</td>\n",
              "      <td>4.19</td>\n",
              "      <td>66.6</td>\n",
              "    </tr>\n",
              "  </tbody>\n",
              "</table>\n",
              "</div>"
            ],
            "text/plain": [
              "           HEM   STC    VWD   WD   UT   WFR   WTD   HTR\n",
              "0     Release   1.41  100.0  180  3.0  1.15  4.04  53.9\n",
              "1     Release   1.41  125.0  180  3.0  1.15  4.86  52.0\n",
              "2  Extraction   1.41  100.0  180  3.0  1.15  3.18  42.4\n",
              "3  Extraction   1.41  125.0  180  3.0  1.15  3.82  40.7\n",
              "4     Release   1.46   85.0  130  2.8  1.19  4.19  66.6"
            ]
          },
          "execution_count": 128,
          "metadata": {},
          "output_type": "execute_result"
        }
      ],
      "source": [
        "gs_heat_pump = pd.read_csv('ground_source_heat_pump.csv')\n",
        "gs_heat_pump.head()"
      ]
    },
    {
      "cell_type": "markdown",
      "id": "3fafc221",
      "metadata": {
        "id": "3fafc221"
      },
      "source": [
        "## Relación entre variables\n",
        "Antes de obtener un modelo lineal, es necesario estudiar la relación que existe entre las variables."
      ]
    },
    {
      "cell_type": "code",
      "execution_count": null,
      "id": "4510c1f0",
      "metadata": {
        "id": "4510c1f0"
      },
      "outputs": [],
      "source": [
        "# Correlación entre columnas numéricas\n",
        "def fcn_corr_matrix(corr_mat):\n",
        "    '''\n",
        "    Función para convertir una matriz de correlación de pandas en formato tidy\n",
        "    '''\n",
        "    corr_mat = corr_mat.stack().reset_index()\n",
        "    corr_mat.columns = ['var_1','var_2','r']\n",
        "    corr_mat = corr_mat.loc[corr_mat['var_1'] != corr_mat['var_2'], :]\n",
        "    corr_mat['abs_r'] = np.abs(corr_mat['r'])\n",
        "    corr_mat = corr_mat.sort_values('abs_r', ascending=False)\n",
        "    \n",
        "    return(corr_mat)"
      ]
    },
    {
      "cell_type": "code",
      "execution_count": null,
      "id": "976ec0c7",
      "metadata": {
        "id": "976ec0c7",
        "outputId": "1131667f-1408-4bf5-c130-92f41e32bdc1"
      },
      "outputs": [
        {
          "data": {
            "text/html": [
              "<div>\n",
              "<style scoped>\n",
              "    .dataframe tbody tr th:only-of-type {\n",
              "        vertical-align: middle;\n",
              "    }\n",
              "\n",
              "    .dataframe tbody tr th {\n",
              "        vertical-align: top;\n",
              "    }\n",
              "\n",
              "    .dataframe thead th {\n",
              "        text-align: right;\n",
              "    }\n",
              "</style>\n",
              "<table border=\"1\" class=\"dataframe\">\n",
              "  <thead>\n",
              "    <tr style=\"text-align: right;\">\n",
              "      <th></th>\n",
              "      <th>var_1</th>\n",
              "      <th>var_2</th>\n",
              "      <th>r</th>\n",
              "      <th>abs_r</th>\n",
              "    </tr>\n",
              "  </thead>\n",
              "  <tbody>\n",
              "    <tr>\n",
              "      <th>47</th>\n",
              "      <td>HTR</td>\n",
              "      <td>WTD</td>\n",
              "      <td>0.552552</td>\n",
              "      <td>0.552552</td>\n",
              "    </tr>\n",
              "    <tr>\n",
              "      <th>41</th>\n",
              "      <td>WTD</td>\n",
              "      <td>HTR</td>\n",
              "      <td>0.552552</td>\n",
              "      <td>0.552552</td>\n",
              "    </tr>\n",
              "    <tr>\n",
              "      <th>39</th>\n",
              "      <td>WTD</td>\n",
              "      <td>WFR</td>\n",
              "      <td>-0.524291</td>\n",
              "      <td>0.524291</td>\n",
              "    </tr>\n",
              "    <tr>\n",
              "      <th>33</th>\n",
              "      <td>WFR</td>\n",
              "      <td>WTD</td>\n",
              "      <td>-0.524291</td>\n",
              "      <td>0.524291</td>\n",
              "    </tr>\n",
              "    <tr>\n",
              "      <th>9</th>\n",
              "      <td>VWD</td>\n",
              "      <td>WD</td>\n",
              "      <td>0.473210</td>\n",
              "      <td>0.473210</td>\n",
              "    </tr>\n",
              "    <tr>\n",
              "      <th>15</th>\n",
              "      <td>WD</td>\n",
              "      <td>VWD</td>\n",
              "      <td>0.473210</td>\n",
              "      <td>0.473210</td>\n",
              "    </tr>\n",
              "    <tr>\n",
              "      <th>4</th>\n",
              "      <td>STC</td>\n",
              "      <td>WFR</td>\n",
              "      <td>0.413460</td>\n",
              "      <td>0.413460</td>\n",
              "    </tr>\n",
              "    <tr>\n",
              "      <th>28</th>\n",
              "      <td>WFR</td>\n",
              "      <td>STC</td>\n",
              "      <td>0.413460</td>\n",
              "      <td>0.413460</td>\n",
              "    </tr>\n",
              "    <tr>\n",
              "      <th>12</th>\n",
              "      <td>VWD</td>\n",
              "      <td>WTD</td>\n",
              "      <td>0.318710</td>\n",
              "      <td>0.318710</td>\n",
              "    </tr>\n",
              "    <tr>\n",
              "      <th>36</th>\n",
              "      <td>WTD</td>\n",
              "      <td>VWD</td>\n",
              "      <td>0.318710</td>\n",
              "      <td>0.318710</td>\n",
              "    </tr>\n",
              "  </tbody>\n",
              "</table>\n",
              "</div>"
            ],
            "text/plain": [
              "   var_1 var_2         r     abs_r\n",
              "47   HTR   WTD  0.552552  0.552552\n",
              "41   WTD   HTR  0.552552  0.552552\n",
              "39   WTD   WFR -0.524291  0.524291\n",
              "33   WFR   WTD -0.524291  0.524291\n",
              "9    VWD    WD  0.473210  0.473210\n",
              "15    WD   VWD  0.473210  0.473210\n",
              "4    STC   WFR  0.413460  0.413460\n",
              "28   WFR   STC  0.413460  0.413460\n",
              "12   VWD   WTD  0.318710  0.318710\n",
              "36   WTD   VWD  0.318710  0.318710"
            ]
          },
          "execution_count": 160,
          "metadata": {},
          "output_type": "execute_result"
        }
      ],
      "source": [
        "corr_matrix = gs_heat_pump.select_dtypes(include=['float64', 'int']).corr(method='pearson')\n",
        "fcn_corr_matrix(corr_matrix).head(10)"
      ]
    },
    {
      "cell_type": "code",
      "execution_count": null,
      "id": "6b75a3b1",
      "metadata": {
        "id": "6b75a3b1",
        "outputId": "f739e869-1f2c-418b-ce03-1600f2060c0f"
      },
      "outputs": [
        {
          "data": {
            "text/plain": [
              "<AxesSubplot:>"
            ]
          },
          "execution_count": 162,
          "metadata": {},
          "output_type": "execute_result"
        },
        {
          "data": {
            "image/png": "[encoded data removed]",
            "text/plain": [
              "<Figure size 432x288 with 1 Axes>"
            ]
          },
          "metadata": {
            "needs_background": "light"
          },
          "output_type": "display_data"
        }
      ],
      "source": [
        "import seaborn as sns\n",
        "\n",
        "sns.heatmap(corr_matrix,\n",
        "    annot     = True,\n",
        "    cbar      = False,\n",
        "    annot_kws = {\"size\": 8},\n",
        "    vmin      = -1,\n",
        "    vmax      = 1,\n",
        "    center    = 0,\n",
        "    cmap      = sns.diverging_palette(20, 220, n=200),\n",
        "    square    = True,\n",
        ")"
      ]
    },
    {
      "cell_type": "code",
      "execution_count": null,
      "id": "4f7c98b7",
      "metadata": {
        "id": "4f7c98b7",
        "outputId": "76273c47-804e-4867-b0be-4679fb57f2db"
      },
      "outputs": [
        {
          "data": {
            "text/plain": [
              "[<matplotlib.lines.Line2D at 0x7f3baff18760>]"
            ]
          },
          "execution_count": 136,
          "metadata": {},
          "output_type": "execute_result"
        },
        {
          "data": {
            "image/png": "[encoded data removed]",
            "text/plain": [
              "<Figure size 432x288 with 6 Axes>"
            ]
          },
          "metadata": {
            "needs_background": "light"
          },
          "output_type": "display_data"
        }
      ],
      "source": [
        "plt.subplot(3,2,1)\n",
        "plt.plot(gs_heat_pump['STC'],gs_heat_pump['HTR'],'.')\n",
        "\n",
        "plt.subplot(3,2,2)\n",
        "plt.plot(gs_heat_pump['VWD'],gs_heat_pump['HTR'],'.')\n",
        "\n",
        "plt.subplot(3,2,3)\n",
        "plt.plot(gs_heat_pump['WD'],gs_heat_pump['HTR'],'.')\n",
        "\n",
        "plt.subplot(3,2,4)\n",
        "plt.plot(gs_heat_pump['UT'],gs_heat_pump['HTR'],'.')\n",
        "\n",
        "plt.subplot(3,2,5)\n",
        "plt.plot(gs_heat_pump['WFR'],gs_heat_pump['HTR'],'.')\n",
        "\n",
        "plt.subplot(3,2,6)\n",
        "plt.plot(gs_heat_pump['WTD'],gs_heat_pump['HTR'],'.')"
      ]
    },
    {
      "cell_type": "code",
      "execution_count": null,
      "id": "5b51c6a2",
      "metadata": {
        "id": "5b51c6a2",
        "outputId": "ce6500eb-0a0b-498f-dcc9-ead573c21445"
      },
      "outputs": [
        {
          "data": {
            "text/plain": [
              "Text(0, 0.5, 'Heat transfer rate')"
            ]
          },
          "execution_count": 137,
          "metadata": {},
          "output_type": "execute_result"
        },
        {
          "data": {
            "image/png": "[encoded data removed]",
            "text/plain": [
              "<Figure size 432x288 with 1 Axes>"
            ]
          },
          "metadata": {
            "needs_background": "light"
          },
          "output_type": "display_data"
        }
      ],
      "source": [
        "plt.plot(gs_heat_pump['WTD'],gs_heat_pump['HTR'],'.')\n",
        "plt.xlabel('Water temperature difference')\n",
        "plt.ylabel('Heat transfer rate')"
      ]
    },
    {
      "cell_type": "code",
      "execution_count": null,
      "id": "c6ca3c13",
      "metadata": {
        "id": "c6ca3c13",
        "outputId": "228f4967-da50-47f6-e751-978b7f7b68ec"
      },
      "outputs": [
        {
          "name": "stdout",
          "output_type": "stream",
          "text": [
            "Coeficiente de correlación de Pearson:  0.5525522322827214\n",
            "P-value:  2.6781382203733927e-10\n"
          ]
        }
      ],
      "source": [
        "# Correlación lineal entre las dos variables\n",
        "corr_test = pearsonr(x = gs_heat_pump['WTD'], y = gs_heat_pump['HTR'])\n",
        "print(\"Coeficiente de correlación de Pearson: \", corr_test[0])\n",
        "print(\"P-value: \", corr_test[1])"
      ]
    },
    {
      "cell_type": "markdown",
      "id": "efcb3e24",
      "metadata": {
        "id": "efcb3e24"
      },
      "source": [
        "---\n",
        "# Referencias\n",
        "\n",
        "* Bobadilla, J. (2021). Machine Learning y Deep Learning: Usando Python, Scikit y Keras. (1st ed.). Ediciones de la U."
      ]
    }
  ],
  "metadata": {
    "kernelspec": {
      "display_name": "Python 3",
      "language": "python",
      "name": "python3"
    },
    "language_info": {
      "codemirror_mode": {
        "name": "ipython",
        "version": 3
      },
      "file_extension": ".py",
      "mimetype": "text/x-python",
      "name": "python",
      "nbconvert_exporter": "python",
      "pygments_lexer": "ipython3",
      "version": "3.8.2"
    },
    "latex_envs": {
      "LaTeX_envs_menu_present": true,
      "autoclose": true,
      "autocomplete": true,
      "bibliofile": "biblio.bib",
      "cite_by": "apalike",
      "current_citInitial": 1,
      "eqLabelWithNumbers": true,
      "eqNumInitial": 1,
      "hotkeys": {
        "equation": "Ctrl-E",
        "itemize": "Ctrl-I"
      },
      "labels_anchors": false,
      "latex_user_defs": false,
      "report_style_numbering": false,
      "user_envs_cfg": false
    },
    "colab": {
      "name": "Día 2.ipynb",
      "provenance": [],
      "collapsed_sections": [],
      "include_colab_link": true
    }
  },
  "nbformat": 4,
  "nbformat_minor": 5
}
