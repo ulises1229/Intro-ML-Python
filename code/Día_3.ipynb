{
  "cells": [
    {
      "cell_type": "markdown",
      "metadata": {
        "id": "view-in-github",
        "colab_type": "text"
      },
      "source": [
        "<a href=\"https://colab.research.google.com/github/ulises1229/Intro-ML-Python/blob/master/code/D%C3%ADa_3.ipynb\" target=\"_parent\"><img src=\"https://colab.research.google.com/assets/colab-badge.svg\" alt=\"Open In Colab\"/></a>"
      ]
    },
    {
      "cell_type": "markdown",
      "id": "82fa7598",
      "metadata": {
        "id": "82fa7598"
      },
      "source": [
        "# Introducción a Python y aplicaciones en Inteligencia Artificial\n",
        "## Curso intersemestral enero 2022\n",
        "\n",
        "---\n",
        "### Dr. Jesús Emmanuel Solís Pérez\n",
        "#### jessolisperez@gmail.com\n",
        "---"
      ]
    },
    {
      "cell_type": "markdown",
      "id": "4b117934",
      "metadata": {
        "id": "4b117934"
      },
      "source": [
        "# Seperación y entrenamiento\n",
        "\n",
        "Para ajustar los modelos de regresión, hemos considerado toda la base de datos durante el entrenamiento del modelo. Como vimos con anterioridad esto puede presentar problemas de overfitting ante la presencia de datos nuevos. Para evitar este problema, vamos a dividir nuestra base de datos con lo siguiente:\n",
        "\n",
        "`from sklearn.model_selection import train_test_split`"
      ]
    },
    {
      "cell_type": "code",
      "execution_count": null,
      "id": "e9831c11",
      "metadata": {
        "id": "e9831c11"
      },
      "outputs": [],
      "source": [
        "from sklearn.model_selection import train_test_split"
      ]
    },
    {
      "cell_type": "code",
      "execution_count": null,
      "id": "2ae74699",
      "metadata": {
        "id": "2ae74699"
      },
      "outputs": [],
      "source": [
        "train_test_split?"
      ]
    },
    {
      "cell_type": "code",
      "execution_count": null,
      "id": "c3e9c5b6",
      "metadata": {
        "id": "c3e9c5b6"
      },
      "outputs": [],
      "source": [
        "import numpy as np\n",
        "import pandas as pd\n",
        "\n",
        "from sklearn.linear_model import LinearRegression\n",
        "from sklearn import metrics\n",
        "from sklearn import datasets"
      ]
    },
    {
      "cell_type": "code",
      "execution_count": null,
      "id": "fb50f0e5",
      "metadata": {
        "id": "fb50f0e5"
      },
      "outputs": [],
      "source": [
        "boston_db = datasets.load_boston()"
      ]
    },
    {
      "cell_type": "code",
      "execution_count": null,
      "id": "a9a1f5f8",
      "metadata": {
        "id": "a9a1f5f8",
        "outputId": "5f4a341d-e8ee-4145-b3f6-f3e2d973e4af"
      },
      "outputs": [
        {
          "data": {
            "text/plain": [
              "(506, 13)"
            ]
          },
          "execution_count": 6,
          "metadata": {},
          "output_type": "execute_result"
        }
      ],
      "source": [
        "boston_db['data'].shape"
      ]
    },
    {
      "cell_type": "code",
      "execution_count": null,
      "id": "a5154e57",
      "metadata": {
        "id": "a5154e57"
      },
      "outputs": [],
      "source": [
        "X_train, X_test, y_train, y_test = train_test_split(boston_db[\"data\"], boston_db[\"target\"],\n",
        "                                                    test_size=0.30, random_state=1989) # 70% entrenamiento\n",
        "                                                                                       # 30% prueba"
      ]
    },
    {
      "cell_type": "code",
      "execution_count": null,
      "id": "8d102e10",
      "metadata": {
        "id": "8d102e10",
        "outputId": "0afeea7a-04a6-4f50-a389-64121130c93c"
      },
      "outputs": [
        {
          "name": "stdout",
          "output_type": "stream",
          "text": [
            "(354, 13) (354,)\n",
            "(152, 13) (152,)\n"
          ]
        }
      ],
      "source": [
        "# Datos de entrenamiento\n",
        "print(X_train.shape, y_train.shape)\n",
        "\n",
        "# Datos de prueba\n",
        "print(X_test.shape, y_test.shape)"
      ]
    },
    {
      "cell_type": "code",
      "execution_count": null,
      "id": "a0a40052",
      "metadata": {
        "id": "a0a40052",
        "outputId": "fb456283-3c17-4f4e-dd31-6235b21c6a44"
      },
      "outputs": [
        {
          "data": {
            "text/plain": [
              "151.79999999999998"
            ]
          },
          "execution_count": 10,
          "metadata": {},
          "output_type": "execute_result"
        }
      ],
      "source": [
        "506*0.30 "
      ]
    },
    {
      "cell_type": "code",
      "execution_count": null,
      "id": "f64fc39a",
      "metadata": {
        "id": "f64fc39a"
      },
      "outputs": [],
      "source": [
        "# 1. Creamos el modelo\n",
        "mols = LinearRegression()"
      ]
    },
    {
      "cell_type": "code",
      "execution_count": null,
      "id": "42ca44e5",
      "metadata": {
        "id": "42ca44e5"
      },
      "outputs": [],
      "source": [
        "# 2. Ajustamos el modelo con los datos de entrenamiento\n",
        "mols.fit(X = X_train, y = y_train)\n",
        "\n",
        "# 3. Realizamos las predicciones con los datos de entrenamiento\n",
        "mols_train_pred = mols.predict(X_train)"
      ]
    },
    {
      "cell_type": "code",
      "execution_count": null,
      "id": "421f33d4",
      "metadata": {
        "id": "421f33d4"
      },
      "outputs": [],
      "source": [
        "# 4. Evaluamos el modelo\n",
        "def adjusted_R2(target, estimations, n, p):\n",
        "    R2 = metrics.r2_score(target, estimations)\n",
        "    return (R2 - ((p-1)/(n-p))*(1 - R2))\n",
        "\n",
        "def eval_model(target, estimations, n, p):\n",
        "    return {\n",
        "        'RMSE': metrics.mean_squared_error(target, estimations),\n",
        "        'R²': metrics.r2_score(target, estimations),\n",
        "        'R²adj': adjusted_R2(target, estimations, n, p)\n",
        "    }"
      ]
    },
    {
      "cell_type": "code",
      "execution_count": null,
      "id": "aad69c05",
      "metadata": {
        "id": "aad69c05"
      },
      "outputs": [],
      "source": [
        "results = {}"
      ]
    },
    {
      "cell_type": "code",
      "execution_count": null,
      "id": "72a913e2",
      "metadata": {
        "id": "72a913e2"
      },
      "outputs": [],
      "source": [
        "results['train'] = eval_model(y_train, mols_train_pred, X_train.shape[0], len(mols.coef_))"
      ]
    },
    {
      "cell_type": "code",
      "execution_count": null,
      "id": "aafcc267",
      "metadata": {
        "id": "aafcc267",
        "outputId": "370bad13-62c7-4fca-8bf7-305c8ac0ee47"
      },
      "outputs": [
        {
          "data": {
            "text/html": [
              "<div>\n",
              "<style scoped>\n",
              "    .dataframe tbody tr th:only-of-type {\n",
              "        vertical-align: middle;\n",
              "    }\n",
              "\n",
              "    .dataframe tbody tr th {\n",
              "        vertical-align: top;\n",
              "    }\n",
              "\n",
              "    .dataframe thead th {\n",
              "        text-align: right;\n",
              "    }\n",
              "</style>\n",
              "<table border=\"1\" class=\"dataframe\">\n",
              "  <thead>\n",
              "    <tr style=\"text-align: right;\">\n",
              "      <th></th>\n",
              "      <th>train</th>\n",
              "    </tr>\n",
              "  </thead>\n",
              "  <tbody>\n",
              "    <tr>\n",
              "      <th>RMSE</th>\n",
              "      <td>19.115930</td>\n",
              "    </tr>\n",
              "    <tr>\n",
              "      <th>R²</th>\n",
              "      <td>0.764985</td>\n",
              "    </tr>\n",
              "    <tr>\n",
              "      <th>R²adj</th>\n",
              "      <td>0.756715</td>\n",
              "    </tr>\n",
              "  </tbody>\n",
              "</table>\n",
              "</div>"
            ],
            "text/plain": [
              "           train\n",
              "RMSE   19.115930\n",
              "R²      0.764985\n",
              "R²adj   0.756715"
            ]
          },
          "execution_count": 38,
          "metadata": {},
          "output_type": "execute_result"
        }
      ],
      "source": [
        "pd.DataFrame(results)"
      ]
    },
    {
      "cell_type": "markdown",
      "id": "df402ab8",
      "metadata": {
        "id": "df402ab8"
      },
      "source": [
        "El modelo ya se encuentra entrenado. Los coeficientes del modelo de regresión lineal se encuentran en `modelo_ols.intercept_` y `modelo_ols.coef_`. Entonces vamos a utilizar el modelo con estos parámetros para evaluar su desempeño ante datos nuevos. "
      ]
    },
    {
      "cell_type": "code",
      "execution_count": null,
      "id": "50f9e47b",
      "metadata": {
        "id": "50f9e47b"
      },
      "outputs": [],
      "source": [
        "# 1. Utilizamos la base de datos de prueba para obtener las predicciones\n",
        "mols_test_pred = mols.predict(X_test)"
      ]
    },
    {
      "cell_type": "code",
      "execution_count": null,
      "id": "493e2b90",
      "metadata": {
        "id": "493e2b90"
      },
      "outputs": [],
      "source": [
        "# 2. Evaluamos el modelo\n",
        "results['test'] = eval_model(y_test, mols_test_pred, X_test.shape[0], len(mols.coef_))"
      ]
    },
    {
      "cell_type": "code",
      "execution_count": null,
      "id": "48db9a6f",
      "metadata": {
        "id": "48db9a6f",
        "outputId": "8cfed4d1-8a39-4a60-c844-3efe902bf31a"
      },
      "outputs": [
        {
          "data": {
            "text/html": [
              "<div>\n",
              "<style scoped>\n",
              "    .dataframe tbody tr th:only-of-type {\n",
              "        vertical-align: middle;\n",
              "    }\n",
              "\n",
              "    .dataframe tbody tr th {\n",
              "        vertical-align: top;\n",
              "    }\n",
              "\n",
              "    .dataframe thead th {\n",
              "        text-align: right;\n",
              "    }\n",
              "</style>\n",
              "<table border=\"1\" class=\"dataframe\">\n",
              "  <thead>\n",
              "    <tr style=\"text-align: right;\">\n",
              "      <th></th>\n",
              "      <th>train</th>\n",
              "      <th>test</th>\n",
              "    </tr>\n",
              "  </thead>\n",
              "  <tbody>\n",
              "    <tr>\n",
              "      <th>RMSE</th>\n",
              "      <td>19.115930</td>\n",
              "      <td>31.231160</td>\n",
              "    </tr>\n",
              "    <tr>\n",
              "      <th>R²</th>\n",
              "      <td>0.764985</td>\n",
              "      <td>0.658687</td>\n",
              "    </tr>\n",
              "    <tr>\n",
              "      <th>R²adj</th>\n",
              "      <td>0.756715</td>\n",
              "      <td>0.629221</td>\n",
              "    </tr>\n",
              "  </tbody>\n",
              "</table>\n",
              "</div>"
            ],
            "text/plain": [
              "           train       test\n",
              "RMSE   19.115930  31.231160\n",
              "R²      0.764985   0.658687\n",
              "R²adj   0.756715   0.629221"
            ]
          },
          "execution_count": 41,
          "metadata": {},
          "output_type": "execute_result"
        }
      ],
      "source": [
        "pd.DataFrame(results)"
      ]
    },
    {
      "cell_type": "markdown",
      "id": "3f9c9b11",
      "metadata": {
        "id": "3f9c9b11"
      },
      "source": [
        "¿Qué pasa si en lugar de utilizar `random_state=1989` usamos por ejemplo, `random_state=1999`?"
      ]
    },
    {
      "cell_type": "code",
      "execution_count": null,
      "id": "7bf62db3",
      "metadata": {
        "id": "7bf62db3"
      },
      "outputs": [],
      "source": [
        "X_train, X_test, y_train, y_test = train_test_split(boston_db[\"data\"], boston_db[\"target\"],\n",
        "                                                    test_size=0.30, random_state=1999)"
      ]
    },
    {
      "cell_type": "code",
      "execution_count": null,
      "id": "a5d5550f",
      "metadata": {
        "id": "a5d5550f"
      },
      "outputs": [],
      "source": [
        "# 2. Ajustamos el modelo con los datos de entrenamiento\n",
        "mols.fit(X = X_train, y = y_train)\n",
        "\n",
        "# 3. Realizamos las predicciones con los datos de entrenamiento\n",
        "mols_train_pred = mols.predict(X_train)"
      ]
    },
    {
      "cell_type": "code",
      "execution_count": null,
      "id": "8181024d",
      "metadata": {
        "id": "8181024d"
      },
      "outputs": [],
      "source": [
        "# 4. Evaluamos el modelo\n",
        "results['train_2'] = eval_model(y_train, mols_train_pred, X_train.shape[0], len(mols.coef_))"
      ]
    },
    {
      "cell_type": "code",
      "execution_count": null,
      "id": "c4b4a5e7",
      "metadata": {
        "id": "c4b4a5e7"
      },
      "outputs": [],
      "source": [
        "# 1. Utilizamos la base de datos de prueba para obtener las predicciones\n",
        "mols_test_pred = mols.predict(X_test)"
      ]
    },
    {
      "cell_type": "code",
      "execution_count": null,
      "id": "d1ba2e13",
      "metadata": {
        "id": "d1ba2e13"
      },
      "outputs": [],
      "source": [
        "# 2. Evaluamos el modelo\n",
        "results['test_2'] = eval_model(y_test, mols_test_pred, X_test.shape[0], len(mols.coef_))"
      ]
    },
    {
      "cell_type": "code",
      "execution_count": null,
      "id": "804c648e",
      "metadata": {
        "id": "804c648e",
        "outputId": "23abc32a-9b56-4ce0-b28b-f8c02139c82e"
      },
      "outputs": [
        {
          "data": {
            "text/html": [
              "<div>\n",
              "<style scoped>\n",
              "    .dataframe tbody tr th:only-of-type {\n",
              "        vertical-align: middle;\n",
              "    }\n",
              "\n",
              "    .dataframe tbody tr th {\n",
              "        vertical-align: top;\n",
              "    }\n",
              "\n",
              "    .dataframe thead th {\n",
              "        text-align: right;\n",
              "    }\n",
              "</style>\n",
              "<table border=\"1\" class=\"dataframe\">\n",
              "  <thead>\n",
              "    <tr style=\"text-align: right;\">\n",
              "      <th></th>\n",
              "      <th>train</th>\n",
              "      <th>test</th>\n",
              "      <th>train_2</th>\n",
              "      <th>test_2</th>\n",
              "    </tr>\n",
              "  </thead>\n",
              "  <tbody>\n",
              "    <tr>\n",
              "      <th>RMSE</th>\n",
              "      <td>19.115930</td>\n",
              "      <td>31.231160</td>\n",
              "      <td>22.800213</td>\n",
              "      <td>20.546276</td>\n",
              "    </tr>\n",
              "    <tr>\n",
              "      <th>R²</th>\n",
              "      <td>0.764985</td>\n",
              "      <td>0.658687</td>\n",
              "      <td>0.740066</td>\n",
              "      <td>0.728408</td>\n",
              "    </tr>\n",
              "    <tr>\n",
              "      <th>R²adj</th>\n",
              "      <td>0.756715</td>\n",
              "      <td>0.629221</td>\n",
              "      <td>0.730919</td>\n",
              "      <td>0.704961</td>\n",
              "    </tr>\n",
              "  </tbody>\n",
              "</table>\n",
              "</div>"
            ],
            "text/plain": [
              "           train       test    train_2     test_2\n",
              "RMSE   19.115930  31.231160  22.800213  20.546276\n",
              "R²      0.764985   0.658687   0.740066   0.728408\n",
              "R²adj   0.756715   0.629221   0.730919   0.704961"
            ]
          },
          "execution_count": 47,
          "metadata": {},
          "output_type": "execute_result"
        }
      ],
      "source": [
        "pd.DataFrame(results)"
      ]
    },
    {
      "cell_type": "markdown",
      "id": "b1faf558",
      "metadata": {
        "id": "b1faf558"
      },
      "source": [
        "---\n",
        "# Validación cruzada\n",
        "El error varía dependiendo de la semilla utilizada al momento de hacer la separación de la base de datos en **prueba** y **entrenamiento**. Una forma de evitar esta variabilidad en los errores es utilizando la **validación cruzada**\n",
        "\n",
        "<img src=\"pictures/cross_validation.jpg\" />\n",
        "\n",
        "En $k$ iteración se produce un error $e_{k}$. Al final, se puede obtener la media del error para obtener un índice final:\n",
        "\n",
        "$$\n",
        " E = \\frac{1}{k} \\sum_{j=1}^{k} e_{k}.\n",
        "$$\n",
        "\n",
        "Para $k=4$, tenemos\n",
        "\n",
        "$$\n",
        " E = \\frac{1}{4} \\left( e_{1} + e_{2} + e_{3} + e_{4} \\right).\n",
        "$$\n"
      ]
    },
    {
      "cell_type": "code",
      "execution_count": null,
      "id": "564dbe31",
      "metadata": {
        "id": "564dbe31"
      },
      "outputs": [],
      "source": [
        "from sklearn.model_selection import cross_val_score"
      ]
    },
    {
      "cell_type": "code",
      "execution_count": null,
      "id": "b2dc6062",
      "metadata": {
        "id": "b2dc6062"
      },
      "outputs": [],
      "source": [
        "cross_val_score?"
      ]
    },
    {
      "cell_type": "markdown",
      "id": "c42ff1df",
      "metadata": {
        "id": "c42ff1df"
      },
      "source": [
        "https://scikit-learn.org/stable/modules/model_evaluation.html"
      ]
    },
    {
      "cell_type": "code",
      "execution_count": null,
      "id": "db6f39cf",
      "metadata": {
        "id": "db6f39cf",
        "outputId": "856e8cbb-4c07-4a79-ec00-d46a801d6cbc"
      },
      "outputs": [
        {
          "data": {
            "text/plain": [
              "['accuracy',\n",
              " 'adjusted_mutual_info_score',\n",
              " 'adjusted_rand_score',\n",
              " 'average_precision',\n",
              " 'balanced_accuracy',\n",
              " 'completeness_score',\n",
              " 'explained_variance',\n",
              " 'f1',\n",
              " 'f1_macro',\n",
              " 'f1_micro',\n",
              " 'f1_samples',\n",
              " 'f1_weighted',\n",
              " 'fowlkes_mallows_score',\n",
              " 'homogeneity_score',\n",
              " 'jaccard',\n",
              " 'jaccard_macro',\n",
              " 'jaccard_micro',\n",
              " 'jaccard_samples',\n",
              " 'jaccard_weighted',\n",
              " 'max_error',\n",
              " 'mutual_info_score',\n",
              " 'neg_brier_score',\n",
              " 'neg_log_loss',\n",
              " 'neg_mean_absolute_error',\n",
              " 'neg_mean_gamma_deviance',\n",
              " 'neg_mean_poisson_deviance',\n",
              " 'neg_mean_squared_error',\n",
              " 'neg_mean_squared_log_error',\n",
              " 'neg_median_absolute_error',\n",
              " 'neg_root_mean_squared_error',\n",
              " 'normalized_mutual_info_score',\n",
              " 'precision',\n",
              " 'precision_macro',\n",
              " 'precision_micro',\n",
              " 'precision_samples',\n",
              " 'precision_weighted',\n",
              " 'r2',\n",
              " 'recall',\n",
              " 'recall_macro',\n",
              " 'recall_micro',\n",
              " 'recall_samples',\n",
              " 'recall_weighted',\n",
              " 'roc_auc',\n",
              " 'roc_auc_ovo',\n",
              " 'roc_auc_ovo_weighted',\n",
              " 'roc_auc_ovr',\n",
              " 'roc_auc_ovr_weighted',\n",
              " 'v_measure_score']"
            ]
          },
          "execution_count": 59,
          "metadata": {},
          "output_type": "execute_result"
        }
      ],
      "source": [
        "sorted(metrics.SCORERS.keys())"
      ]
    },
    {
      "cell_type": "code",
      "execution_count": null,
      "id": "863ad58e",
      "metadata": {
        "id": "863ad58e"
      },
      "outputs": [],
      "source": [
        "mols = LinearRegression()\n",
        "Xdata = boston_db['data']\n",
        "target = boston_db['target']"
      ]
    },
    {
      "cell_type": "code",
      "execution_count": null,
      "id": "c4d505d2",
      "metadata": {
        "id": "c4d505d2"
      },
      "outputs": [],
      "source": [
        "results_cross_val_score = cross_val_score(estimator = mols, X = Xdata, y = target,\n",
        "                                          scoring = \"r2\", cv = 10)"
      ]
    },
    {
      "cell_type": "code",
      "execution_count": null,
      "id": "7a453e25",
      "metadata": {
        "id": "7a453e25",
        "outputId": "5b53bdac-581a-47ff-af28-949ec720374e"
      },
      "outputs": [
        {
          "data": {
            "text/plain": [
              "array([ 0.73376082,  0.4730725 , -1.00631454,  0.64113984,  0.54766046,\n",
              "        0.73640292,  0.37828386, -0.12922703, -0.76843243,  0.4189435 ])"
            ]
          },
          "execution_count": 68,
          "metadata": {},
          "output_type": "execute_result"
        }
      ],
      "source": [
        "results_cross_val_score"
      ]
    },
    {
      "cell_type": "code",
      "execution_count": null,
      "id": "68af0ba4",
      "metadata": {
        "id": "68af0ba4",
        "outputId": "77752503-a0b0-4a0e-f1a2-674c50923125"
      },
      "outputs": [
        {
          "data": {
            "text/plain": [
              "0.20252899006056085"
            ]
          },
          "execution_count": 69,
          "metadata": {},
          "output_type": "execute_result"
        }
      ],
      "source": [
        "results_cross_val_score.mean()"
      ]
    },
    {
      "cell_type": "markdown",
      "id": "7aab9107",
      "metadata": {
        "id": "7aab9107"
      },
      "source": [
        "---\n",
        "# Práctica en clase\n",
        "\n",
        "1. Considerar el **Ejemplo 1** del **Día 2** y dividir la base de datos en 60% entrenamiento y 40% prueba.\n",
        "1. Considerar el **Ejemplo 2** del **Día 2** y dividir la base de datos en 60% entrenamiento y 40% prueba."
      ]
    }
  ],
  "metadata": {
    "kernelspec": {
      "display_name": "Python 3",
      "language": "python",
      "name": "python3"
    },
    "language_info": {
      "codemirror_mode": {
        "name": "ipython",
        "version": 3
      },
      "file_extension": ".py",
      "mimetype": "text/x-python",
      "name": "python",
      "nbconvert_exporter": "python",
      "pygments_lexer": "ipython3",
      "version": "3.8.2"
    },
    "latex_envs": {
      "LaTeX_envs_menu_present": true,
      "autoclose": true,
      "autocomplete": true,
      "bibliofile": "biblio.bib",
      "cite_by": "apalike",
      "current_citInitial": 1,
      "eqLabelWithNumbers": true,
      "eqNumInitial": 1,
      "hotkeys": {
        "equation": "Ctrl-E",
        "itemize": "Ctrl-I"
      },
      "labels_anchors": false,
      "latex_user_defs": false,
      "report_style_numbering": false,
      "user_envs_cfg": false
    },
    "colab": {
      "name": "Día 3.ipynb",
      "provenance": [],
      "include_colab_link": true
    }
  },
  "nbformat": 4,
  "nbformat_minor": 5
}
