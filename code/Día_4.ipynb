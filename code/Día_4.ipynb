{
  "cells": [
    {
      "cell_type": "markdown",
      "metadata": {
        "id": "view-in-github",
        "colab_type": "text"
      },
      "source": [
        "<img src=\"pictures/logo_ENESJ.png\" width=140 height=120 />\n",
        "\n",
        "<a href=\"https://colab.research.google.com/github/ulises1229/Intro-ML-Python/blob/master/code/D%C3%ADa_4.ipynb\" target=\"_parent\"><img src=\"https://colab.research.google.com/assets/colab-badge.svg\" alt=\"Open In Colab\"/></a>"
      ]
    },
    {
      "cell_type": "markdown",
      "id": "59290afe",
      "metadata": {
        "id": "59290afe"
      },
      "source": [
        "# Introducción a Python y aplicaciones en Inteligencia Artificial\n",
        "## Curso intersemestral enero 2022\n",
        "\n",
        "---\n",
        "### Dr. Jesús Emmanuel Solís Pérez\n",
        "#### jessolisperez@gmail.com\n",
        "---"
      ]
    },
    {
      "cell_type": "markdown",
      "id": "6eeb0331",
      "metadata": {
        "id": "6eeb0331"
      },
      "source": [
        "# Regresión logística\n",
        "\n",
        "Los modelos lineales suelen utilizarse para la clasificación. Para ello, consideramos una clasificación binaria utilizando la siguiente ecuación:\n",
        "\n",
        "$$\n",
        " \\hat{y} = \\beta_{0}\\cdot x_{1} + \\beta_{1}\\cdot x_{2} + \\cdots + \\beta_{p}\\cdot x_{p} + b > 0.\n",
        "$$\n",
        "\n",
        "Como podemos observar, se parece mucho a la ecuación de un OLS con la diferencia de que establecemos el umbral del valor predicho en cero. Si la ecuación anterior es menor que cero, predecimos la clase $-1$; si es mayor que cero entonces la clase $+1$.\n",
        "\n",
        "| Modelo              | Variable objetivo  | Rango variable       |\n",
        "|:-------------------:|:------------------:|:--------------------:|\n",
        "| Regresión lineal    | Variable numérica  | (-$\\infty$,$\\infty$) |\n",
        "| Regresión logística | Probabilidad clase | $[0,1]$              |\n",
        "\n",
        "Un clasificador binario separa dos clases utilizando una línea, un plano o un hiperplano. Los dos algoritmos de clasificación lineal más utilizados son: **regresión logística** `linear_model.LogisticRegression` y **máquinas de soporte vectorial lineal** `svm.LinearSVC`.\n",
        "\n",
        "Al generar una línea, se puede caer en el error de obtener valores distintos de $0$ y $1$. Esto conlleva a que no se estaría cumpliendo la condición de la probabilidad debe estar en el intervalo $[0,1]$.\n",
        "\n",
        "Para evitar este problema, la regresión logística (Cox, 1958) transforma el valor obtenido por OLS con una función cuyo rango $\\in(0,1)$. En la literatura podemos encontrar diversas funciones que cumplen con lo anterior. La más utilizada es la **función logística** o **sigmoide**:\n",
        "\n",
        "$$\n",
        " \\varphi(\\eta) = \\frac{1}{1 + \\exp(-\\eta)}.\n",
        "$$"
      ]
    },
    {
      "cell_type": "code",
      "execution_count": null,
      "id": "b4ab419a",
      "metadata": {
        "id": "b4ab419a"
      },
      "outputs": [],
      "source": [
        "%matplotlib inline\n",
        "import numpy as np\n",
        "import matplotlib.pyplot as plt"
      ]
    },
    {
      "cell_type": "code",
      "execution_count": null,
      "id": "a7df1186",
      "metadata": {
        "id": "a7df1186",
        "outputId": "499ce04b-4cef-42a2-bab1-c23ef8bfb53d"
      },
      "outputs": [
        {
          "data": {
            "text/plain": [
              "[<matplotlib.lines.Line2D at 0x7f2c060c9af0>]"
            ]
          },
          "execution_count": 5,
          "metadata": {},
          "output_type": "execute_result"
        },
        {
          "data": {
            "image/png": "[encoded data removed]",
            "text/plain": [
              "<Figure size 432x288 with 1 Axes>"
            ]
          },
          "metadata": {
            "needs_background": "light"
          },
          "output_type": "display_data"
        }
      ],
      "source": [
        "x = np.linspace(-3,3,100)\n",
        "\n",
        "logsig = lambda n: 1/(1 + np.exp(-n))\n",
        "\n",
        "plt.plot(x,logsig(x))"
      ]
    },
    {
      "cell_type": "markdown",
      "id": "5f0908f9",
      "metadata": {
        "id": "5f0908f9"
      },
      "source": [
        "Sustituyendo la ecuación del modelo lineal en la ecuación anterior para obtener:\n",
        "\n",
        "$$\n",
        " P(y=1|X = x) = \\frac{\\beta_{0}\\cdot x_{0} + \\beta_{1}\\cdot x_{1} + \\cdots + \\beta_{p}\\cdot x_{p} + b}{1 + \\exp\\left( \\beta_{0}\\cdot x_{0} + \\beta_{1}\\cdot x_{1} + \\cdots + \\beta_{p}\\cdot x_{p} + b \\right)},\n",
        "$$\n",
        "\n",
        "donde $P(y=1|X = x)$ se interpreta como la probabilidad de que $y$ adquiera el valor de $1$, dados los predictores $x_{0},x_{1},\\dots,x_{p}$.\n",
        "\n",
        "Ahora bien, `sklearn` permite trabajar con un modelo de regresión logística con un parámetro de compensación que rige la fuerza de la regularización llamado **C**. Aquí: \n",
        "\n",
        "* Si $C\\gg$, entonces el modelo intenta ajustarse al conjunto de entrenamiento lo mejor posible.\n",
        "* Si $C\\ll$, entonces el modelo intenta encontrar un vector de coeficientes $\\beta$ cercano a cero.\n",
        "\n",
        "Además, el parámetro C influye de la siguiente manera:\n",
        "\n",
        "* Si $C<$, entonces los algoritmos intenten ajustarse a la mayor cantidad de datos.\n",
        "* Si $C>$, entonces los algoritmos tratan de que se clasifiquen correctamente.\n",
        "\n",
        "El valor por default en `linear_model.LogisticRegression` es $C = 1$ que proporciona un rendimiento bastante aceptable, con una precisión del 95% tanto en el conjunto de entrenamiento como en el de prueba.\n"
      ]
    },
    {
      "cell_type": "markdown",
      "id": "e7e866d3",
      "metadata": {
        "id": "e7e866d3"
      },
      "source": [
        "---\n",
        "# Ejemplo 1\n",
        "Para trabajar el modelo de regresión logística, vamos a utilizar [Breast Cancer Wisconsin (Diagnostic) Data Set](https://archive.ics.uci.edu/ml/datasets/breast+cancer+wisconsin+(diagnostic)).\n",
        "\n",
        "En esta base de datos, las características se calculan a partir de una imagen digitalizada de una masa mamaria. \n",
        "\n",
        "**Información de los atributos**\n",
        "1. Número de identificación\n",
        "2. Diagnóstico (M = maligno, B = benigno)\n",
        "3-32)\n",
        "\n",
        "Se calculan diez características de valor real para cada núcleo celular:\n",
        "\n",
        "* radio (media de las distancias desde el centro hasta los puntos del perímetro)\n",
        "* textura (desviación estándar de los valores de la escala de grises)\n",
        "* perímetro\n",
        "* área\n",
        "* suavidad (variación local en longitudes de radio)\n",
        "* compacidad (perímetro ^ 2 / área - 1.0)\n",
        "* concavidad (severidad de las porciones cóncavas del contorno)\n",
        "* puntos cóncavos (número de porciones cóncavas del contorno)\n",
        "* simetría\n",
        "* dimensión fractal (\"aproximación de la línea costera\" - 1)\n",
        "\n",
        "La media, el error estándar y \"peor\" o mayor (media de los tres valores más grandes) de estas características se calcularon para cada imagen, resultando en 30 funciones. Por ejemplo, el campo 3 es Radio medio, campo 13 es Radio SE, el campo 23 es Peor radio (Dua y Graff, 2019).\n",
        "\n",
        "Todos los valores de las funciones se recodifican con cuatro dígitos significativos.\n",
        "\n",
        "Faltan valores de atributo: ninguno\n",
        "\n",
        "Distribución de clases: 357 benignas, 212 malignas\n",
        "\n",
        "Una de las imágenes digitalizadas que conforman la base de datos es la siguiente:\n",
        "\n",
        "<img src=\"../figs/dataset-card.jpg\" width=340 height=180 />"
      ]
    },
    {
      "cell_type": "code",
      "execution_count": null,
      "id": "c821ec59",
      "metadata": {
        "id": "c821ec59",
        "outputId": "448436b4-1734-4f8f-ded3-0dd37db094c4"
      },
      "outputs": [
        {
          "data": {
            "text/plain": [
              "1    357\n",
              "0    212\n",
              "dtype: int64"
            ]
          },
          "execution_count": 109,
          "metadata": {},
          "output_type": "execute_result"
        }
      ],
      "source": [
        "from sklearn.datasets import load_breast_cancer\n",
        "from sklearn.linear_model import LogisticRegression\n",
        "\n",
        "# 1. Carga y regresa el conjunto de datos de Wisconsin de cancer de seno (clasificación)\n",
        "cancer = load_breast_cancer()\n",
        "\n",
        "pd.DataFrame(cancer.target).value_counts()"
      ]
    },
    {
      "cell_type": "code",
      "execution_count": null,
      "id": "9bf58ef2",
      "metadata": {
        "id": "9bf58ef2"
      },
      "outputs": [],
      "source": [
        "# Reemplazamos los 0 por 1 y 1 por cero de modo que tenemos las siguientes clases:\n",
        "# Clase 0: Benignas\n",
        "# Clase 1: Malignas\n",
        "pd.DataFrame(cancer['target']).replace({1:0,0:1}, inplace=True)"
      ]
    },
    {
      "cell_type": "code",
      "execution_count": null,
      "id": "693089ef",
      "metadata": {
        "id": "693089ef",
        "outputId": "e4e95ba3-5a54-4187-b56c-055aad1ce1b6"
      },
      "outputs": [
        {
          "data": {
            "text/plain": [
              "0    357\n",
              "1    212\n",
              "dtype: int64"
            ]
          },
          "execution_count": 112,
          "metadata": {},
          "output_type": "execute_result"
        }
      ],
      "source": [
        "pd.DataFrame(cancer.target).value_counts()"
      ]
    },
    {
      "cell_type": "code",
      "execution_count": null,
      "id": "6d2c88c8",
      "metadata": {
        "id": "6d2c88c8"
      },
      "outputs": [],
      "source": [
        "# 2. Preparamos la base de datos para dividirla en entrenamiento y prueba\n",
        "X_train, X_test, y_train, y_test = train_test_split(cancer.data, cancer.target,\n",
        "                                                    test_size = 0.40, random_state = 1989) # 60% entrenamiento\n",
        "                                                                                           # 40% prueba"
      ]
    },
    {
      "cell_type": "code",
      "execution_count": null,
      "id": "28828585",
      "metadata": {
        "id": "28828585",
        "outputId": "4e4207fb-11d9-4e4e-c675-f0d9ba62d6be"
      },
      "outputs": [
        {
          "name": "stdout",
          "output_type": "stream",
          "text": [
            "Training score: 0.959\n",
            "Test score: 0.939\n"
          ]
        }
      ],
      "source": [
        "# 3. Ajustamos el modelo de regresión logística\n",
        "logreg = LogisticRegression(solver = 'liblinear').fit(X_train, y_train)\n",
        "\n",
        "# 4. Obtenemos la puntuación del modelo\n",
        "print('Training score: {:.3f}'.format(logreg.score(X_train, y_train)))\n",
        "print('Test score: {:.3f}'.format(logreg.score(X_test, y_test)))"
      ]
    },
    {
      "cell_type": "code",
      "execution_count": null,
      "id": "81d73d2f",
      "metadata": {
        "id": "81d73d2f",
        "outputId": "5a18d330-74fb-47d7-edd7-5bdb90cd96b4"
      },
      "outputs": [
        {
          "data": {
            "text/plain": [
              "array([0, 1, 1, 1, 0, 1, 1, 0, 0, 1])"
            ]
          },
          "execution_count": 115,
          "metadata": {},
          "output_type": "execute_result"
        }
      ],
      "source": [
        "# 5. Realizamos las predicciones\n",
        "predicts = logreg.predict(X_test)\n",
        "predicts[:10]"
      ]
    },
    {
      "cell_type": "code",
      "execution_count": null,
      "id": "160bd38c",
      "metadata": {
        "id": "160bd38c",
        "outputId": "0715e023-a988-431b-efe1-cb19c40d5788"
      },
      "outputs": [
        {
          "data": {
            "text/plain": [
              "array([[9.92470832e-01, 7.52916769e-03],\n",
              "       [2.50592828e-05, 9.99974941e-01],\n",
              "       [5.10702591e-15, 1.00000000e+00],\n",
              "       [1.06741299e-08, 9.99999989e-01],\n",
              "       [8.88585618e-01, 1.11414382e-01],\n",
              "       [6.77874712e-09, 9.99999993e-01],\n",
              "       [3.98331205e-01, 6.01668795e-01],\n",
              "       [9.98396803e-01, 1.60319654e-03],\n",
              "       [9.98131568e-01, 1.86843223e-03],\n",
              "       [3.52263364e-05, 9.99964774e-01]])"
            ]
          },
          "execution_count": 116,
          "metadata": {},
          "output_type": "execute_result"
        }
      ],
      "source": [
        "# 6. Calculamos las probabilidades de las predicciones\n",
        "predicts_prob = logreg.predict_proba(X_test)\n",
        "predicts_prob[:10]"
      ]
    },
    {
      "cell_type": "code",
      "execution_count": null,
      "id": "8cadc0af",
      "metadata": {
        "id": "8cadc0af",
        "outputId": "4bdb6f77-faa3-4d89-a661-605f046f3526"
      },
      "outputs": [
        {
          "data": {
            "text/html": [
              "<div>\n",
              "<style scoped>\n",
              "    .dataframe tbody tr th:only-of-type {\n",
              "        vertical-align: middle;\n",
              "    }\n",
              "\n",
              "    .dataframe tbody tr th {\n",
              "        vertical-align: top;\n",
              "    }\n",
              "\n",
              "    .dataframe thead th {\n",
              "        text-align: right;\n",
              "    }\n",
              "</style>\n",
              "<table border=\"1\" class=\"dataframe\">\n",
              "  <thead>\n",
              "    <tr style=\"text-align: right;\">\n",
              "      <th></th>\n",
              "      <th>0</th>\n",
              "      <th>1</th>\n",
              "    </tr>\n",
              "  </thead>\n",
              "  <tbody>\n",
              "    <tr>\n",
              "      <th>0</th>\n",
              "      <td>9.924708e-01</td>\n",
              "      <td>0.007529</td>\n",
              "    </tr>\n",
              "    <tr>\n",
              "      <th>1</th>\n",
              "      <td>2.505928e-05</td>\n",
              "      <td>0.999975</td>\n",
              "    </tr>\n",
              "    <tr>\n",
              "      <th>2</th>\n",
              "      <td>5.107026e-15</td>\n",
              "      <td>1.000000</td>\n",
              "    </tr>\n",
              "    <tr>\n",
              "      <th>3</th>\n",
              "      <td>1.067413e-08</td>\n",
              "      <td>1.000000</td>\n",
              "    </tr>\n",
              "    <tr>\n",
              "      <th>4</th>\n",
              "      <td>8.885856e-01</td>\n",
              "      <td>0.111414</td>\n",
              "    </tr>\n",
              "    <tr>\n",
              "      <th>...</th>\n",
              "      <td>...</td>\n",
              "      <td>...</td>\n",
              "    </tr>\n",
              "    <tr>\n",
              "      <th>223</th>\n",
              "      <td>6.865542e-02</td>\n",
              "      <td>0.931345</td>\n",
              "    </tr>\n",
              "    <tr>\n",
              "      <th>224</th>\n",
              "      <td>9.980006e-01</td>\n",
              "      <td>0.001999</td>\n",
              "    </tr>\n",
              "    <tr>\n",
              "      <th>225</th>\n",
              "      <td>9.977885e-01</td>\n",
              "      <td>0.002212</td>\n",
              "    </tr>\n",
              "    <tr>\n",
              "      <th>226</th>\n",
              "      <td>9.984828e-01</td>\n",
              "      <td>0.001517</td>\n",
              "    </tr>\n",
              "    <tr>\n",
              "      <th>227</th>\n",
              "      <td>9.463175e-05</td>\n",
              "      <td>0.999905</td>\n",
              "    </tr>\n",
              "  </tbody>\n",
              "</table>\n",
              "<p>228 rows × 2 columns</p>\n",
              "</div>"
            ],
            "text/plain": [
              "                0         1\n",
              "0    9.924708e-01  0.007529\n",
              "1    2.505928e-05  0.999975\n",
              "2    5.107026e-15  1.000000\n",
              "3    1.067413e-08  1.000000\n",
              "4    8.885856e-01  0.111414\n",
              "..            ...       ...\n",
              "223  6.865542e-02  0.931345\n",
              "224  9.980006e-01  0.001999\n",
              "225  9.977885e-01  0.002212\n",
              "226  9.984828e-01  0.001517\n",
              "227  9.463175e-05  0.999905\n",
              "\n",
              "[228 rows x 2 columns]"
            ]
          },
          "execution_count": 117,
          "metadata": {},
          "output_type": "execute_result"
        }
      ],
      "source": [
        "probs_df = pd.DataFrame(predicts_prob)\n",
        "probs_df"
      ]
    },
    {
      "cell_type": "code",
      "execution_count": null,
      "id": "594f4e5e",
      "metadata": {
        "id": "594f4e5e",
        "outputId": "6f4d5f17-62ac-42fe-90d5-4af5bb5639f8"
      },
      "outputs": [
        {
          "name": "stdout",
          "output_type": "stream",
          "text": [
            "Training score: 0.982\n",
            "Test score: 0.939\n"
          ]
        }
      ],
      "source": [
        "logreg100 = LogisticRegression(C = 100, solver = 'liblinear').fit(X_train, y_train)\n",
        "\n",
        "print('Training score: {:.3f}'.format(logreg100.score(X_train, y_train)))\n",
        "print('Test score: {:.3f}'.format(logreg100.score(X_test, y_test)))"
      ]
    },
    {
      "cell_type": "code",
      "execution_count": null,
      "id": "e480040a",
      "metadata": {
        "id": "e480040a",
        "outputId": "3faf1139-0146-4967-ffb0-7b8a016badf4"
      },
      "outputs": [
        {
          "name": "stdout",
          "output_type": "stream",
          "text": [
            "Training score: 0.938\n",
            "Test score: 0.934\n"
          ]
        }
      ],
      "source": [
        "logreg001 = LogisticRegression(C = 0.01, solver = 'liblinear').fit(X_train, y_train)\n",
        "\n",
        "print('Training score: {:.3f}'.format(logreg001.score(X_train, y_train)))\n",
        "print('Test score: {:.3f}'.format(logreg001.score(X_test, y_test)))"
      ]
    },
    {
      "cell_type": "code",
      "execution_count": null,
      "id": "7f770abb",
      "metadata": {
        "id": "7f770abb",
        "outputId": "0823ac0a-5f74-4b17-cb60-b408ba3729a7"
      },
      "outputs": [
        {
          "data": {
            "text/plain": [
              "<matplotlib.legend.Legend at 0x7f2be520a1f0>"
            ]
          },
          "execution_count": 121,
          "metadata": {},
          "output_type": "execute_result"
        },
        {
          "data": {
            "image/png": "[encoded data removed]",
            "text/plain": [
              "<Figure size 432x288 with 1 Axes>"
            ]
          },
          "metadata": {
            "needs_background": "light"
          },
          "output_type": "display_data"
        }
      ],
      "source": [
        "plt.plot(logreg.coef_.T, 'o', label = 'C=1')\n",
        "plt.plot(logreg100.coef_.T, '^', label = 'C=100')\n",
        "plt.plot(logreg001.coef_.T, 'v', label = 'C=0.01')\n",
        "plt.xticks(range(cancer.data.shape[1]), cancer.feature_names, rotation = 90)\n",
        "plt.hlines(0, 0, cancer.data.shape[1])\n",
        "plt.ylim(-5, 5)\n",
        "plt.xlabel('Coefficient index')\n",
        "plt.ylabel('Coefficient magnitude')\n",
        "plt.legend()"
      ]
    },
    {
      "cell_type": "code",
      "execution_count": null,
      "id": "6302974f",
      "metadata": {
        "id": "6302974f",
        "outputId": "5f2b4986-486a-4692-e452-ff097085a7e3"
      },
      "outputs": [
        {
          "data": {
            "text/plain": [
              "[<matplotlib.lines.Line2D at 0x7f2be4e12850>,\n",
              " <matplotlib.lines.Line2D at 0x7f2be4e128b0>,\n",
              " <matplotlib.lines.Line2D at 0x7f2be4e12910>,\n",
              " <matplotlib.lines.Line2D at 0x7f2be4e129d0>,\n",
              " <matplotlib.lines.Line2D at 0x7f2be4e12a90>,\n",
              " <matplotlib.lines.Line2D at 0x7f2be4e12b50>,\n",
              " <matplotlib.lines.Line2D at 0x7f2be4e12c10>,\n",
              " <matplotlib.lines.Line2D at 0x7f2be4e12cd0>,\n",
              " <matplotlib.lines.Line2D at 0x7f2be4e12d90>,\n",
              " <matplotlib.lines.Line2D at 0x7f2be4e12e50>,\n",
              " <matplotlib.lines.Line2D at 0x7f2be4e12f10>,\n",
              " <matplotlib.lines.Line2D at 0x7f2be4e12fd0>,\n",
              " <matplotlib.lines.Line2D at 0x7f2be4ea60d0>,\n",
              " <matplotlib.lines.Line2D at 0x7f2be4ea6190>,\n",
              " <matplotlib.lines.Line2D at 0x7f2be4ea6250>,\n",
              " <matplotlib.lines.Line2D at 0x7f2be4ea6310>,\n",
              " <matplotlib.lines.Line2D at 0x7f2be4ea63d0>,\n",
              " <matplotlib.lines.Line2D at 0x7f2be4ea6490>,\n",
              " <matplotlib.lines.Line2D at 0x7f2be4ea6550>,\n",
              " <matplotlib.lines.Line2D at 0x7f2be4ea6610>,\n",
              " <matplotlib.lines.Line2D at 0x7f2be4ea66d0>,\n",
              " <matplotlib.lines.Line2D at 0x7f2be4ea6790>,\n",
              " <matplotlib.lines.Line2D at 0x7f2be4ea6850>,\n",
              " <matplotlib.lines.Line2D at 0x7f2be4ea6910>,\n",
              " <matplotlib.lines.Line2D at 0x7f2be4ea69d0>,\n",
              " <matplotlib.lines.Line2D at 0x7f2be4ea6a90>,\n",
              " <matplotlib.lines.Line2D at 0x7f2be4ea6b50>,\n",
              " <matplotlib.lines.Line2D at 0x7f2be4ea6c10>,\n",
              " <matplotlib.lines.Line2D at 0x7f2be4ea6cd0>,\n",
              " <matplotlib.lines.Line2D at 0x7f2be4ea6d90>]"
            ]
          },
          "execution_count": 122,
          "metadata": {},
          "output_type": "execute_result"
        },
        {
          "data": {
            "image/png": "[encoded data removed]",
            "text/plain": [
              "<Figure size 432x288 with 1 Axes>"
            ]
          },
          "metadata": {
            "needs_background": "light"
          },
          "output_type": "display_data"
        }
      ],
      "source": [
        "plt.plot(X_test, y_test, '.')\n",
        "plt.plot(X_test, predicts, '.k')"
      ]
    },
    {
      "cell_type": "markdown",
      "id": "3a67c116",
      "metadata": {
        "id": "3a67c116"
      },
      "source": [
        "---\n",
        "# Ejemplo 2\n",
        "\n",
        "Base de datos de diabetes de los Indios Pima del Instituto Nacional de Diabetes y Enfermedades Digestivas y Renales\n",
        "\n",
        "**Información relevante**\n",
        "* Todos los pacientes son mujeres de al menos 21 años de ascendencia India Pima. \n",
        "* Número de instancias: 768\n",
        "* Número de atributos: 8 más clase\n",
        "\n",
        "Para cada atributo: (todos con valores numéricos)\n",
        "1. Número de embarazos (PREG)\n",
        "2. Concentración de glucosa en plasma a 2 horas en una prueba de tolerancia a la glucosa oral (HPGC)\n",
        "3. Presión arterial diastólica (mm Hg) (DBP)\n",
        "4. Espesor del pliegue cutáneo del tríceps (mm) (TSFT)\n",
        "5. Insulina sérica de 2 horas (mu U / ml) (HSI)\n",
        "6. Índice de masa corporal (peso en kg / (altura en m) ^ 2) (BMI)\n",
        "7. Función del pedigrí de la diabetes (RDP)\n",
        "8. Edad (años) (AGE)\n",
        "9. Variable de clase (0 o 1) (CLASS)\n",
        "\n",
        "Distribución de clases: (el valor de clase 1 se interpreta como \"positivo a diabetes\")\n",
        "\n",
        "| Valor de la Clase | Número de instancias |\n",
        "| :---------------: | :------------------: |\n",
        "| 0                 | 500                  |\n",
        "| 1                 | 268                  |\n"
      ]
    },
    {
      "cell_type": "code",
      "execution_count": null,
      "id": "ad1efb68",
      "metadata": {
        "id": "ad1efb68",
        "outputId": "fdab2c9e-6cb5-48e4-de13-85c1970297f6"
      },
      "outputs": [
        {
          "data": {
            "text/html": [
              "<div>\n",
              "<style scoped>\n",
              "    .dataframe tbody tr th:only-of-type {\n",
              "        vertical-align: middle;\n",
              "    }\n",
              "\n",
              "    .dataframe tbody tr th {\n",
              "        vertical-align: top;\n",
              "    }\n",
              "\n",
              "    .dataframe thead th {\n",
              "        text-align: right;\n",
              "    }\n",
              "</style>\n",
              "<table border=\"1\" class=\"dataframe\">\n",
              "  <thead>\n",
              "    <tr style=\"text-align: right;\">\n",
              "      <th></th>\n",
              "      <th>PREG</th>\n",
              "      <th>HPGC</th>\n",
              "      <th>DBP</th>\n",
              "      <th>TSFT</th>\n",
              "      <th>HSI</th>\n",
              "      <th>BMI</th>\n",
              "      <th>RDP</th>\n",
              "      <th>AGE</th>\n",
              "      <th>CLASS</th>\n",
              "    </tr>\n",
              "  </thead>\n",
              "  <tbody>\n",
              "    <tr>\n",
              "      <th>0</th>\n",
              "      <td>6</td>\n",
              "      <td>148</td>\n",
              "      <td>72</td>\n",
              "      <td>35</td>\n",
              "      <td>0</td>\n",
              "      <td>33.6</td>\n",
              "      <td>0.627</td>\n",
              "      <td>50</td>\n",
              "      <td>1</td>\n",
              "    </tr>\n",
              "    <tr>\n",
              "      <th>1</th>\n",
              "      <td>1</td>\n",
              "      <td>85</td>\n",
              "      <td>66</td>\n",
              "      <td>29</td>\n",
              "      <td>0</td>\n",
              "      <td>26.6</td>\n",
              "      <td>0.351</td>\n",
              "      <td>31</td>\n",
              "      <td>0</td>\n",
              "    </tr>\n",
              "    <tr>\n",
              "      <th>2</th>\n",
              "      <td>8</td>\n",
              "      <td>183</td>\n",
              "      <td>64</td>\n",
              "      <td>0</td>\n",
              "      <td>0</td>\n",
              "      <td>23.3</td>\n",
              "      <td>0.672</td>\n",
              "      <td>32</td>\n",
              "      <td>1</td>\n",
              "    </tr>\n",
              "    <tr>\n",
              "      <th>3</th>\n",
              "      <td>1</td>\n",
              "      <td>89</td>\n",
              "      <td>66</td>\n",
              "      <td>23</td>\n",
              "      <td>94</td>\n",
              "      <td>28.1</td>\n",
              "      <td>0.167</td>\n",
              "      <td>21</td>\n",
              "      <td>0</td>\n",
              "    </tr>\n",
              "    <tr>\n",
              "      <th>4</th>\n",
              "      <td>0</td>\n",
              "      <td>137</td>\n",
              "      <td>40</td>\n",
              "      <td>35</td>\n",
              "      <td>168</td>\n",
              "      <td>43.1</td>\n",
              "      <td>2.288</td>\n",
              "      <td>33</td>\n",
              "      <td>1</td>\n",
              "    </tr>\n",
              "  </tbody>\n",
              "</table>\n",
              "</div>"
            ],
            "text/plain": [
              "   PREG  HPGC  DBP  TSFT  HSI   BMI    RDP  AGE  CLASS\n",
              "0     6   148   72    35    0  33.6  0.627   50      1\n",
              "1     1    85   66    29    0  26.6  0.351   31      0\n",
              "2     8   183   64     0    0  23.3  0.672   32      1\n",
              "3     1    89   66    23   94  28.1  0.167   21      0\n",
              "4     0   137   40    35  168  43.1  2.288   33      1"
            ]
          },
          "execution_count": 72,
          "metadata": {},
          "output_type": "execute_result"
        }
      ],
      "source": [
        "# 1. Cargamos la base de datos\n",
        "pima_db = pd.read_csv('pima-indians-diabetes.csv')\n",
        "pima_db.head()"
      ]
    },
    {
      "cell_type": "code",
      "execution_count": null,
      "id": "5c04f43f",
      "metadata": {
        "id": "5c04f43f",
        "outputId": "3665d727-85fb-49c3-bc2b-5e70c54e7e25"
      },
      "outputs": [
        {
          "data": {
            "text/html": [
              "<div>\n",
              "<style scoped>\n",
              "    .dataframe tbody tr th:only-of-type {\n",
              "        vertical-align: middle;\n",
              "    }\n",
              "\n",
              "    .dataframe tbody tr th {\n",
              "        vertical-align: top;\n",
              "    }\n",
              "\n",
              "    .dataframe thead th {\n",
              "        text-align: right;\n",
              "    }\n",
              "</style>\n",
              "<table border=\"1\" class=\"dataframe\">\n",
              "  <thead>\n",
              "    <tr style=\"text-align: right;\">\n",
              "      <th></th>\n",
              "      <th>PREG</th>\n",
              "      <th>HPGC</th>\n",
              "      <th>DBP</th>\n",
              "      <th>TSFT</th>\n",
              "      <th>HSI</th>\n",
              "      <th>BMI</th>\n",
              "      <th>RDP</th>\n",
              "      <th>AGE</th>\n",
              "    </tr>\n",
              "  </thead>\n",
              "  <tbody>\n",
              "    <tr>\n",
              "      <th>0</th>\n",
              "      <td>6</td>\n",
              "      <td>148</td>\n",
              "      <td>72</td>\n",
              "      <td>35</td>\n",
              "      <td>0</td>\n",
              "      <td>33.6</td>\n",
              "      <td>0.627</td>\n",
              "      <td>50</td>\n",
              "    </tr>\n",
              "    <tr>\n",
              "      <th>1</th>\n",
              "      <td>1</td>\n",
              "      <td>85</td>\n",
              "      <td>66</td>\n",
              "      <td>29</td>\n",
              "      <td>0</td>\n",
              "      <td>26.6</td>\n",
              "      <td>0.351</td>\n",
              "      <td>31</td>\n",
              "    </tr>\n",
              "    <tr>\n",
              "      <th>2</th>\n",
              "      <td>8</td>\n",
              "      <td>183</td>\n",
              "      <td>64</td>\n",
              "      <td>0</td>\n",
              "      <td>0</td>\n",
              "      <td>23.3</td>\n",
              "      <td>0.672</td>\n",
              "      <td>32</td>\n",
              "    </tr>\n",
              "    <tr>\n",
              "      <th>3</th>\n",
              "      <td>1</td>\n",
              "      <td>89</td>\n",
              "      <td>66</td>\n",
              "      <td>23</td>\n",
              "      <td>94</td>\n",
              "      <td>28.1</td>\n",
              "      <td>0.167</td>\n",
              "      <td>21</td>\n",
              "    </tr>\n",
              "    <tr>\n",
              "      <th>4</th>\n",
              "      <td>0</td>\n",
              "      <td>137</td>\n",
              "      <td>40</td>\n",
              "      <td>35</td>\n",
              "      <td>168</td>\n",
              "      <td>43.1</td>\n",
              "      <td>2.288</td>\n",
              "      <td>33</td>\n",
              "    </tr>\n",
              "    <tr>\n",
              "      <th>...</th>\n",
              "      <td>...</td>\n",
              "      <td>...</td>\n",
              "      <td>...</td>\n",
              "      <td>...</td>\n",
              "      <td>...</td>\n",
              "      <td>...</td>\n",
              "      <td>...</td>\n",
              "      <td>...</td>\n",
              "    </tr>\n",
              "    <tr>\n",
              "      <th>763</th>\n",
              "      <td>10</td>\n",
              "      <td>101</td>\n",
              "      <td>76</td>\n",
              "      <td>48</td>\n",
              "      <td>180</td>\n",
              "      <td>32.9</td>\n",
              "      <td>0.171</td>\n",
              "      <td>63</td>\n",
              "    </tr>\n",
              "    <tr>\n",
              "      <th>764</th>\n",
              "      <td>2</td>\n",
              "      <td>122</td>\n",
              "      <td>70</td>\n",
              "      <td>27</td>\n",
              "      <td>0</td>\n",
              "      <td>36.8</td>\n",
              "      <td>0.340</td>\n",
              "      <td>27</td>\n",
              "    </tr>\n",
              "    <tr>\n",
              "      <th>765</th>\n",
              "      <td>5</td>\n",
              "      <td>121</td>\n",
              "      <td>72</td>\n",
              "      <td>23</td>\n",
              "      <td>112</td>\n",
              "      <td>26.2</td>\n",
              "      <td>0.245</td>\n",
              "      <td>30</td>\n",
              "    </tr>\n",
              "    <tr>\n",
              "      <th>766</th>\n",
              "      <td>1</td>\n",
              "      <td>126</td>\n",
              "      <td>60</td>\n",
              "      <td>0</td>\n",
              "      <td>0</td>\n",
              "      <td>30.1</td>\n",
              "      <td>0.349</td>\n",
              "      <td>47</td>\n",
              "    </tr>\n",
              "    <tr>\n",
              "      <th>767</th>\n",
              "      <td>1</td>\n",
              "      <td>93</td>\n",
              "      <td>70</td>\n",
              "      <td>31</td>\n",
              "      <td>0</td>\n",
              "      <td>30.4</td>\n",
              "      <td>0.315</td>\n",
              "      <td>23</td>\n",
              "    </tr>\n",
              "  </tbody>\n",
              "</table>\n",
              "<p>768 rows × 8 columns</p>\n",
              "</div>"
            ],
            "text/plain": [
              "     PREG  HPGC  DBP  TSFT  HSI   BMI    RDP  AGE\n",
              "0       6   148   72    35    0  33.6  0.627   50\n",
              "1       1    85   66    29    0  26.6  0.351   31\n",
              "2       8   183   64     0    0  23.3  0.672   32\n",
              "3       1    89   66    23   94  28.1  0.167   21\n",
              "4       0   137   40    35  168  43.1  2.288   33\n",
              "..    ...   ...  ...   ...  ...   ...    ...  ...\n",
              "763    10   101   76    48  180  32.9  0.171   63\n",
              "764     2   122   70    27    0  36.8  0.340   27\n",
              "765     5   121   72    23  112  26.2  0.245   30\n",
              "766     1   126   60     0    0  30.1  0.349   47\n",
              "767     1    93   70    31    0  30.4  0.315   23\n",
              "\n",
              "[768 rows x 8 columns]"
            ]
          },
          "execution_count": 73,
          "metadata": {},
          "output_type": "execute_result"
        }
      ],
      "source": [
        "vars_names = list(pima_db.keys().drop('CLASS'))\n",
        "pima_db[vars_names]"
      ]
    },
    {
      "cell_type": "code",
      "execution_count": null,
      "id": "e91af180",
      "metadata": {
        "id": "e91af180"
      },
      "outputs": [],
      "source": [
        "# 2. Preparamos la base de datos para dividirla en entrenamiento y prueba\n",
        "X_train, X_test, y_train, y_test = train_test_split(pima_db[vars_names], pima_db.CLASS,\n",
        "                                                    test_size = 0.40, random_state = 1989) # 60% entrenamiento\n",
        "                                                                                           # 40% prueba"
      ]
    },
    {
      "cell_type": "code",
      "execution_count": null,
      "id": "ffee31e2",
      "metadata": {
        "id": "ffee31e2",
        "outputId": "6c49cff5-7c35-410f-be69-478ee840c5f3"
      },
      "outputs": [
        {
          "name": "stdout",
          "output_type": "stream",
          "text": [
            "Training score: 0.772\n",
            "Test score: 0.776\n"
          ]
        }
      ],
      "source": [
        "# 3. Ajustamos el modelo de regresión logística\n",
        "logreg = LogisticRegression(solver = 'liblinear').fit(X_train, y_train)\n",
        "\n",
        "# 4. Obtenemos la puntuación del modelo\n",
        "print('Training score: {:.3f}'.format(logreg.score(X_train, y_train)))\n",
        "print('Test score: {:.3f}'.format(logreg.score(X_test, y_test)))"
      ]
    },
    {
      "cell_type": "code",
      "execution_count": null,
      "id": "4765e98d",
      "metadata": {
        "id": "4765e98d"
      },
      "outputs": [],
      "source": [
        "# 5. Realizamos las predicciones\n",
        "predicts = logreg.predict(X_test)"
      ]
    },
    {
      "cell_type": "code",
      "execution_count": null,
      "id": "769441f6",
      "metadata": {
        "id": "769441f6",
        "outputId": "54ebdf19-354e-449b-c43b-835e4793331f"
      },
      "outputs": [
        {
          "data": {
            "text/plain": [
              "[<matplotlib.lines.Line2D at 0x7f2be5403f40>,\n",
              " <matplotlib.lines.Line2D at 0x7f2be5403fa0>,\n",
              " <matplotlib.lines.Line2D at 0x7f2be5410040>,\n",
              " <matplotlib.lines.Line2D at 0x7f2be5410100>,\n",
              " <matplotlib.lines.Line2D at 0x7f2be54101c0>,\n",
              " <matplotlib.lines.Line2D at 0x7f2be5410280>,\n",
              " <matplotlib.lines.Line2D at 0x7f2be5410340>,\n",
              " <matplotlib.lines.Line2D at 0x7f2be5410400>]"
            ]
          },
          "execution_count": 82,
          "metadata": {},
          "output_type": "execute_result"
        },
        {
          "data": {
            "image/png": "[encoded data removed]",
            "text/plain": [
              "<Figure size 432x288 with 1 Axes>"
            ]
          },
          "metadata": {
            "needs_background": "light"
          },
          "output_type": "display_data"
        }
      ],
      "source": [
        "plt.plot(X_test, y_test, '.')\n",
        "plt.plot(X_test, predicts, '.k')"
      ]
    },
    {
      "cell_type": "markdown",
      "id": "728cfc37",
      "metadata": {
        "id": "728cfc37"
      },
      "source": [
        "---\n",
        "# Evaluación de modelos de clasificación\n",
        "Recordemos que un clasificador binario sólo evalúa dos clases: clase $0$ y clase $1$. Para la base de datos de cáncer después de un reemplazo tenemos tenemos:\n",
        "\n",
        "* _Casos negativos_: Clase $1$ (212 malignas)\n",
        "* _Casos positivos_: Clase $0$ (357 benignas)"
      ]
    },
    {
      "cell_type": "code",
      "execution_count": null,
      "id": "e174fed0",
      "metadata": {
        "id": "e174fed0",
        "outputId": "626ef86c-0c6e-4d30-d70b-d8fec3b7ca4c"
      },
      "outputs": [
        {
          "data": {
            "text/plain": [
              "0    357\n",
              "1    212\n",
              "dtype: int64"
            ]
          },
          "execution_count": 123,
          "metadata": {},
          "output_type": "execute_result"
        }
      ],
      "source": [
        "pd.DataFrame(cancer.target).value_counts()"
      ]
    },
    {
      "cell_type": "markdown",
      "id": "47869c1b",
      "metadata": {
        "id": "47869c1b"
      },
      "source": [
        "A partir de lo anterior, tenemos 4 tipos de observaciones:\n",
        "\n",
        "* **True Positives (TP)**. Masas malignas que se clasifican como malignas.\n",
        "* **False Positives (FP)**. Masas benignas que se clasifican como malignas.\n",
        "* **True Negatives (TN)**. Masas malignas que se clasifican como malignas.\n",
        "* **False Negatives (FN)**. Masas malignas que se clasifican como benignas.\n",
        "\n",
        "<img src=\"../figs/TP-FP-FN-TN.png\" width=340 heigth=180 />\n",
        "\n",
        "> Imagen recuperada de Olson et. al (2015)\n",
        "\n",
        "## Ratios de clasificación\n",
        "\n",
        "Para poder utilizar los siguientes ratios, es necesaria la siguiente instrucción: `from sklearn import metrics`\n",
        "\n",
        "* Accuracy (Exactitud)\n",
        "\n",
        "Mide la cantidad de casos que se han clasificado correctamente a partir de la siguiente ecuación:\n",
        "\n",
        "$$\n",
        " ACC = \\frac{TP + TN}{TP + TN + FP + FN} = \\frac{\\text{Número de observaciones correctamente clasificadas}}{\\text{Número de observaciones totales}}.\n",
        "$$\n",
        "\n",
        "`metrics.accuracy_score(real_classes, predictions)`\n",
        "\n",
        "* Precission (Precisión)\n",
        "\n",
        "Mide la habilidad del modelo para clasificar los casos positivos como positivos:\n",
        "\n",
        "$$\n",
        " PRE = \\frac{TP}{TP + FP} = \\frac{\\text{Número de observaciones positivas correctamente clasificadas}}{\\text{Número de observaciones clasificadas como positivas}}.\n",
        "$$\n",
        "\n",
        "`metrics.average_precision_score(real_classes, predictions)`\n",
        "\n",
        "* Sensitivity (Sensibilidad)\n",
        "\n",
        "Mide la habilidad del modelo para encontrar todos los casos positivos:\n",
        "\n",
        "$$\n",
        " SEN = \\frac{TP}{TP + FN} = \\frac{\\text{Número de observaciones positivas clasificadas como positivas}}{\\text{Número de observaciones positivas totales}}\n",
        "$$\n",
        "\n",
        "`metrics.recall_score(real_classes, predictions)`\n",
        "\n",
        "* Matriz de confusión\n",
        "\n",
        "Una alternativa y sencilla de comparar cómo el modelo ha clasificado cada observación\n",
        "\n",
        "`from sklearn.metrics import confusion_matrix`\n",
        "\n",
        "`confusion_matrix(real_classes, predictions)`"
      ]
    },
    {
      "cell_type": "markdown",
      "id": "d29520b4",
      "metadata": {
        "id": "d29520b4"
      },
      "source": [
        "* F1 score\n",
        "\n",
        "Es una medida ponderada entre SEN y ACC:\n",
        "\n",
        "$$\n",
        " F_{1} = 2\\cdot \\frac{1}{\\frac{1}{ACC} + \\frac{1}{SEN}} = 2\\cdot \\frac{ACC\\cdot SEN}{ACC + SEN}.\n",
        "$$\n",
        "\n",
        "`metrics.f1_score(real_classes, predictions)`\n",
        "\n",
        "* False Positive Ratio\n",
        "\n",
        "Es una medida de las probabilidades del modelo para asignar una clase positiva a un caso negativo:\n",
        "\n",
        "$$\n",
        " FPR = \\frac{FP}{FP + TN} = \\frac{\\text{Número de observaciones negativas clasificadas como positivas}}{\\text{Número de observaciones negativas}}.\n",
        "$$\n",
        "\n",
        "`fpr(real_classes, predictions)`\n",
        "\n",
        "* Area Under the Curve (ROC-AUC)\n",
        "\n",
        "Permite encontrar un modelo que optimice la compensación entre FP y TP. El área debajo de la curva nos permite hacer la elección del modelo. Por ejemplo, si el área se encuentra al 100% entonces el modelo es capaz de distinguir entre resultados negativos y positivos la mayor parte del tiempo. Cuanto menor sea el área, peor será la clasificación.\n",
        "\n",
        "<img src=\"../figs/ROC.png\" />\n",
        "\n",
        "`metrics.roc_auc_score(real_classes, predictions)`"
      ]
    },
    {
      "cell_type": "markdown",
      "id": "586bc40c",
      "metadata": {
        "id": "586bc40c"
      },
      "source": [
        "---\n",
        "# Evaluación del modelo del Ejemplo 1"
      ]
    },
    {
      "cell_type": "code",
      "execution_count": null,
      "id": "307623bc",
      "metadata": {
        "id": "307623bc"
      },
      "outputs": [],
      "source": [
        "from sklearn import metrics\n",
        "\n",
        "def eval_model(target, estimations):\n",
        "    return {\n",
        "        'ACC': metrics.accuracy_score(target, estimations),\n",
        "        'PRE': metrics.average_precision_score(target, estimations),\n",
        "        'SEN': metrics.recall_score(target, estimations),\n",
        "        'F1': metrics.f1_score(target, estimations),\n",
        "        'AuC': metrics.roc_auc_score(target, estimations)\n",
        "    }"
      ]
    },
    {
      "cell_type": "code",
      "execution_count": null,
      "id": "781bf94e",
      "metadata": {
        "id": "781bf94e"
      },
      "outputs": [],
      "source": [
        "# 2. Preparamos la base de datos para dividirla en entrenamiento y prueba\n",
        "X_train, X_test, y_train, y_test = train_test_split(cancer.data, cancer.target,\n",
        "                                                    test_size = 0.40, random_state = 1989) # 60% entrenamiento\n",
        "                                                                                           # 40% prueba\n",
        "                                                                                           \n",
        "# 3. Ajustamos el modelo de regresión logística\n",
        "logreg = LogisticRegression(solver = 'liblinear').fit(X_train, y_train)\n",
        "\n",
        "# 5. Realizamos las predicciones\n",
        "predicts_train = logreg.predict(X_train)\n",
        "predicts_test = logreg.predict(X_test)"
      ]
    },
    {
      "cell_type": "code",
      "execution_count": null,
      "id": "ec210897",
      "metadata": {
        "id": "ec210897"
      },
      "outputs": [],
      "source": [
        "results = {}"
      ]
    },
    {
      "cell_type": "code",
      "execution_count": null,
      "id": "06006d34",
      "metadata": {
        "id": "06006d34"
      },
      "outputs": [],
      "source": [
        "results['train'] = eval_model(y_train,predicts_train)\n",
        "results['test'] = eval_model(y_test,predicts_test)"
      ]
    },
    {
      "cell_type": "code",
      "execution_count": null,
      "id": "e2eab903",
      "metadata": {
        "id": "e2eab903",
        "outputId": "84ef7c24-f8d8-4f0f-b79f-757c2abab364"
      },
      "outputs": [
        {
          "data": {
            "text/html": [
              "<div>\n",
              "<style scoped>\n",
              "    .dataframe tbody tr th:only-of-type {\n",
              "        vertical-align: middle;\n",
              "    }\n",
              "\n",
              "    .dataframe tbody tr th {\n",
              "        vertical-align: top;\n",
              "    }\n",
              "\n",
              "    .dataframe thead th {\n",
              "        text-align: right;\n",
              "    }\n",
              "</style>\n",
              "<table border=\"1\" class=\"dataframe\">\n",
              "  <thead>\n",
              "    <tr style=\"text-align: right;\">\n",
              "      <th></th>\n",
              "      <th>train</th>\n",
              "      <th>test</th>\n",
              "    </tr>\n",
              "  </thead>\n",
              "  <tbody>\n",
              "    <tr>\n",
              "      <th>ACC</th>\n",
              "      <td>0.958944</td>\n",
              "      <td>0.938596</td>\n",
              "    </tr>\n",
              "    <tr>\n",
              "      <th>PRE</th>\n",
              "      <td>0.911165</td>\n",
              "      <td>0.881196</td>\n",
              "    </tr>\n",
              "    <tr>\n",
              "      <th>SEN</th>\n",
              "      <td>0.934426</td>\n",
              "      <td>0.922222</td>\n",
              "    </tr>\n",
              "    <tr>\n",
              "      <th>F1</th>\n",
              "      <td>0.942149</td>\n",
              "      <td>0.922222</td>\n",
              "    </tr>\n",
              "    <tr>\n",
              "      <th>AuC</th>\n",
              "      <td>0.953514</td>\n",
              "      <td>0.935749</td>\n",
              "    </tr>\n",
              "  </tbody>\n",
              "</table>\n",
              "</div>"
            ],
            "text/plain": [
              "        train      test\n",
              "ACC  0.958944  0.938596\n",
              "PRE  0.911165  0.881196\n",
              "SEN  0.934426  0.922222\n",
              "F1   0.942149  0.922222\n",
              "AuC  0.953514  0.935749"
            ]
          },
          "execution_count": 138,
          "metadata": {},
          "output_type": "execute_result"
        }
      ],
      "source": [
        "pd.DataFrame(results)"
      ]
    },
    {
      "cell_type": "markdown",
      "id": "84c36615",
      "metadata": {
        "id": "84c36615"
      },
      "source": [
        "Recordando\n",
        "\n",
        "<img src=\"../figs/TP-FP-FN-TN.png\" width=340 heigth=180 />"
      ]
    },
    {
      "cell_type": "code",
      "execution_count": null,
      "id": "51fe7b58",
      "metadata": {
        "id": "51fe7b58",
        "outputId": "025ef17f-929e-4c63-e9b6-4914dd72c851"
      },
      "outputs": [
        {
          "data": {
            "text/plain": [
              "array([[213,   6],\n",
              "       [  8, 114]])"
            ]
          },
          "execution_count": 140,
          "metadata": {},
          "output_type": "execute_result"
        }
      ],
      "source": [
        "from sklearn.metrics import confusion_matrix\n",
        "\n",
        "confusion_matrix(y_train,predicts_train)"
      ]
    },
    {
      "cell_type": "code",
      "execution_count": null,
      "id": "38cbb363",
      "metadata": {
        "id": "38cbb363",
        "outputId": "a669000b-5416-4296-97bd-10802e092762"
      },
      "outputs": [
        {
          "data": {
            "text/plain": [
              "array([[131,   7],\n",
              "       [  7,  83]])"
            ]
          },
          "execution_count": 141,
          "metadata": {},
          "output_type": "execute_result"
        }
      ],
      "source": [
        "confusion_matrix(y_test,predicts_test)"
      ]
    },
    {
      "cell_type": "markdown",
      "id": "46625b55",
      "metadata": {
        "id": "46625b55"
      },
      "source": [
        "---\n",
        "# Práctica en clase\n",
        "Evaluación del modelo del Ejemplo 2"
      ]
    },
    {
      "cell_type": "markdown",
      "id": "d257331a",
      "metadata": {
        "id": "d257331a"
      },
      "source": [
        "---\n",
        "# Referencias\n",
        "* Cox, D. R. (1958). The regression analysis of binary sequences. Journal of the Royal Statistical Society: Series B (Methodological), 20(2), 215-232.\n",
        "* Dua, D. and Graff, C. (2019). [UCI Machine Learning Repository](http://archive.ics.uci.edu/ml). Irvine, CA: University of California, School of Information and Computer Science.\n",
        "* Olson, N. D., Lund, S. P., Colman, R. E., Foster, J. T., Sahl, J. W., Schupp, J. M., ... & Zook, J. M. (2015). Best practices for evaluating single nucleotide variant calling methods for microbial genomics. Frontiers in genetics, 6, 235."
      ]
    }
  ],
  "metadata": {
    "kernelspec": {
      "display_name": "Python 3",
      "language": "python",
      "name": "python3"
    },
    "language_info": {
      "codemirror_mode": {
        "name": "ipython",
        "version": 3
      },
      "file_extension": ".py",
      "mimetype": "text/x-python",
      "name": "python",
      "nbconvert_exporter": "python",
      "pygments_lexer": "ipython3",
      "version": "3.8.2"
    },
    "latex_envs": {
      "LaTeX_envs_menu_present": true,
      "autoclose": true,
      "autocomplete": true,
      "bibliofile": "biblio.bib",
      "cite_by": "apalike",
      "current_citInitial": 1,
      "eqLabelWithNumbers": true,
      "eqNumInitial": 1,
      "hotkeys": {
        "equation": "Ctrl-E",
        "itemize": "Ctrl-I"
      },
      "labels_anchors": false,
      "latex_user_defs": false,
      "report_style_numbering": false,
      "user_envs_cfg": false
    },
    "colab": {
      "name": "Día 4.ipynb",
      "provenance": [],
      "include_colab_link": true
    }
  },
  "nbformat": 4,
  "nbformat_minor": 5
}
