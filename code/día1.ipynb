{
  "nbformat": 4,
  "nbformat_minor": 0,
  "metadata": {
    "colab": {
      "name": "día1.ipynb",
      "provenance": [],
      "collapsed_sections": [],
      "authorship_tag": "ABX9TyPm74wK2/+R+dyIgb2G6ZIm",
      "include_colab_link": true
    },
    "kernelspec": {
      "name": "python3",
      "display_name": "Python 3"
    }
  },
  "cells": [
    {
      "cell_type": "markdown",
      "metadata": {
        "id": "view-in-github",
        "colab_type": "text"
      },
      "source": [
        "<a href=\"https://colab.research.google.com/github/ulises1229/INTRO-PYTHON-ENESJ/blob/master/code/d%C3%ADa1.ipynb\" target=\"_parent\"><img src=\"https://colab.research.google.com/assets/colab-badge.svg\" alt=\"Open In Colab\"/></a>"
      ]
    },
    {
      "cell_type": "markdown",
      "metadata": {
        "id": "b-eudR2GKC0m",
        "colab_type": "text"
      },
      "source": [
        "## Día 1 - Curso-Taller: Introducción a Python\n",
        "##### Autor: Ulises Olivares\n",
        "##### uolivares@unam.mx\n",
        "##### 31 de agosto de 2020\n",
        "\n"
      ]
    },
    {
      "cell_type": "code",
      "metadata": {
        "id": "cMQgltlANDpS",
        "colab_type": "code",
        "colab": {
          "base_uri": "https://localhost:8080/",
          "height": 35
        },
        "outputId": "9caeebef-afe0-489d-fabf-a616b0df68a4"
      },
      "source": [
        "# Mezclando strings con números\n",
        "a = 5\n",
        "b = 5\n",
        "\n",
        "print(\"El valor de a es: \" + str(a))"
      ],
      "execution_count": null,
      "outputs": [
        {
          "output_type": "stream",
          "text": [
            "El valor de a es: 5\n"
          ],
          "name": "stdout"
        }
      ]
    },
    {
      "cell_type": "markdown",
      "metadata": {
        "id": "uAUA5jvEEHKX",
        "colab_type": "text"
      },
      "source": [
        "#### Ejercicio 1"
      ]
    },
    {
      "cell_type": "code",
      "metadata": {
        "id": "ssZuHWQ2FpeK",
        "colab_type": "code",
        "colab": {
          "base_uri": "https://localhost:8080/",
          "height": 86
        },
        "outputId": "6d811799-80a8-4b29-9ab0-01e15f4d8156"
      },
      "source": [
        "#Ingresando flujos desde teclado\n",
        "# Ejercicio 1\n",
        "num1 = float(input(\"Ingresa un primer número:\"))\n",
        "num2 = float(input(\"Ingresa un segundo número:\"))\n",
        "#opc = int(input(\"Selecciona la operación deseada \n",
        "#        \\n 1) Suma \\n 2) Resta, \\n 3) Multiplicación\"))\n",
        "suma = num1 + num2\n",
        "print(\"La resta es: \" + str(suma))\n",
        "type(suma)"
      ],
      "execution_count": null,
      "outputs": [
        {
          "output_type": "stream",
          "text": [
            "Ingresa un primer número:1\n",
            "Ingresa un segundo número:2\n",
            "La resta es: -1.0\n"
          ],
          "name": "stdout"
        },
        {
          "output_type": "execute_result",
          "data": {
            "text/plain": [
              "float"
            ]
          },
          "metadata": {
            "tags": []
          },
          "execution_count": 18
        }
      ]
    },
    {
      "cell_type": "markdown",
      "metadata": {
        "id": "LSZFpMI1TQrk",
        "colab_type": "text"
      },
      "source": [
        "#### Cadenas"
      ]
    },
    {
      "cell_type": "code",
      "metadata": {
        "id": "gl-905d8Pv0V",
        "colab_type": "code",
        "colab": {
          "base_uri": "https://localhost:8080/",
          "height": 156
        },
        "outputId": "f96a5756-c02d-4a80-a7f8-5f1d5a0ae338"
      },
      "source": [
        "# Cadenas de carácteres\n",
        "# Indices \n",
        "cad = \"Curso Python\"\n",
        "dim = len(cad)\n",
        "print(\"Dimensión de la cadena: \" + str(dim))\n",
        "\n",
        "# Imprimir el inicio de la cadena hasta la posición 7\n",
        "print(cad[:7])\n",
        "\n",
        "# Funciones para strings\n",
        "# Transformar a mayúsculas\n",
        "print(cad.upper())\n",
        "cad = cad.upper()\n",
        "\n",
        "# Transformar la cadena a minúsculas\n",
        "print(cad.lower())\n",
        "\n",
        "# Transformar cadena a tipo oración\n",
        "print(cad.title())\n",
        "\n",
        "# Reemplazar una palabra por otra.\n",
        "print(cad.replace(\"CURSO\", \"Taller\"))\n",
        "\n",
        "# Cadena de email.\n",
        "email = \"uolivares@unam.mx\"\n",
        "\n",
        "# Separar cadenas usando la función split\n",
        "print(email.split(\"@\"))\n",
        "sep = email.split(\"@\")\n",
        "\n",
        "# Imprimir primer posición del primer  elemento \n",
        "print(sep[0][0])\n"
      ],
      "execution_count": null,
      "outputs": [
        {
          "output_type": "stream",
          "text": [
            "Dimensión de la cadena: 12\n",
            "Curso P\n",
            "CURSO PYTHON\n",
            "curso python\n",
            "Curso Python\n",
            "Taller PYTHON\n",
            "['uolivares', 'unam.mx']\n",
            "u\n"
          ],
          "name": "stdout"
        }
      ]
    },
    {
      "cell_type": "markdown",
      "metadata": {
        "id": "OL2Zu1jXDeZM",
        "colab_type": "text"
      },
      "source": [
        "#### Ejercicio 2 "
      ]
    },
    {
      "cell_type": "code",
      "metadata": {
        "id": "laTP30utD255",
        "colab_type": "code",
        "colab": {
          "base_uri": "https://localhost:8080/",
          "height": 173
        },
        "outputId": "4f38d15f-a820-47f3-a4bc-177eac7a2a77"
      },
      "source": [
        "# Ejercicio #2\n",
        "nombre = input(\"Ingresa el nombre completo: \\n\")\n",
        "Edad = input(\"Ingresa la edad: \\n\")\n",
        "sexo = input(\"Ingresa el sexo Masculino/Femenino: \\n\")\n",
        "\n",
        "nombre = nombre.split()\n",
        "print(\"Las iniciales son: \" + nombre[0][0] + nombre[1][0] + nombre [2][0])\n",
        "print(\"El sexo es: \" + sexo.replace(\"Masculino\", \"M\"))\n",
        "print(\"El nombre en formato AP, AM, Nombre es: \" + nombre[-2] +\" \" + nombre[-1]  + \" \"+ nombre[-3])\n"
      ],
      "execution_count": null,
      "outputs": [
        {
          "output_type": "stream",
          "text": [
            "Ingresa el nombre completo: \n",
            "Ulises Olivares Pinto\n",
            "Ingresa la edad: \n",
            "32\n",
            "Ingresa el sexo Masculino/Femenino: \n",
            "Masculino\n",
            "Las iniciales son: UOP\n",
            "El sexo es: M\n",
            "El nombre en formato AP, AM, Nombre es: Olivares Pinto Ulises\n"
          ],
          "name": "stdout"
        }
      ]
    },
    {
      "cell_type": "markdown",
      "metadata": {
        "id": "vGI2zIzfTV9U",
        "colab_type": "text"
      },
      "source": [
        "#### Listas"
      ]
    },
    {
      "cell_type": "code",
      "metadata": {
        "id": "q8kwYNddYa19",
        "colab_type": "code",
        "colab": {
          "base_uri": "https://localhost:8080/",
          "height": 121
        },
        "outputId": "4677f468-6dc2-4d4f-d1a5-1198ed1ae994"
      },
      "source": [
        "# Listas \n",
        "lista = [1,1,10,8, 4, 15, 6, 70, 18, 9, 10]\n",
        "print(lista)\n",
        "\n",
        "# Verificar la pertenencia de un elemento\n",
        "print(0 in lista)\n",
        "\n",
        "# Ordenar una lista\n",
        "lista.sort()\n",
        "\n",
        "# Insertar un elemento en una lista\n",
        "lista.insert(len(lista),0)\n",
        "print(lista)\n",
        "\n",
        "# Eliminar un elemento en una lista\n",
        "lista.remove(0)\n",
        "print(lista)\n",
        "\n",
        "# Eliminar el último elemento de la lista\n",
        "lista.pop()\n",
        "print(lista)\n",
        "\n",
        "# contar el número de 1s en una lista\n",
        "print(\"Existe un total de: \" + str(lista.count(1)) + \" de 1's en la lista\")\n",
        "\n",
        "\n",
        "\n"
      ],
      "execution_count": null,
      "outputs": [
        {
          "output_type": "stream",
          "text": [
            "[1, 1, 10, 8, 4, 15, 6, 70, 18, 9, 10]\n",
            "False\n",
            "[1, 1, 4, 6, 8, 9, 10, 10, 15, 18, 70, 0]\n",
            "[1, 1, 4, 6, 8, 9, 10, 10, 15, 18, 70]\n",
            "[1, 1, 4, 6, 8, 9, 10, 10, 15, 18]\n",
            "Existe un total de: 2 de 1's en la lista\n"
          ],
          "name": "stdout"
        }
      ]
    },
    {
      "cell_type": "markdown",
      "metadata": {
        "id": "ZkRq1VE2EXOA",
        "colab_type": "text"
      },
      "source": [
        "#### Ejercicio 3 - Listas "
      ]
    },
    {
      "cell_type": "code",
      "metadata": {
        "id": "iIBnb9NvEbcF",
        "colab_type": "code",
        "colab": {
          "base_uri": "https://localhost:8080/",
          "height": 52
        },
        "outputId": "bae34453-439b-46ed-debf-add6602a20ea"
      },
      "source": [
        "# Ejercicio 3 Separar elementos por tipo y ordenarlos\n",
        "objetos = [\"zapato\", \"laptop\", 20, 12, 30]\n",
        "\n",
        "# Separar los elementos utilizando índices\n",
        "cad = objetos[0:2]\n",
        "enteros = objetos[2:5] \n",
        "\n",
        "# Ordenar elementos\n",
        "cad.sort()\n",
        "print(cad)\n",
        "\n",
        "enteros.sort()\n",
        "print(enteros)"
      ],
      "execution_count": null,
      "outputs": [
        {
          "output_type": "stream",
          "text": [
            "['laptop', 'zapato']\n",
            "[12, 20, 30]\n"
          ],
          "name": "stdout"
        }
      ]
    },
    {
      "cell_type": "markdown",
      "metadata": {
        "id": "VtJTCAFWFARW",
        "colab_type": "text"
      },
      "source": [
        "#### Ejercicio 4 - Tuplas"
      ]
    },
    {
      "cell_type": "code",
      "metadata": {
        "id": "s6J0GRi7FEXj",
        "colab_type": "code",
        "colab": {
          "base_uri": "https://localhost:8080/",
          "height": 104
        },
        "outputId": "2517f5bc-c28b-48c9-cdab-2e3b34d92c42"
      },
      "source": [
        "#### Ejercicio 4 Tuplas\n",
        "\n",
        "import statistics as st\n",
        "\n",
        "cal = (8, 9, 5, 10, 8, 7.2, 9, 8, 8, 10)\n",
        "\n",
        "# Obtener el promedio de las calificaciones\n",
        "promedio = sum(cal) / len(cal)\n",
        "print(\"El promedio de las calificaciones es: \" + str(promedio))\n",
        "\n",
        "# Obtener la calificación máxima\n",
        "print(\"La calificación máxima es: \" + str(max(cal)))\n",
        "\n",
        "# Obtener la calificación mínima\n",
        "print(\"La calificación máxima es: \" + str(min(cal)))\n",
        "\n",
        "# Obtener la moda usar librería statistics\n",
        "print(\"La moda es: \" + str(st.mode(cal)))\n",
        "\n",
        "# Ordenar calificaciones\n",
        "print(\"Calificaciones ordenadas menor a mayor: \" + str(sorted(cal)))"
      ],
      "execution_count": null,
      "outputs": [
        {
          "output_type": "stream",
          "text": [
            "El promedio de las calificaciones es: 8.22\n",
            "La calificación máxima es: 10\n",
            "La calificación máxima es: 5\n",
            "La moda es: 8\n",
            "Calificaciones ordenadas menor a mayor: [5, 7.2, 8, 8, 8, 8, 9, 9, 10, 10]\n"
          ],
          "name": "stdout"
        }
      ]
    },
    {
      "cell_type": "markdown",
      "metadata": {
        "id": "6yX15Bi0T-tz",
        "colab_type": "text"
      },
      "source": [
        "#### Ejercicicio 5 - Conjuntos\n"
      ]
    },
    {
      "cell_type": "code",
      "metadata": {
        "id": "rm94VcP2Qvf4",
        "colab_type": "code",
        "colab": {}
      },
      "source": [
        "# Conjnuntos \n",
        "# Ejercicio 4\n",
        "\n",
        "set1 = {10, 20, 30, 40, 50}\n",
        "set2 = {60, 20, 80, 90, 10}\n",
        "\n",
        "type(set1)\n",
        "\n",
        "# Elementos en común \n",
        "print (\"Elementos en común: \" +str(set1 & set2))\n",
        "\n",
        "# Elementos si repeticiones (Unión)\n",
        "print(\"Elementos sin repetición: \" + str(set1|set2))\n",
        "\n",
        "# Primer conjunto sin elementos {10,20, 30}\n",
        "print(set1 - {10, 20, 30})\n",
        "\n"
      ],
      "execution_count": null,
      "outputs": []
    },
    {
      "cell_type": "markdown",
      "metadata": {
        "id": "iJmk2EL3UEXy",
        "colab_type": "text"
      },
      "source": [
        "#### Sentencias de control"
      ]
    },
    {
      "cell_type": "markdown",
      "metadata": {
        "id": "2wVpzy0aUI_S",
        "colab_type": "text"
      },
      "source": [
        "##### Condicionales"
      ]
    },
    {
      "cell_type": "code",
      "metadata": {
        "id": "bB5oScjZhzNG",
        "colab_type": "code",
        "colab": {
          "base_uri": "https://localhost:8080/",
          "height": 52
        },
        "outputId": "17cf0cf6-0f94-4402-e4dc-c54d59bd6c4f"
      },
      "source": [
        "# Sentencias de control\n",
        "# Condicionales IF...ELSE...ELIF\n",
        "a = 2\n",
        "b = 2\n",
        "if(a == b):\n",
        "  print(\"a y b son iguales\")\n",
        "elif(a>b):\n",
        "  print(\"a es el mayor\")\n",
        "else:\n",
        "  print(\"b es el mayor\")"
      ],
      "execution_count": 3,
      "outputs": [
        {
          "output_type": "stream",
          "text": [
            "a !=0\n",
            "a y b son iguales\n"
          ],
          "name": "stdout"
        }
      ]
    },
    {
      "cell_type": "markdown",
      "metadata": {
        "id": "2qI7fIKAHkMI",
        "colab_type": "text"
      },
      "source": [
        "Ejercicio 6 - Condicionales"
      ]
    },
    {
      "cell_type": "code",
      "metadata": {
        "id": "w7LFfiHIHqUp",
        "colab_type": "code",
        "colab": {
          "base_uri": "https://localhost:8080/",
          "height": 87
        },
        "outputId": "d5122cec-2b63-41ea-f0de-9d6d599b69f0"
      },
      "source": [
        "# Determinar si un número es par o impar\n",
        "a = 3\n",
        "if (a % 2 ==  0):\n",
        "  print(str(a) + \" es un número par\")\n",
        "else:\n",
        "  print(str(a) + \" es un número impar\")\n",
        "\n",
        "a = 3\n",
        "b = 2\n",
        "\n",
        "# Determinar el Mayor de dos números\n",
        "if(b>a):\n",
        "  print(\"b es el mayor\")\n",
        "elif(a == b):\n",
        "  print(\"a y b son iguales\")\n",
        "else:\n",
        "  print(\"a es el mayor\")\n",
        "\n",
        "a = 4\n",
        "b = 2 \n",
        "c = 3\n",
        "\n",
        "# Determinar el Mayor de tres números\n",
        "if(a >= b and a >= c):\n",
        "  print(\"a es el mayor\")\n",
        "elif(b >= a and b >= c):\n",
        "  print(\"b es el mayor\")\n",
        "elif(c >= a and c >=b ):\n",
        "  print(\"c es el mayor\")\n",
        "  \n",
        "# Deterinar si un número se encuentra en un intervalo [0, 10]\n",
        "a = 20\n",
        "if(a >= 0 and a <= 10):\n",
        "  print(\"El elemento \" +str(a) + \" se encuentra dentro del intervalo [0, 10]\")\n",
        "else:\n",
        "  print(\"El elemento \" +str(a) + \" se encuentra fuera del intervalo [0, 10]\")\n"
      ],
      "execution_count": null,
      "outputs": [
        {
          "output_type": "stream",
          "text": [
            "3 es un número impar\n",
            "a es el mayor\n",
            "a es el mayor\n",
            "El elemento 20 se encuentra fuera del intervalo [0, 10]\n"
          ],
          "name": "stdout"
        }
      ]
    },
    {
      "cell_type": "markdown",
      "metadata": {
        "id": "tjddq5ONPPx1",
        "colab_type": "text"
      },
      "source": [
        "#### Ejercicio 7 - Ciclos While (Serie de Fibonacci) "
      ]
    },
    {
      "cell_type": "code",
      "metadata": {
        "id": "px03s9xhPa2q",
        "colab_type": "code",
        "colab": {
          "base_uri": "https://localhost:8080/",
          "height": 52
        },
        "outputId": "193e669f-8e63-4802-e800-d9a42796597c"
      },
      "source": [
        "# Serie de fibonacci\n",
        "def fibonacci(n):\n",
        "  a = 0 \n",
        "  b = 1\n",
        "  print(\"Imprime la serie de Fibonacci hasta n = \" + str(n))\n",
        "  cont = 0\n",
        "  while(cont<n):\n",
        "    tmp = b \n",
        "    b = a + b\n",
        "    a = tmp\n",
        "    print(b, end=\", \")\n",
        "    cont +=1\n",
        "\n",
        "fibonacci(10)"
      ],
      "execution_count": null,
      "outputs": [
        {
          "output_type": "stream",
          "text": [
            "Imprime la serie de Fibonacci hasta n = 10\n",
            "1, 2, 3, 5, 8, 13, 21, 34, 55, 89, "
          ],
          "name": "stdout"
        }
      ]
    },
    {
      "cell_type": "markdown",
      "metadata": {
        "id": "5BK6ZYL5UMVJ",
        "colab_type": "text"
      },
      "source": [
        "##### Ejercicio 8 - Ciclos FOR"
      ]
    },
    {
      "cell_type": "code",
      "metadata": {
        "id": "RVorUqEMhxxQ",
        "colab_type": "code",
        "colab": {
          "base_uri": "https://localhost:8080/",
          "height": 274
        },
        "outputId": "286e2159-6645-4173-9f42-d1db3b37cd68"
      },
      "source": [
        "# Ciclos FOR\n",
        "lista = [6,2,3,4,5,6,70,8,9,-10]\n",
        "\n",
        "# Sumatoria de los elementos\n",
        "suma = 0\n",
        "for elemento in lista:\n",
        "  suma += elemento\n",
        "print(\"La sumatoria de todos los elementos es: \" + str(suma)) \n",
        "\n",
        "suma = 0\n",
        "# Iterar utilizando índices\n",
        "for i in range(len(lista)):\n",
        "  suma += lista[i]\n",
        "print(\"La sumatoria de todos los elementos es: \" + str(suma)) \n",
        "\n",
        "# Calcular el promedio de los elementos\n",
        "suma = 0\n",
        "for elemento in lista:\n",
        "  suma += elemento\n",
        "print(\"El promedio de la lista es: \" + str(suma/len(lista)))\n",
        "\n",
        "# Obtener el elemento más pequeño y más grande\n",
        "min = 99999   # Inicializar con un valor muy grande\n",
        "max = -9999 # Inicializar con un valor muy pequeño\n",
        "for elemento in lista:\n",
        "  if elemento < min:\n",
        "    min = elemento\n",
        "  if elemento > max:\n",
        "    max = elemento\n",
        "print(\"El número menor de la lista es : \" + str(min))\n",
        "print(\"El número mayor de la lista es : \" + str(max))\n"
      ],
      "execution_count": 6,
      "outputs": [
        {
          "output_type": "stream",
          "text": [
            "6 \n",
            "2 \n",
            "3 \n",
            "4 \n",
            "5 \n",
            "6 \n",
            "70 \n",
            "8 \n",
            "9 \n",
            "-10 \n",
            "La sumatoria de todos los elementos es: 103\n",
            "La sumatoria de todos los elementos es: 103\n",
            "El promedio de la lista es: 10.3\n",
            "El número menor de la lista es : -10\n",
            "El número mayor de la lista es : 70\n"
          ],
          "name": "stdout"
        }
      ]
    },
    {
      "cell_type": "markdown",
      "metadata": {
        "id": "BRgAuwhQTr5X",
        "colab_type": "text"
      },
      "source": [
        "**Ejemplo de listas y diccionarios**"
      ]
    },
    {
      "cell_type": "code",
      "metadata": {
        "id": "aDdS6qKgTw-D",
        "colab_type": "code",
        "colab": {
          "base_uri": "https://localhost:8080/",
          "height": 103
        },
        "outputId": "040e688a-bc08-484d-b5ec-11854a08a996"
      },
      "source": [
        "paises = [\"Méx\", \"USA\", \"BZ\", \"SP\"]\n",
        "idioma = [\"Español México\", \"Inglés USA\", \"Portugués\", \"Español - España\"]\n",
        "\n",
        "\n",
        "if(len(paises) == len(idioma)):\n",
        "  for i in range(len(paises)):\n",
        "    print(\"En \" +  paises[i] + \" Se habla: \" + idioma[i])\n",
        "else: \n",
        "  print(\"Las listas no del mismo tamaño, no se pueden comparar\")\n",
        "\n",
        "pais_idioma = {\"Mex\":\"Esp Mex\"}\n",
        "\n",
        "print(pais_idioma[\"Mex\"])"
      ],
      "execution_count": 3,
      "outputs": [
        {
          "output_type": "stream",
          "text": [
            "En Méx Se habla: Español México\n",
            "En USA Se habla: Inglés USA\n",
            "En BZ Se habla: Portugués\n",
            "En SP Se habla: Español - España\n",
            "Esp Mex\n"
          ],
          "name": "stdout"
        }
      ]
    }
  ]
}