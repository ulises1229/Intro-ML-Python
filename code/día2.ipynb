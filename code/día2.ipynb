{
  "nbformat": 4,
  "nbformat_minor": 0,
  "metadata": {
    "colab": {
      "name": "día2.ipynb",
      "provenance": [],
      "collapsed_sections": [],
      "authorship_tag": "ABX9TyOIHTkOSu3zCpjq7sOXiLv1",
      "include_colab_link": true
    },
    "kernelspec": {
      "name": "python3",
      "display_name": "Python 3"
    }
  },
  "cells": [
    {
      "cell_type": "markdown",
      "metadata": {
        "id": "view-in-github",
        "colab_type": "text"
      },
      "source": [
        "<a href=\"https://colab.research.google.com/github/ulises1229/INTRO-PYTHON-ENESJ/blob/master/code/d%C3%ADa2.ipynb\" target=\"_parent\"><img src=\"https://colab.research.google.com/assets/colab-badge.svg\" alt=\"Open In Colab\"/></a>"
      ]
    },
    {
      "cell_type": "markdown",
      "metadata": {
        "id": "bZ1Evys3H261",
        "colab_type": "text"
      },
      "source": [
        "### Día 2 - Almacenamiento de datos\n",
        "##### Autor: Ulises Olivares\n",
        "##### uolivares@unam.mx\n",
        "##### 01 septiembre de 2020"
      ]
    },
    {
      "cell_type": "markdown",
      "metadata": {
        "id": "3usgotf3Fq12",
        "colab_type": "text"
      },
      "source": [
        "#### Diccionarios"
      ]
    },
    {
      "cell_type": "code",
      "metadata": {
        "id": "VacWBZJLFxlQ",
        "colab_type": "code",
        "colab": {
          "base_uri": "https://localhost:8080/",
          "height": 69
        },
        "outputId": "07007b3e-55ee-4fdb-ba46-409c677b26a0"
      },
      "source": [
        "# Uso de diccionarios\n",
        "\n",
        "frutas= {'Fresa':'rojo', 'Limón':'verde', 'Kiwi': ['cafe', 'verde']}\n",
        "for fruta, color in frutas.items():\n",
        "  print(fruta + \" es de color: \" + str(color))\n",
        "\n"
      ],
      "execution_count": 1,
      "outputs": [
        {
          "output_type": "stream",
          "text": [
            "Fresa es de color: rojo\n",
            "Limón es de color: verde\n",
            "Kiwi es de color: ['cafe', 'verde']\n"
          ],
          "name": "stdout"
        }
      ]
    },
    {
      "cell_type": "markdown",
      "metadata": {
        "id": "1CtnL_9VT0kI",
        "colab_type": "text"
      },
      "source": [
        "Ejercicio 1 - Diccionarios"
      ]
    },
    {
      "cell_type": "code",
      "metadata": {
        "id": "I-3FOAOOGolo",
        "colab_type": "code",
        "colab": {
          "base_uri": "https://localhost:8080/",
          "height": 156
        },
        "outputId": "996f86e8-54e9-4b2c-b99b-5106c7522763"
      },
      "source": [
        "# Recuperar los precios de artículos para calcular el total de la compra\n",
        "oficina = {'hojas':'32.5', 'tijeras':'50.45', 'lápiz':'10'}\n",
        "claves = {'1': 'hojas', '2': 'tijeras', '3':'lápiz'}\n",
        "\n",
        "producto = input(\"Selecciona un objeto de  la lista: \\n 1) Hojas \\n 2) Tijeras \\n 3) Lápiz \\n\")\n",
        "cant = int(input(\"¿Cuantos productos vas a comprar? \\n\"))\n",
        "\n",
        "precio = float(oficina[claves[producto]])\n",
        "             \n",
        "print(\"El total a pagar es de: \" + str(precio * cant))\n"
      ],
      "execution_count": 5,
      "outputs": [
        {
          "output_type": "stream",
          "text": [
            "Selecciona un objeto de  la lista: \n",
            " 1) Hojas \n",
            " 2) Tijeras \n",
            " 3) Lápiz \n",
            "1\n",
            "¿Cuantos productos vas a comprar? \n",
            "3\n",
            "El total a pagar es de: 97.5\n"
          ],
          "name": "stdout"
        }
      ]
    },
    {
      "cell_type": "code",
      "metadata": {
        "id": "MD0vVjN3UdPL",
        "colab_type": "code",
        "colab": {
          "base_uri": "https://localhost:8080/",
          "height": 156
        },
        "outputId": "c133c951-dd39-4ece-c614-9b7f8d4fbf5b"
      },
      "source": [
        "# Variante sencilla del ejercicio anterior(usando un solo diccionario)\n",
        "producto = input(\"Escribe un objeto de  la lista: \\n hojas \\n tijeras \\n lápiz \\n\")\n",
        "cant = int(input(\"¿Cuantos artículos vas a comprar?\\n\"))\n",
        "precio = float(oficina[producto])\n",
        "print(\"El total a pagar es de: \" + str(precio * cant))"
      ],
      "execution_count": 7,
      "outputs": [
        {
          "output_type": "stream",
          "text": [
            "Escribe un objeto de  la lista: \n",
            " hojas \n",
            " tijeras \n",
            " lápiz \n",
            "hojas\n",
            "¿Cuantos artículos vas a comprar?\n",
            "1\n",
            "El total a pagar es de: 32.5\n"
          ],
          "name": "stdout"
        }
      ]
    },
    {
      "cell_type": "markdown",
      "metadata": {
        "id": "SZzKBd4XNiV2",
        "colab_type": "text"
      },
      "source": [
        "### Funciones"
      ]
    },
    {
      "cell_type": "code",
      "metadata": {
        "id": "xmhp_AzENhoy",
        "colab_type": "code",
        "colab": {
          "base_uri": "https://localhost:8080/",
          "height": 188
        },
        "outputId": "95f1e133-3c04-4083-8c39-e057c074fa5d"
      },
      "source": [
        "\n",
        "def suma(num1, num2):\n",
        "  \"\"\"\n",
        "    Realiza la sumatoria de dos números\n",
        "    Input:\n",
        "    Salidas: \n",
        "  \"\"\"\n",
        "  suma = num1 + num2\n",
        "  return suma\n",
        "\n",
        "def factorial(num):\n",
        "  \n",
        "  for i in range(1, num):\n",
        "    \n",
        "  return \n",
        "\n",
        "\n",
        "if __name__ == \"__main__\":\n",
        "  print(\"Main\")\n",
        "  a = [1,2,3,4,5,6,7,8,9]\n",
        "  b = [1,2,3,4,5,6,7,8,9]\n",
        "\n",
        "  for i in range(0, len(a)):\n",
        "    print(\"Suma del elemento: \" + str(i) + \" es: \" + str(suma(a[i], b[i])))\n",
        "\n",
        "  #print(\"suma Main: \" + str(suma(a, b)))"
      ],
      "execution_count": null,
      "outputs": [
        {
          "output_type": "stream",
          "text": [
            "Main\n",
            "Suma del elemento: 0 es: 2\n",
            "Suma del elemento: 1 es: 4\n",
            "Suma del elemento: 2 es: 6\n",
            "Suma del elemento: 3 es: 8\n",
            "Suma del elemento: 4 es: 10\n",
            "Suma del elemento: 5 es: 12\n",
            "Suma del elemento: 6 es: 14\n",
            "Suma del elemento: 7 es: 16\n",
            "Suma del elemento: 8 es: 18\n"
          ],
          "name": "stdout"
        }
      ]
    },
    {
      "cell_type": "markdown",
      "metadata": {
        "id": "tR0GnXLCVNR1",
        "colab_type": "text"
      },
      "source": [
        "Ejercicio 2 - Funciones"
      ]
    },
    {
      "cell_type": "code",
      "metadata": {
        "id": "UUGPkNBvVQQt",
        "colab_type": "code",
        "colab": {
          "base_uri": "https://localhost:8080/",
          "height": 52
        },
        "outputId": "e8061bdc-dc30-4336-dba9-10301fe20c92"
      },
      "source": [
        "# Calcular el factorial de un número\n",
        "def factorial(n):\n",
        "  fac = 1\n",
        "  for i in range(1, n+1):\n",
        "    fac *= i\n",
        "  return fac\n",
        "\n",
        "n = 10\n",
        "print(\"Factorial de: \" + str(n) + \" = \" + str(factorial(n)))\n",
        "\n",
        "\n",
        "# Calcular si una cadena es palíndroma\n",
        "def palindroma(cad):\n",
        "  ban = True\n",
        "  for i in range(len(cad)):\n",
        "    if(cad[i] != cad[len(cad)-1-i]):\n",
        "      ban = False\n",
        "      break\n",
        "  return ban \n",
        "\n",
        "cad = \"oso\"\n",
        "if(palindroma(cad)):\n",
        "  print(cad + \" SI es palindroma\")\n",
        "else:\n",
        "  print(cad + \" NO es palindroma\")\n"
      ],
      "execution_count": 28,
      "outputs": [
        {
          "output_type": "stream",
          "text": [
            "Factorial de: 10 = 3628800\n",
            "oso si es palindroma\n"
          ],
          "name": "stdout"
        }
      ]
    },
    {
      "cell_type": "markdown",
      "metadata": {
        "id": "9f2bBDXObm8e",
        "colab_type": "text"
      },
      "source": [
        "### Números aleatorios\n",
        "\n",
        "Ejercicio 3 - Histograma"
      ]
    },
    {
      "cell_type": "code",
      "metadata": {
        "id": "cDYFly1bbra_",
        "colab_type": "code",
        "colab": {
          "base_uri": "https://localhost:8080/",
          "height": 52
        },
        "outputId": "242fac29-f8c2-4513-a99d-7d896cb1b6d1"
      },
      "source": [
        "import random as rn\n",
        "\n",
        "def generarNumeros(n):\n",
        "  randomNum = []\n",
        "  for i in range(n):\n",
        "    randomNum.append(rn.randint(1, 99))\n",
        "  return randomNum\n",
        "\n",
        "\n",
        "def genHistograma(random, hist):\n",
        "  for i in random:\n",
        "    indice = int(i/len(hist))\n",
        "    #print(\"indice: \" + str(indice) + \" num: \" + str(i) )\n",
        "    hist[indice] += 1\n",
        "    #print(\"Elemento i: \" + str (i) + \" Pos: \" + str(int(i/len(hist))))\n",
        "  return hist\n",
        "\n",
        "# Inicializar hostograma 10 posiciones\n",
        "hist = [0,0,0,0,0,0,0,0,0,0]\n",
        "n = 10000 #10K elementos\n",
        "\n",
        "# inicializar 10,000 números aleatorios\n",
        "random = generarNumeros(n)\n",
        "\n",
        "# contabilizar elementos y generar histograma\n",
        "hist = genHistograma(random, hist)\n",
        "\n",
        "print(\"Histograma resultante: \" + str(hist))\n",
        "\n",
        "# Verificar resultado \n",
        "# La suma de los elementos de hist debe ser igual que n\n",
        "if (sum(hist) == n):\n",
        "  print(\"El resultado es correcto\")\n",
        "else:\n",
        "  print(\"Existen elementos faltantes\")"
      ],
      "execution_count": 34,
      "outputs": [
        {
          "output_type": "stream",
          "text": [
            "Histograma resultante: [885, 1044, 1014, 1011, 953, 1092, 983, 1003, 1022, 993]\n",
            "El resultado es correcto\n"
          ],
          "name": "stdout"
        }
      ]
    },
    {
      "cell_type": "markdown",
      "metadata": {
        "id": "TEmXdjt1Jlkq",
        "colab_type": "text"
      },
      "source": [
        "#### *Numpy*\n",
        "\n",
        "Demostrar el uso de arreglos unidimensionales y bi-dimensionales utilizando numpy.\n"
      ]
    },
    {
      "cell_type": "code",
      "metadata": {
        "id": "iV2tLujWH1N1",
        "colab_type": "code",
        "colab": {
          "base_uri": "https://localhost:8080/",
          "height": 105
        },
        "outputId": "933b6647-1945-48a2-cd9e-af40b806b1d8"
      },
      "source": [
        "# importar librería de numpy \n",
        "import numpy as np\n",
        "\n",
        "# Creara un arreglo bi-dimensional\n",
        "a = np.array([[1.0,2,3], \n",
        "              [4,5,6]], \n",
        "             dtype = np.float16)\n",
        "# Imprimir matriz\n",
        "print(a)\n",
        "\n",
        "# IMP\n",
        "print(\"Dimensiones: \" + str(a.ndim))\n",
        "print(\"Forma: \" + str(a.shape))\n",
        "print(\"Tipo de datos: \" + str(a.dtype))"
      ],
      "execution_count": null,
      "outputs": [
        {
          "output_type": "stream",
          "text": [
            "[[1. 2. 3.]\n",
            " [4. 5. 6.]]\n",
            "Dimensiones: 2\n",
            "Forma: (2, 3)\n",
            "Tipo de datos: float16\n"
          ],
          "name": "stdout"
        }
      ]
    },
    {
      "cell_type": "code",
      "metadata": {
        "id": "kq_pDjfjJWjF",
        "colab_type": "code",
        "colab": {
          "base_uri": "https://localhost:8080/",
          "height": 316
        },
        "outputId": "544bbac8-4a94-4de3-acb3-347bb1452a71"
      },
      "source": [
        "# Creación de arreglos\n",
        "# Arreglo de 1s\n",
        "ones = np.ones((3,5), dtype=np.float32)\n",
        "# Arreglo de 0s\n",
        "zeros = np.zeros((5,5), dtype=np.float32)\n",
        "\n",
        "#Impresión de matrices\n",
        "print(ones)\n",
        "print(zeros)\n",
        "\n",
        "print(\"Matriz 1s tiene: \" + str(len(ones)) + \" filas y \" + str(len(ones[0])) + \" columnas\")\n",
        "\n",
        "# Acceso a la matriz usando índices\n",
        "filas = len(ones)\n",
        "columnas = len(ones[0])\n",
        "\n",
        "print(\"Impresión utilizando índices\")\n",
        "for i in range(filas):\n",
        "  for j in range(columnas):\n",
        "    print(ones[i][j], end= \" \")\n",
        "  print(\" \")\n",
        "\n",
        "print(\"Impresión utilizando elementos\")\n",
        "# Acceso usando elementos\n",
        "for i in ones:\n",
        "  for j in i:\n",
        "    print(j , end =\" \")\n",
        "  print(\" \")"
      ],
      "execution_count": null,
      "outputs": [
        {
          "output_type": "stream",
          "text": [
            "[[1. 1. 1. 1. 1.]\n",
            " [1. 1. 1. 1. 1.]\n",
            " [1. 1. 1. 1. 1.]]\n",
            "[[0. 0. 0. 0. 0.]\n",
            " [0. 0. 0. 0. 0.]\n",
            " [0. 0. 0. 0. 0.]\n",
            " [0. 0. 0. 0. 0.]\n",
            " [0. 0. 0. 0. 0.]]\n",
            "Matriz 1s tiene: 3 filas y 5 columnas\n",
            "Impresión utilizando índices\n",
            "1.0 1.0 1.0 1.0 1.0  \n",
            "1.0 1.0 1.0 1.0 1.0  \n",
            "1.0 1.0 1.0 1.0 1.0  \n",
            "Impresión utilizando elementos\n",
            "1.0 1.0 1.0 1.0 1.0  \n",
            "1.0 1.0 1.0 1.0 1.0  \n",
            "1.0 1.0 1.0 1.0 1.0  \n"
          ],
          "name": "stdout"
        }
      ]
    },
    {
      "cell_type": "markdown",
      "metadata": {
        "id": "-zH8nxHnZuRL",
        "colab_type": "text"
      },
      "source": [
        "#### Ejercicio 4 - Iterar sobre la diagonal principal"
      ]
    },
    {
      "cell_type": "code",
      "metadata": {
        "id": "it919kLpolXs",
        "colab_type": "code",
        "colab": {
          "base_uri": "https://localhost:8080/",
          "height": 422
        },
        "outputId": "f10e503b-3466-4fda-9a8b-045864e4bf5d"
      },
      "source": [
        "# Ejercicio 4 1 en diagonal principal y traza de una matrix\n",
        "zeros = np.zeros((10,10), dtype=np.float32)\n",
        "print(\"Matriz Original: \\n\" + str(zeros))\n",
        "\n",
        "for i in range(len(zeros)):\n",
        "  zeros[i][i] = 1\n",
        "\n",
        "# Calcular la traza de una matriz\n",
        "traza = 0\n",
        "for i in range(len(zeros)):\n",
        "  traza =  traza + zeros[i][i] \n",
        "\n",
        "print(\"La traza de la matriz es: \" + str(traza))\n",
        "\n",
        "print(\"Matriz con 1's: \\n\" + str(zeros))"
      ],
      "execution_count": null,
      "outputs": [
        {
          "output_type": "stream",
          "text": [
            "Matriz Original: \n",
            "[[0. 0. 0. 0. 0. 0. 0. 0. 0. 0.]\n",
            " [0. 0. 0. 0. 0. 0. 0. 0. 0. 0.]\n",
            " [0. 0. 0. 0. 0. 0. 0. 0. 0. 0.]\n",
            " [0. 0. 0. 0. 0. 0. 0. 0. 0. 0.]\n",
            " [0. 0. 0. 0. 0. 0. 0. 0. 0. 0.]\n",
            " [0. 0. 0. 0. 0. 0. 0. 0. 0. 0.]\n",
            " [0. 0. 0. 0. 0. 0. 0. 0. 0. 0.]\n",
            " [0. 0. 0. 0. 0. 0. 0. 0. 0. 0.]\n",
            " [0. 0. 0. 0. 0. 0. 0. 0. 0. 0.]\n",
            " [0. 0. 0. 0. 0. 0. 0. 0. 0. 0.]]\n",
            "La traza de la matriz es: 10.0\n",
            "Matriz con 1's: \n",
            "[[1. 0. 0. 0. 0. 0. 0. 0. 0. 0.]\n",
            " [0. 1. 0. 0. 0. 0. 0. 0. 0. 0.]\n",
            " [0. 0. 1. 0. 0. 0. 0. 0. 0. 0.]\n",
            " [0. 0. 0. 1. 0. 0. 0. 0. 0. 0.]\n",
            " [0. 0. 0. 0. 1. 0. 0. 0. 0. 0.]\n",
            " [0. 0. 0. 0. 0. 1. 0. 0. 0. 0.]\n",
            " [0. 0. 0. 0. 0. 0. 1. 0. 0. 0.]\n",
            " [0. 0. 0. 0. 0. 0. 0. 1. 0. 0.]\n",
            " [0. 0. 0. 0. 0. 0. 0. 0. 1. 0.]\n",
            " [0. 0. 0. 0. 0. 0. 0. 0. 0. 1.]]\n"
          ],
          "name": "stdout"
        }
      ]
    },
    {
      "cell_type": "markdown",
      "metadata": {
        "id": "hsPW03oZaANQ",
        "colab_type": "text"
      },
      "source": [
        "#### Ejercicio 5 - Escritura en elementos pares e impares"
      ]
    },
    {
      "cell_type": "code",
      "metadata": {
        "id": "xukvUJt2aHvc",
        "colab_type": "code",
        "colab": {
          "base_uri": "https://localhost:8080/",
          "height": 104
        },
        "outputId": "6e08b9e3-58e2-45c0-8d18-fbb93e290107"
      },
      "source": [
        "import numpy as np\n",
        "\n",
        "# Generar un vector (lineal) 10 elementos 0 - 99\n",
        "A = np.arange(100)\n",
        "\n",
        "for i in range(len(A)): \n",
        "  # Elementos pares\n",
        "  if (A[i] % 2 == 0):\n",
        "    A[i] = -2\n",
        "  else:\n",
        "    A[i] = -1\n",
        "print(A) \n"
      ],
      "execution_count": 42,
      "outputs": [
        {
          "output_type": "stream",
          "text": [
            "[-2 -1 -2 -1 -2 -1 -2 -1 -2 -1 -2 -1 -2 -1 -2 -1 -2 -1 -2 -1 -2 -1 -2 -1\n",
            " -2 -1 -2 -1 -2 -1 -2 -1 -2 -1 -2 -1 -2 -1 -2 -1 -2 -1 -2 -1 -2 -1 -2 -1\n",
            " -2 -1 -2 -1 -2 -1 -2 -1 -2 -1 -2 -1 -2 -1 -2 -1 -2 -1 -2 -1 -2 -1 -2 -1\n",
            " -2 -1 -2 -1 -2 -1 -2 -1 -2 -1 -2 -1 -2 -1 -2 -1 -2 -1 -2 -1 -2 -1 -2 -1\n",
            " -2 -1 -2 -1]\n"
          ],
          "name": "stdout"
        }
      ]
    },
    {
      "cell_type": "code",
      "metadata": {
        "id": "Lhd4g_CDLatT",
        "colab_type": "code",
        "colab": {
          "base_uri": "https://localhost:8080/",
          "height": 118
        },
        "outputId": "a184dc85-e53a-4dcc-d581-360638f2758b"
      },
      "source": [
        "# Generación de un vector a través del uso de rangos\n",
        "np.arange(1, 100)"
      ],
      "execution_count": null,
      "outputs": [
        {
          "output_type": "execute_result",
          "data": {
            "text/plain": [
              "array([ 1,  2,  3,  4,  5,  6,  7,  8,  9, 10, 11, 12, 13, 14, 15, 16, 17,\n",
              "       18, 19, 20, 21, 22, 23, 24, 25, 26, 27, 28, 29, 30, 31, 32, 33, 34,\n",
              "       35, 36, 37, 38, 39, 40, 41, 42, 43, 44, 45, 46, 47, 48, 49, 50, 51,\n",
              "       52, 53, 54, 55, 56, 57, 58, 59, 60, 61, 62, 63, 64, 65, 66, 67, 68,\n",
              "       69, 70, 71, 72, 73, 74, 75, 76, 77, 78, 79, 80, 81, 82, 83, 84, 85,\n",
              "       86, 87, 88, 89, 90, 91, 92, 93, 94, 95, 96, 97, 98, 99])"
            ]
          },
          "metadata": {
            "tags": []
          },
          "execution_count": 119
        }
      ]
    },
    {
      "cell_type": "code",
      "metadata": {
        "id": "SM-DLDRBPgho",
        "colab_type": "code",
        "colab": {
          "base_uri": "https://localhost:8080/",
          "height": 101
        },
        "outputId": "24683b14-140d-48b3-fe51-c91527672eba"
      },
      "source": [
        "# Concatenando arreglos o matrices\n",
        "A = np.ones((5,3), dtype = np.float32)\n",
        "B = np.zeros((5,4), dtype = np.float32)\n",
        "\n",
        "# concatenar matrices\n",
        "np.concatenate([A,B], axis = 1)"
      ],
      "execution_count": null,
      "outputs": [
        {
          "output_type": "execute_result",
          "data": {
            "text/plain": [
              "array([[1., 1., 1., 0., 0., 0., 0.],\n",
              "       [1., 1., 1., 0., 0., 0., 0.],\n",
              "       [1., 1., 1., 0., 0., 0., 0.],\n",
              "       [1., 1., 1., 0., 0., 0., 0.],\n",
              "       [1., 1., 1., 0., 0., 0., 0.]], dtype=float32)"
            ]
          },
          "metadata": {
            "tags": []
          },
          "execution_count": 120
        }
      ]
    },
    {
      "cell_type": "code",
      "metadata": {
        "id": "S9bqh64vQD5a",
        "colab_type": "code",
        "colab": {
          "base_uri": "https://localhost:8080/",
          "height": 202
        },
        "outputId": "c2e23b81-a0c7-4aeb-9070-bb85912538bf"
      },
      "source": [
        "# Uso de Astype para hacer un cast de tipos de datos\n",
        "A = np.zeros((5,4), dtype = np.float32)\n",
        "print(len(A[0]))\n",
        "\n",
        "for i in range(len(A)):\n",
        "  for j in range(len(A[0])):\n",
        "    A[i][j] = np.pi\n",
        "print(A)\n",
        "\n",
        "print(A.astype(np.int16))"
      ],
      "execution_count": null,
      "outputs": [
        {
          "output_type": "stream",
          "text": [
            "4\n",
            "[[3.1415927 3.1415927 3.1415927 3.1415927]\n",
            " [3.1415927 3.1415927 3.1415927 3.1415927]\n",
            " [3.1415927 3.1415927 3.1415927 3.1415927]\n",
            " [3.1415927 3.1415927 3.1415927 3.1415927]\n",
            " [3.1415927 3.1415927 3.1415927 3.1415927]]\n",
            "[[3 3 3 3]\n",
            " [3 3 3 3]\n",
            " [3 3 3 3]\n",
            " [3 3 3 3]\n",
            " [3 3 3 3]]\n"
          ],
          "name": "stdout"
        }
      ]
    },
    {
      "cell_type": "code",
      "metadata": {
        "id": "-YYZOHcCRkjk",
        "colab_type": "code",
        "colab": {
          "base_uri": "https://localhost:8080/",
          "height": 151
        },
        "outputId": "7c3b74ee-e463-4e09-ed02-18301f7ea0ef"
      },
      "source": [
        "# Uso de np.zeros_like y np.ones_like\n",
        "A = np.ones((4,4))\n",
        "print(A)\n",
        "# zeros_like genera un arreglo de las \n",
        "# mismas dimensiones que el original \n",
        "B = np.zeros_like(A)\n",
        "print(B)"
      ],
      "execution_count": null,
      "outputs": [
        {
          "output_type": "stream",
          "text": [
            "[[1. 1. 1. 1.]\n",
            " [1. 1. 1. 1.]\n",
            " [1. 1. 1. 1.]\n",
            " [1. 1. 1. 1.]]\n",
            "[[0. 0. 0. 0.]\n",
            " [0. 0. 0. 0.]\n",
            " [0. 0. 0. 0.]\n",
            " [0. 0. 0. 0.]]\n"
          ],
          "name": "stdout"
        }
      ]
    },
    {
      "cell_type": "code",
      "metadata": {
        "id": "wGKMiDBIRfjT",
        "colab_type": "code",
        "colab": {
          "base_uri": "https://localhost:8080/",
          "height": 218
        },
        "outputId": "53270dd3-2619-45b3-b8fe-d798a89b607a"
      },
      "source": [
        "# Generación de arreglos aleatorios\n",
        "A = np.random.random((5, 5))\n",
        "print(A)\n",
        "# Generación de números enteros del 0 al n-1 \n",
        "n = 10\n",
        "B= np.random.randint(10, size = (7,7))\n",
        "print(B)"
      ],
      "execution_count": null,
      "outputs": [
        {
          "output_type": "stream",
          "text": [
            "[[0.77660053 0.26296099 0.88039588 0.04823786 0.10309384]\n",
            " [0.48729586 0.3771756  0.48484433 0.34679897 0.74569246]\n",
            " [0.1103608  0.55375063 0.80777421 0.16883789 0.18751702]\n",
            " [0.41290608 0.6659239  0.41775295 0.94601225 0.19686526]\n",
            " [0.58423953 0.88600177 0.25069284 0.24865989 0.07879548]]\n",
            "[[7 1 7 4 4 0 1]\n",
            " [4 6 8 7 4 1 0]\n",
            " [5 0 4 3 4 1 1]\n",
            " [6 2 2 0 7 6 7]\n",
            " [5 5 8 4 0 3 3]\n",
            " [7 0 3 2 7 4 2]\n",
            " [1 6 9 0 8 1 7]]\n"
          ],
          "name": "stdout"
        }
      ]
    },
    {
      "cell_type": "markdown",
      "metadata": {
        "id": "28PbHpgKbSaS",
        "colab_type": "text"
      },
      "source": [
        "#### Ejercicio 6 - Lectura de un conjunto de elementos de una matriz"
      ]
    },
    {
      "cell_type": "code",
      "metadata": {
        "id": "YHN9rYbCbQIC",
        "colab_type": "code",
        "colab": {
          "base_uri": "https://localhost:8080/",
          "height": 225
        },
        "outputId": "6a06ca5e-3de4-4ba2-cfde-f012256001f3"
      },
      "source": [
        "import random as rn\n",
        "\n",
        "# Generar una matriz aleatorio de 10 x 10\n",
        "A = np.random.randint(100, size=(10, 10))\n",
        "print(\"Matriz original: \\n\" + str(A))\n",
        "\n",
        "suma = 0\n",
        "# Iterar sobre las filas\n",
        "for i in range(len(A)):\n",
        "  # Iterar sobre las columnas\n",
        "  for j in range(i, len(A[0])):\n",
        "    suma += A[i][j]\n",
        "\n",
        "print(\"La sumatorio de los elementos del tríangulo superior es: \" + str(suma))\n"
      ],
      "execution_count": 62,
      "outputs": [
        {
          "output_type": "stream",
          "text": [
            "Matriz original: \n",
            "[[74 73 62 44  0 88 98 64 49 29]\n",
            " [ 9 69  0 42 18 62 40 48 17 67]\n",
            " [15  5 40 58 84 63 30  0 56 66]\n",
            " [23 52 66 57 76 98 82 98  2 81]\n",
            " [20  3 76 15 94 96 81 41 31 27]\n",
            " [14 11 15 83  5 28 65 91 16  3]\n",
            " [53 82 60 35 32 40 88 58 49 74]\n",
            " [ 2 22 27  6  3 61 73 54  7 28]\n",
            " [99 74  5 96 24 70 86 49  6 96]\n",
            " [68 27 82 64 26 64 43 70 67  4]]\n",
            "La sumatorio de los elementos del tríangulo superior es: 2872\n"
          ],
          "name": "stdout"
        }
      ]
    },
    {
      "cell_type": "code",
      "metadata": {
        "id": "TEbefbC4Q-ER",
        "colab_type": "code",
        "colab": {
          "base_uri": "https://localhost:8080/",
          "height": 134
        },
        "outputId": "a5efccef-0559-426a-e2aa-e257eb1d6c4b"
      },
      "source": [
        "# Transformaciones de arreglos\n",
        "A = np.array([1,2,3,4,5,6])\n",
        "print(A)\n",
        "\n",
        "# Transformar a 3 filas, 2 columnas\n",
        "A = A.reshape(3, 2)\n",
        "print(A)\n",
        "\n",
        "# Se utiliza -1 para determinar cols\n",
        "A = A.reshape(2, -1)\n",
        "print(A)\n",
        "\n",
        "# Transormar a un arreglo lineal\n",
        "A = A.ravel()\n",
        "print(A)"
      ],
      "execution_count": null,
      "outputs": [
        {
          "output_type": "stream",
          "text": [
            "[1 2 3 4 5 6]\n",
            "[[1 2]\n",
            " [3 4]\n",
            " [5 6]]\n",
            "[[1 2 3]\n",
            " [4 5 6]]\n",
            "[1 2 3 4 5 6]\n"
          ],
          "name": "stdout"
        }
      ]
    },
    {
      "cell_type": "code",
      "metadata": {
        "id": "kdP0tMurZrka",
        "colab_type": "code",
        "colab": {
          "base_uri": "https://localhost:8080/",
          "height": 319
        },
        "outputId": "bdebe0c3-54e7-476e-eb42-efc0c6c91917"
      },
      "source": [
        "# Transpuesta de una matriz\n",
        "A = np.arange(25).reshape(5,5)\n",
        "print(\"Matriz Original: \\n\" + str(A))\n",
        "# Imprimir matriz transpuesta\n",
        "print(\"Matriz Transpuesta: \\n\" + str(A.T))\n",
        "# Imprimir matriz \n",
        "print(\"Matriz Transpuesta: \\n\" + str(A.transpose((1,0))))\n",
        "\n"
      ],
      "execution_count": null,
      "outputs": [
        {
          "output_type": "stream",
          "text": [
            "Matriz Original: \n",
            "[[ 0  1  2  3  4]\n",
            " [ 5  6  7  8  9]\n",
            " [10 11 12 13 14]\n",
            " [15 16 17 18 19]\n",
            " [20 21 22 23 24]]\n",
            "Matriz Transpuesta: \n",
            "[[ 0  5 10 15 20]\n",
            " [ 1  6 11 16 21]\n",
            " [ 2  7 12 17 22]\n",
            " [ 3  8 13 18 23]\n",
            " [ 4  9 14 19 24]]\n",
            "Matriz Transpuesta: \n",
            "[[ 0  5 10 15 20]\n",
            " [ 1  6 11 16 21]\n",
            " [ 2  7 12 17 22]\n",
            " [ 3  8 13 18 23]\n",
            " [ 4  9 14 19 24]]\n"
          ],
          "name": "stdout"
        }
      ]
    },
    {
      "cell_type": "code",
      "metadata": {
        "id": "u44c41iHY8qZ",
        "colab_type": "code",
        "colab": {
          "base_uri": "https://localhost:8080/",
          "height": 890
        },
        "outputId": "761e4e73-8a92-4fa8-b881-9823a9b5e814"
      },
      "source": [
        "# Operadores Matemáticos\n",
        "A = np.arange(100).reshape(10,10)\n",
        "print(\"Primer Matriz: \\n\" + str(A))\n",
        "\n",
        "B = np.arange(100, 200).reshape(10, 10)\n",
        "print(\"Segunda Matriz: \\n\" + str(B))\n",
        "\n",
        "# Calcular la suma de ambas matrices\n",
        "print(\"Suma: \"  + str(A + B))\n",
        "\n",
        "# Calcular la resta de ambas matrices\n",
        "print(\"Suma: \"  + str(B - A))\n",
        "\n",
        "# Calcular la multiplicación de ambas matrices\n",
        "print(\"Suma: \"  + str(A * B))"
      ],
      "execution_count": null,
      "outputs": [
        {
          "output_type": "stream",
          "text": [
            "Primer Matriz: \n",
            "[[ 0  1  2  3  4  5  6  7  8  9]\n",
            " [10 11 12 13 14 15 16 17 18 19]\n",
            " [20 21 22 23 24 25 26 27 28 29]\n",
            " [30 31 32 33 34 35 36 37 38 39]\n",
            " [40 41 42 43 44 45 46 47 48 49]\n",
            " [50 51 52 53 54 55 56 57 58 59]\n",
            " [60 61 62 63 64 65 66 67 68 69]\n",
            " [70 71 72 73 74 75 76 77 78 79]\n",
            " [80 81 82 83 84 85 86 87 88 89]\n",
            " [90 91 92 93 94 95 96 97 98 99]]\n",
            "Segunda Matriz: \n",
            "[[100 101 102 103 104 105 106 107 108 109]\n",
            " [110 111 112 113 114 115 116 117 118 119]\n",
            " [120 121 122 123 124 125 126 127 128 129]\n",
            " [130 131 132 133 134 135 136 137 138 139]\n",
            " [140 141 142 143 144 145 146 147 148 149]\n",
            " [150 151 152 153 154 155 156 157 158 159]\n",
            " [160 161 162 163 164 165 166 167 168 169]\n",
            " [170 171 172 173 174 175 176 177 178 179]\n",
            " [180 181 182 183 184 185 186 187 188 189]\n",
            " [190 191 192 193 194 195 196 197 198 199]]\n",
            "Suma: [[100 102 104 106 108 110 112 114 116 118]\n",
            " [120 122 124 126 128 130 132 134 136 138]\n",
            " [140 142 144 146 148 150 152 154 156 158]\n",
            " [160 162 164 166 168 170 172 174 176 178]\n",
            " [180 182 184 186 188 190 192 194 196 198]\n",
            " [200 202 204 206 208 210 212 214 216 218]\n",
            " [220 222 224 226 228 230 232 234 236 238]\n",
            " [240 242 244 246 248 250 252 254 256 258]\n",
            " [260 262 264 266 268 270 272 274 276 278]\n",
            " [280 282 284 286 288 290 292 294 296 298]]\n",
            "Suma: [[100 100 100 100 100 100 100 100 100 100]\n",
            " [100 100 100 100 100 100 100 100 100 100]\n",
            " [100 100 100 100 100 100 100 100 100 100]\n",
            " [100 100 100 100 100 100 100 100 100 100]\n",
            " [100 100 100 100 100 100 100 100 100 100]\n",
            " [100 100 100 100 100 100 100 100 100 100]\n",
            " [100 100 100 100 100 100 100 100 100 100]\n",
            " [100 100 100 100 100 100 100 100 100 100]\n",
            " [100 100 100 100 100 100 100 100 100 100]\n",
            " [100 100 100 100 100 100 100 100 100 100]]\n",
            "Suma: [[    0   101   204   309   416   525   636   749   864   981]\n",
            " [ 1100  1221  1344  1469  1596  1725  1856  1989  2124  2261]\n",
            " [ 2400  2541  2684  2829  2976  3125  3276  3429  3584  3741]\n",
            " [ 3900  4061  4224  4389  4556  4725  4896  5069  5244  5421]\n",
            " [ 5600  5781  5964  6149  6336  6525  6716  6909  7104  7301]\n",
            " [ 7500  7701  7904  8109  8316  8525  8736  8949  9164  9381]\n",
            " [ 9600  9821 10044 10269 10496 10725 10956 11189 11424 11661]\n",
            " [11900 12141 12384 12629 12876 13125 13376 13629 13884 14141]\n",
            " [14400 14661 14924 15189 15456 15725 15996 16269 16544 16821]\n",
            " [17100 17381 17664 17949 18236 18525 18816 19109 19404 19701]]\n"
          ],
          "name": "stdout"
        }
      ]
    },
    {
      "cell_type": "code",
      "metadata": {
        "id": "6ypxSJKoY3p9",
        "colab_type": "code",
        "colab": {
          "base_uri": "https://localhost:8080/",
          "height": 302
        },
        "outputId": "7e6d25a2-43c5-4a55-a1f6-a58638af799a"
      },
      "source": [
        "# Operadores lógicos\n",
        "\n",
        "A = np.random.random((5,5))\n",
        "print(\"Matriz Original: \\n\" + str(A))\n",
        "\n",
        "# Operador lógico\n",
        "print(\"Operador lógico a >5 \\n\" + str(a>0.5))"
      ],
      "execution_count": null,
      "outputs": [
        {
          "output_type": "stream",
          "text": [
            "Matriz Original: \n",
            "[[0.0124458  0.75318949 0.51012785 0.14677449 0.38131653]\n",
            " [0.63214844 0.49240062 0.72302018 0.5913991  0.34027848]\n",
            " [0.52156944 0.39808869 0.46779844 0.03746587 0.8252981 ]\n",
            " [0.8354298  0.7554512  0.53322169 0.09566736 0.7134824 ]\n",
            " [0.6791975  0.23094997 0.0116702  0.10245596 0.39682071]]\n",
            "Operador lógico a >5 \n",
            "[[False  True False  True  True  True  True  True False  True]\n",
            " [ True False  True False False  True  True  True  True False]\n",
            " [ True  True  True False  True  True  True False False  True]\n",
            " [ True False  True  True False False  True False False False]\n",
            " [False  True False  True False  True  True False  True  True]\n",
            " [ True False  True False False False  True False False  True]\n",
            " [ True False  True  True False False False False False False]\n",
            " [False False  True  True False  True False  True  True False]\n",
            " [ True False  True False False  True False  True False False]\n",
            " [False False False False  True  True  True False  True False]]\n"
          ],
          "name": "stdout"
        }
      ]
    },
    {
      "cell_type": "code",
      "metadata": {
        "id": "_jgah2aMe1A1",
        "colab_type": "code",
        "colab": {
          "base_uri": "https://localhost:8080/",
          "height": 319
        },
        "outputId": "dbf14432-e6a2-4fb5-af43-6239d0503e76"
      },
      "source": [
        "# Operaciones in-situ \n",
        "A = np.random.randint(10, size= (5,5))\n",
        "print(\"Matriz A Original: \\n\" + str(A))\n",
        "\n",
        "B = A = np.random.randint(10, size= (5,5))\n",
        "print(\"Matriz B Original: \\n\" + str(B))\n",
        "\n",
        "# Operación in-situ\n",
        "A += B\n",
        "print(\"Matriz A Modificada: \\n\" + str(A))"
      ],
      "execution_count": null,
      "outputs": [
        {
          "output_type": "stream",
          "text": [
            "Matriz A Original: \n",
            "[[0 0 7 9 2]\n",
            " [3 6 9 3 0]\n",
            " [1 1 2 5 1]\n",
            " [3 5 6 9 4]\n",
            " [1 1 7 7 5]]\n",
            "Matriz B Original: \n",
            "[[2 8 3 7 1]\n",
            " [3 1 1 7 0]\n",
            " [7 5 0 5 1]\n",
            " [2 9 5 9 5]\n",
            " [3 4 6 8 0]]\n",
            "Matriz A Modificada: \n",
            "[[ 4 16  6 14  2]\n",
            " [ 6  2  2 14  0]\n",
            " [14 10  0 10  2]\n",
            " [ 4 18 10 18 10]\n",
            " [ 6  8 12 16  0]]\n"
          ],
          "name": "stdout"
        }
      ]
    },
    {
      "cell_type": "code",
      "metadata": {
        "id": "qnL5B5LMfzz9",
        "colab_type": "code",
        "colab": {
          "base_uri": "https://localhost:8080/",
          "height": 218
        },
        "outputId": "256e7923-eba7-491e-fcf7-fc7ac780facf"
      },
      "source": [
        "# Funciones universales\n",
        "A = np.random.randint(10, size= (5,5))\n",
        "print(\"Matriz A Original: \\n\" + str(A))\n",
        "\n",
        "# Calcular Raiz cuadrada\n",
        "print(\"Raiz Cuadrada: \\n\" + str(np.sqrt(A)))\n"
      ],
      "execution_count": null,
      "outputs": [
        {
          "output_type": "stream",
          "text": [
            "Matriz A Original: \n",
            "[[0 7 0 0 0]\n",
            " [8 7 2 1 4]\n",
            " [3 7 6 9 9]\n",
            " [3 9 2 3 4]\n",
            " [3 7 2 3 5]]\n",
            "Raiz Cuadrada: \n",
            "[[0.         2.64575131 0.         0.         0.        ]\n",
            " [2.82842712 2.64575131 1.41421356 1.         2.        ]\n",
            " [1.73205081 2.64575131 2.44948974 3.         3.        ]\n",
            " [1.73205081 3.         1.41421356 1.73205081 2.        ]\n",
            " [1.73205081 2.64575131 1.41421356 1.73205081 2.23606798]]\n"
          ],
          "name": "stdout"
        }
      ]
    },
    {
      "cell_type": "markdown",
      "metadata": {
        "id": "0qFDMEpz4oKY",
        "colab_type": "text"
      },
      "source": [
        "#### Inversa de una matriz\n"
      ]
    },
    {
      "cell_type": "code",
      "metadata": {
        "id": "gGbw1o3x4ruc",
        "colab_type": "code",
        "colab": {
          "base_uri": "https://localhost:8080/",
          "height": 218
        },
        "outputId": "78845327-9af6-4a48-ea56-d922cf5bc14b"
      },
      "source": [
        "# Inversa de una matriz\n",
        "import numpy as np\n",
        "\n",
        "# Inicializar una matriz \n",
        "A = np.random.randint(10, size= (5,5))\n",
        "print(\"Matriz A Original: \\n\" + str(A))\n",
        "\n",
        "# Calcular matriz inversa\n",
        "B = np.linalg.inv(A)\n",
        "print(\"Matriz Inversa A^-1: \\n\" + str(B))"
      ],
      "execution_count": null,
      "outputs": [
        {
          "output_type": "stream",
          "text": [
            "Matriz A Original: \n",
            "[[8 0 1 9 5]\n",
            " [9 2 4 5 2]\n",
            " [8 5 1 1 3]\n",
            " [5 7 9 2 9]\n",
            " [1 7 3 7 1]]\n",
            "Matriz Inversa A^-1: \n",
            "[[-0.0137931   0.08390805  0.06781609 -0.02873563 -0.04367816]\n",
            " [-0.04396552 -0.06587644  0.11199713 -0.00826149  0.08994253]\n",
            " [-0.09094828  0.17826868 -0.14658764  0.06052443 -0.00675287]\n",
            " [ 0.06810345  0.00237069 -0.06400862 -0.02478448  0.06982759]\n",
            " [ 0.11767241 -0.17417385  0.0360273   0.0784842  -0.05445402]]\n"
          ],
          "name": "stdout"
        }
      ]
    },
    {
      "cell_type": "markdown",
      "metadata": {
        "id": "niGJIQRJeOga",
        "colab_type": "text"
      },
      "source": [
        "#### Ejercicio 7 - Operadores aritméticos"
      ]
    },
    {
      "cell_type": "code",
      "metadata": {
        "id": "66wMPftMeUXm",
        "colab_type": "code",
        "colab": {
          "base_uri": "https://localhost:8080/",
          "height": 763
        },
        "outputId": "bf697df3-ee00-4aec-9e65-791343df14bc"
      },
      "source": [
        "import numpy as np\n",
        "\n",
        "# Generar una matriz de 10 x 10\n",
        "A = np.random.randint(10, size = (10,10))\n",
        "print(\"Matriz A Original: \\n\" + str(A))\n",
        "\n",
        "# Calcular el cuadraro de una matriz de 10 x 10\n",
        "print(\"Cuadrado de la matriz: \\n\" + str(np.square(A)))\n",
        "\n",
        "# Multiplicación de matrices\n",
        "print(\"Inversa de de la matriz: \\n\" + str(np.linalg.inv(A)))\n",
        "\n"
      ],
      "execution_count": 66,
      "outputs": [
        {
          "output_type": "stream",
          "text": [
            "Matriz A Original: \n",
            "[[6 6 5 8 9 2 6 7 8 5]\n",
            " [8 7 4 4 2 7 6 3 7 2]\n",
            " [8 2 0 5 5 5 9 2 1 0]\n",
            " [4 9 6 5 3 1 2 5 4 9]\n",
            " [1 8 2 3 2 6 9 7 5 5]\n",
            " [1 3 1 7 4 1 9 4 1 1]\n",
            " [7 0 3 0 6 5 3 3 0 1]\n",
            " [6 8 8 8 6 9 2 5 8 2]\n",
            " [1 1 1 5 7 3 1 8 6 2]\n",
            " [9 1 1 0 2 5 3 5 1 7]]\n",
            "Cuadrado de la matriz: \n",
            "[[36 36 25 64 81  4 36 49 64 25]\n",
            " [64 49 16 16  4 49 36  9 49  4]\n",
            " [64  4  0 25 25 25 81  4  1  0]\n",
            " [16 81 36 25  9  1  4 25 16 81]\n",
            " [ 1 64  4  9  4 36 81 49 25 25]\n",
            " [ 1  9  1 49 16  1 81 16  1  1]\n",
            " [49  0  9  0 36 25  9  9  0  1]\n",
            " [36 64 64 64 36 81  4 25 64  4]\n",
            " [ 1  1  1 25 49  9  1 64 36  4]\n",
            " [81  1  1  0  4 25  9 25  1 49]]\n",
            "Inversa de de la matriz: \n",
            "[[-0.19961654  0.29983938 -0.00432645  0.17652517 -0.17711762  0.08272503\n",
            "   0.10785618 -0.17784635  0.18232593 -0.07203926]\n",
            " [-0.32868895  0.2324998   0.1930608   0.37381551 -0.04556008 -0.09409127\n",
            "   0.13827851 -0.21677544  0.27893069 -0.30379883]\n",
            " [ 0.10570453  0.04488377 -0.33588277 -0.13791622 -0.04585367  0.24037212\n",
            "   0.12015461  0.08655869 -0.17873794  0.09657942]\n",
            " [-0.01531697 -0.08198673  0.05103928 -0.01743816 -0.06909003  0.08415731\n",
            "  -0.15257954  0.11813988 -0.0088946   0.08469765]\n",
            " [ 0.16982365 -0.2719414   0.21621469 -0.01809667  0.13154789 -0.25700862\n",
            "   0.00246963  0.05953657 -0.06665791 -0.07590331]\n",
            " [ 0.10777492 -0.29209964  0.10833691 -0.16921921  0.15938976 -0.14138261\n",
            "  -0.12864481  0.23500307 -0.15158098  0.12493314]\n",
            " [ 0.17460316 -0.06316396 -0.08350708 -0.16519536  0.08405342  0.06348681\n",
            "  -0.01539827  0.03529139 -0.17591126  0.07899349]\n",
            " [-0.4586497   0.50298585 -0.21053855  0.28865493 -0.21988941  0.316372\n",
            "   0.26953436 -0.30142184  0.42462225 -0.14906824]\n",
            " [ 0.28877322 -0.07107188 -0.05682357 -0.22661385  0.08212108 -0.10657342\n",
            "  -0.14611716  0.0781453  -0.14684457  0.10246944]\n",
            " [ 0.37452531 -0.46084607  0.08109767 -0.23763017  0.19865621 -0.19080327\n",
            "  -0.24945911  0.25140503 -0.32834834  0.255515  ]]\n"
          ],
          "name": "stdout"
        }
      ]
    }
  ]
}