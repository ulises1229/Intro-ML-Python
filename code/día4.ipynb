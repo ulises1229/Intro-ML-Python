{
  "nbformat": 4,
  "nbformat_minor": 0,
  "metadata": {
    "colab": {
      "name": "Día4.ipynb",
      "provenance": [],
      "collapsed_sections": [
        "ilQAOcHY8uHR",
        "h0FyY51mKvHR",
        "pZtLeDVwZC2t",
        "-IozdV_DfSoT",
        "7xqYYS_CihOi",
        "5QcndDlEiopV",
        "kpvLvniAyCgd",
        "1_pDzah9lIE_",
        "nYGbzUhqyxze",
        "bAlltkc8zhuj",
        "3h5IcosC4JOj",
        "tMEiUsrB492m",
        "ysHVGVZtBa8D",
        "zKhqz4COHtZH",
        "EHPDnVszHz--",
        "272FCz0fJrbi",
        "04CHqmBbLX1o",
        "gjGTEG98M6F6"
      ],
      "include_colab_link": true
    },
    "kernelspec": {
      "name": "python3",
      "display_name": "Python 3"
    }
  },
  "cells": [
    {
      "cell_type": "markdown",
      "metadata": {
        "id": "view-in-github",
        "colab_type": "text"
      },
      "source": [
        "<a href=\"https://colab.research.google.com/github/ulises1229/INTRO-PYTHON-ENESJ/blob/master/code/d%C3%ADa4.ipynb\" target=\"_parent\"><img src=\"https://colab.research.google.com/assets/colab-badge.svg\" alt=\"Open In Colab\"/></a>"
      ]
    },
    {
      "cell_type": "markdown",
      "metadata": {
        "id": "ilQAOcHY8uHR",
        "colab_type": "text"
      },
      "source": [
        "## Día4 - Visualización de datos y Matemáticas Simbólicas\n",
        "+ Autor: Ulises Olivares\n",
        "+ uolivares@unam.mx\n",
        "+ 03 de septiembre de **2020**"
      ]
    },
    {
      "cell_type": "code",
      "metadata": {
        "id": "JSIwOIT_BzmA",
        "colab_type": "code",
        "colab": {}
      },
      "source": [
        "%matplotlib inline"
      ],
      "execution_count": null,
      "outputs": []
    },
    {
      "cell_type": "code",
      "metadata": {
        "id": "4wY5yUFr80Gy",
        "colab_type": "code",
        "colab": {
          "base_uri": "https://localhost:8080/"
        },
        "outputId": "31aa8c63-58f8-40b0-f2a4-50ec7bee36d0"
      },
      "source": [
        "# importar la librería de pandas como pd\n",
        "import pandas as pd\n",
        "\n",
        "#Leer el dataframe salaries.csv\n",
        "df = pd.read_csv(\"https://raw.githubusercontent.com/ulises1229/INTRO-PYTHON-ENESJ/master/data/salaries.csv\")\n",
        "df.head()"
      ],
      "execution_count": null,
      "outputs": [
        {
          "output_type": "execute_result",
          "data": {
            "text/html": [
              "<div>\n",
              "<style scoped>\n",
              "    .dataframe tbody tr th:only-of-type {\n",
              "        vertical-align: middle;\n",
              "    }\n",
              "\n",
              "    .dataframe tbody tr th {\n",
              "        vertical-align: top;\n",
              "    }\n",
              "\n",
              "    .dataframe thead th {\n",
              "        text-align: right;\n",
              "    }\n",
              "</style>\n",
              "<table border=\"1\" class=\"dataframe\">\n",
              "  <thead>\n",
              "    <tr style=\"text-align: right;\">\n",
              "      <th></th>\n",
              "      <th>rank</th>\n",
              "      <th>discipline</th>\n",
              "      <th>phd</th>\n",
              "      <th>service</th>\n",
              "      <th>sex</th>\n",
              "      <th>salary</th>\n",
              "    </tr>\n",
              "  </thead>\n",
              "  <tbody>\n",
              "    <tr>\n",
              "      <th>0</th>\n",
              "      <td>Prof</td>\n",
              "      <td>B</td>\n",
              "      <td>56</td>\n",
              "      <td>49</td>\n",
              "      <td>Male</td>\n",
              "      <td>186960</td>\n",
              "    </tr>\n",
              "    <tr>\n",
              "      <th>1</th>\n",
              "      <td>Prof</td>\n",
              "      <td>A</td>\n",
              "      <td>12</td>\n",
              "      <td>6</td>\n",
              "      <td>Male</td>\n",
              "      <td>93000</td>\n",
              "    </tr>\n",
              "    <tr>\n",
              "      <th>2</th>\n",
              "      <td>Prof</td>\n",
              "      <td>A</td>\n",
              "      <td>23</td>\n",
              "      <td>20</td>\n",
              "      <td>Male</td>\n",
              "      <td>110515</td>\n",
              "    </tr>\n",
              "    <tr>\n",
              "      <th>3</th>\n",
              "      <td>Prof</td>\n",
              "      <td>A</td>\n",
              "      <td>40</td>\n",
              "      <td>31</td>\n",
              "      <td>Male</td>\n",
              "      <td>131205</td>\n",
              "    </tr>\n",
              "    <tr>\n",
              "      <th>4</th>\n",
              "      <td>Prof</td>\n",
              "      <td>B</td>\n",
              "      <td>20</td>\n",
              "      <td>18</td>\n",
              "      <td>Male</td>\n",
              "      <td>104800</td>\n",
              "    </tr>\n",
              "  </tbody>\n",
              "</table>\n",
              "</div>"
            ],
            "text/plain": [
              "   rank discipline  phd  service   sex  salary\n",
              "0  Prof          B   56       49  Male  186960\n",
              "1  Prof          A   12        6  Male   93000\n",
              "2  Prof          A   23       20  Male  110515\n",
              "3  Prof          A   40       31  Male  131205\n",
              "4  Prof          B   20       18  Male  104800"
            ]
          },
          "metadata": {
            "tags": []
          },
          "execution_count": 486
        }
      ]
    },
    {
      "cell_type": "markdown",
      "metadata": {
        "id": "h0FyY51mKvHR",
        "colab_type": "text"
      },
      "source": [
        "##1. Gráficos de dispersión (Scatter)"
      ]
    },
    {
      "cell_type": "code",
      "metadata": {
        "id": "Mg6DF7HC-NMx",
        "colab_type": "code",
        "colab": {
          "base_uri": "https://localhost:8080/"
        },
        "outputId": "e987eec9-9f72-4976-a6fb-ada5868d11c7"
      },
      "source": [
        "# Importar librería Matplotlib\n",
        "import matplotlib.pyplot as plt\n",
        "\n",
        "# Almacenar variables x = años servicio y y = salario\n",
        "x = df.service\n",
        "y = df.salary\n",
        "\n",
        "# Generar diagrama de dispersión\n",
        "plt.scatter(x, y)\n",
        "\n",
        "# Títulos: gráfico y ejes \n",
        "plt.title(\"Gráfico de Dispersión Años de servicio vs Salario\")\n",
        "plt.xlabel('Años de servicio')\n",
        "plt.ylabel('Salario Anual')\n",
        "\n",
        "# Desplegar imagen en pantalla\n",
        "plt.show()"
      ],
      "execution_count": null,
      "outputs": [
        {
          "output_type": "display_data",
          "data": {
            "image/png": "[encoded data removed]",
            "text/plain": [
              "<Figure size 432x288 with 1 Axes>"
            ]
          },
          "metadata": {
            "tags": [],
            "needs_background": "light"
          }
        }
      ]
    },
    {
      "cell_type": "markdown",
      "metadata": {
        "id": "pZtLeDVwZC2t",
        "colab_type": "text"
      },
      "source": [
        "### Añadir Colores y modificar el tamaño del gráfico"
      ]
    },
    {
      "cell_type": "code",
      "metadata": {
        "id": "w7YDLdjiYKSs",
        "colab_type": "code",
        "colab": {
          "base_uri": "https://localhost:8080/"
        },
        "outputId": "411225cf-6aea-4bf0-8646-a46820647042"
      },
      "source": [
        "#importar librería de numpy\n",
        "import numpy as np\n",
        "\n",
        "# Almacenar variables x = años servicio y y = salario\n",
        "x = df.service\n",
        "y = df.salary\n",
        "lab = ['Male', 'Female']\n",
        "\n",
        "# Arreglo de colores\n",
        "colores = np.arange(len(x))\n",
        "\n",
        "# Títulos: gráfico y ejes \n",
        "plt.title(\"Gráfico de Dispersión Años de servicio vs Salario\")\n",
        "plt.xlabel('Años de servicio')\n",
        "plt.ylabel('Salario Anual')\n",
        "\n",
        "# Agregar un scatter con colores y transparencia\n",
        "plt.scatter(x, y, c=colores, alpha = 0.5, s = (y*0.002))\n",
        "\n",
        "#plt.show()\n",
        "plt.savefig(\"dispersión.tiff\", dpi=300, quality = 95, bbox_inches='tight')"
      ],
      "execution_count": null,
      "outputs": [
        {
          "output_type": "display_data",
          "data": {
            "image/png": "[encoded data removed]",
            "text/plain": [
              "<Figure size 432x288 with 1 Axes>"
            ]
          },
          "metadata": {
            "tags": [],
            "needs_background": "light"
          }
        }
      ]
    },
    {
      "cell_type": "markdown",
      "metadata": {
        "id": "-IozdV_DfSoT",
        "colab_type": "text"
      },
      "source": [
        "### Agregar una leyenda a los datos"
      ]
    },
    {
      "cell_type": "code",
      "metadata": {
        "id": "AvCdA-lEfWMp",
        "colab_type": "code",
        "colab": {
          "base_uri": "https://localhost:8080/"
        },
        "outputId": "997ede2f-539e-430b-88c9-41b3b54b2ac5"
      },
      "source": [
        "# Almacenar variables x = años servicio y y = salario\n",
        "x = df.service\n",
        "y = df.salary\n",
        "lab = ['Male', 'Female']\n",
        "\n",
        "# Arreglo de colores\n",
        "colores = np.arange(len(x))\n",
        "\n",
        "# Títulos: gráfico y ejes \n",
        "plt.title(\"Gráfico de Dispersión Años de servicio vs Salario\")\n",
        "plt.xlabel('Años de servicio')\n",
        "plt.ylabel('Salario Anual')\n",
        "\n",
        "# Agregar un scatter con colores, transparencia y leyenda\n",
        "plt.scatter(x, y, c=colores, alpha = 0.5, s = (y*0.002), label = \"datos\")\n",
        "plt.legend(loc='best')\n",
        "\n",
        "#plt.show()\n",
        "plt.savefig(\"dispersión.tiff\", dpi=300, quality = 95, bbox_inches='tight')"
      ],
      "execution_count": null,
      "outputs": [
        {
          "output_type": "display_data",
          "data": {
            "image/png": "[encoded data removed]",
            "text/plain": [
              "<Figure size 432x288 with 1 Axes>"
            ]
          },
          "metadata": {
            "tags": [],
            "needs_background": "light"
          }
        }
      ]
    },
    {
      "cell_type": "markdown",
      "metadata": {
        "id": "7xqYYS_CihOi",
        "colab_type": "text"
      },
      "source": [
        "### Exportando un gráfico"
      ]
    },
    {
      "cell_type": "code",
      "metadata": {
        "id": "p6ui5FvWX787",
        "colab_type": "code",
        "colab": {
          "base_uri": "https://localhost:8080/"
        },
        "outputId": "60e27ca8-e14c-4116-dbb5-fbfbbaee649a"
      },
      "source": [
        "# guarda la imagen en un archivo\n",
        "plt.savefig(\"dispersión.tiff\", dpi=300, quality = 95, bbox_inches='tight')"
      ],
      "execution_count": null,
      "outputs": [
        {
          "output_type": "display_data",
          "data": {
            "text/plain": [
              "<Figure size 432x288 with 0 Axes>"
            ]
          },
          "metadata": {
            "tags": []
          }
        }
      ]
    },
    {
      "cell_type": "markdown",
      "metadata": {
        "id": "5QcndDlEiopV",
        "colab_type": "text"
      },
      "source": [
        "### Ejercicio 1\n",
        "\n",
        "\n",
        "Emplear el dataframe **mpg.csv** Está en el repositorio de GitHub: https://raw.githubusercontent.com/ulises1229/INTRO-PYTHON-ENESJ/master/data/mpg.csv\n",
        "\n",
        "1. Se deberá generar un gráfico de dispersión del desplazamiento del motor vs rendimiento en autopista.\n",
        "\n",
        "2. Se deberá generar un segundo gráfico de desplazamiento del motor vs rendimiento en ciudad.\n",
        "\n",
        "3. Exportar un gráfico con una resolución de 300 dpi"
      ]
    },
    {
      "cell_type": "code",
      "metadata": {
        "id": "rWkuIcZ9isGT",
        "colab_type": "code",
        "colab": {
          "base_uri": "https://localhost:8080/"
        },
        "outputId": "057da3d7-d224-494e-ed6e-35ffec9a5c18"
      },
      "source": [
        "# Import Pandas lib\n",
        "import pandas as pd\n",
        "import matplotlib.pyplot as plt\n",
        "\n",
        "dfMpg = pd.read_csv('https://raw.githubusercontent.com/ulises1229/INTRO-PYTHON-ENESJ/master/data/mpg.csv')\n",
        "dfMpg.head()\n",
        "\n",
        "\n"
      ],
      "execution_count": null,
      "outputs": [
        {
          "output_type": "execute_result",
          "data": {
            "text/html": [
              "<div>\n",
              "<style scoped>\n",
              "    .dataframe tbody tr th:only-of-type {\n",
              "        vertical-align: middle;\n",
              "    }\n",
              "\n",
              "    .dataframe tbody tr th {\n",
              "        vertical-align: top;\n",
              "    }\n",
              "\n",
              "    .dataframe thead th {\n",
              "        text-align: right;\n",
              "    }\n",
              "</style>\n",
              "<table border=\"1\" class=\"dataframe\">\n",
              "  <thead>\n",
              "    <tr style=\"text-align: right;\">\n",
              "      <th></th>\n",
              "      <th>Unnamed: 0</th>\n",
              "      <th>manufacturer</th>\n",
              "      <th>model</th>\n",
              "      <th>displ</th>\n",
              "      <th>year</th>\n",
              "      <th>cyl</th>\n",
              "      <th>trans</th>\n",
              "      <th>drv</th>\n",
              "      <th>cty</th>\n",
              "      <th>hwy</th>\n",
              "      <th>fl</th>\n",
              "      <th>class</th>\n",
              "    </tr>\n",
              "  </thead>\n",
              "  <tbody>\n",
              "    <tr>\n",
              "      <th>0</th>\n",
              "      <td>1</td>\n",
              "      <td>audi</td>\n",
              "      <td>a4</td>\n",
              "      <td>1.8</td>\n",
              "      <td>1999</td>\n",
              "      <td>4</td>\n",
              "      <td>auto(l5)</td>\n",
              "      <td>f</td>\n",
              "      <td>18</td>\n",
              "      <td>29</td>\n",
              "      <td>p</td>\n",
              "      <td>compact</td>\n",
              "    </tr>\n",
              "    <tr>\n",
              "      <th>1</th>\n",
              "      <td>2</td>\n",
              "      <td>audi</td>\n",
              "      <td>a4</td>\n",
              "      <td>1.8</td>\n",
              "      <td>1999</td>\n",
              "      <td>4</td>\n",
              "      <td>manual(m5)</td>\n",
              "      <td>f</td>\n",
              "      <td>21</td>\n",
              "      <td>29</td>\n",
              "      <td>p</td>\n",
              "      <td>compact</td>\n",
              "    </tr>\n",
              "    <tr>\n",
              "      <th>2</th>\n",
              "      <td>3</td>\n",
              "      <td>audi</td>\n",
              "      <td>a4</td>\n",
              "      <td>2.0</td>\n",
              "      <td>2008</td>\n",
              "      <td>4</td>\n",
              "      <td>manual(m6)</td>\n",
              "      <td>f</td>\n",
              "      <td>20</td>\n",
              "      <td>31</td>\n",
              "      <td>p</td>\n",
              "      <td>compact</td>\n",
              "    </tr>\n",
              "    <tr>\n",
              "      <th>3</th>\n",
              "      <td>4</td>\n",
              "      <td>audi</td>\n",
              "      <td>a4</td>\n",
              "      <td>2.0</td>\n",
              "      <td>2008</td>\n",
              "      <td>4</td>\n",
              "      <td>auto(av)</td>\n",
              "      <td>f</td>\n",
              "      <td>21</td>\n",
              "      <td>30</td>\n",
              "      <td>p</td>\n",
              "      <td>compact</td>\n",
              "    </tr>\n",
              "    <tr>\n",
              "      <th>4</th>\n",
              "      <td>5</td>\n",
              "      <td>audi</td>\n",
              "      <td>a4</td>\n",
              "      <td>2.8</td>\n",
              "      <td>1999</td>\n",
              "      <td>6</td>\n",
              "      <td>auto(l5)</td>\n",
              "      <td>f</td>\n",
              "      <td>16</td>\n",
              "      <td>26</td>\n",
              "      <td>p</td>\n",
              "      <td>compact</td>\n",
              "    </tr>\n",
              "  </tbody>\n",
              "</table>\n",
              "</div>"
            ],
            "text/plain": [
              "   Unnamed: 0 manufacturer model  displ  year  ...  drv cty hwy  fl    class\n",
              "0           1         audi    a4    1.8  1999  ...    f  18  29   p  compact\n",
              "1           2         audi    a4    1.8  1999  ...    f  21  29   p  compact\n",
              "2           3         audi    a4    2.0  2008  ...    f  20  31   p  compact\n",
              "3           4         audi    a4    2.0  2008  ...    f  21  30   p  compact\n",
              "4           5         audi    a4    2.8  1999  ...    f  16  26   p  compact\n",
              "\n",
              "[5 rows x 12 columns]"
            ]
          },
          "metadata": {
            "tags": []
          },
          "execution_count": 491
        }
      ]
    },
    {
      "cell_type": "markdown",
      "metadata": {
        "id": "KWiFNXOa0lVE",
        "colab_type": "text"
      },
      "source": [
        "Ejercicio 1 - Parte 1"
      ]
    },
    {
      "cell_type": "code",
      "metadata": {
        "id": "XjD6fyu4zOJa",
        "colab_type": "code",
        "colab": {
          "base_uri": "https://localhost:8080/"
        },
        "outputId": "7dd6d024-6493-47f8-ccc6-be29af8373f5"
      },
      "source": [
        "# Obtener dos columnas para graficar\n",
        "x = dfMpg.displ\n",
        "y = dfMpg.hwy\n",
        "\n",
        "plt.scatter(x,y, s = 10, alpha = 0.5, c = 'red')\n",
        "plt.title(\"Desplazamiento vs Rendimiento Autopista\")\n",
        "plt.xlabel(\"Desplazamiento (lts)\")\n",
        "plt.ylabel(\"Rendimiento autopista(mpg)\")\n",
        "\n",
        "# Guardar imagen con una resolución de 300 dpi\n",
        "plt.savefig(\"autopista.tiff\", dpi=300)\n",
        "\n"
      ],
      "execution_count": null,
      "outputs": [
        {
          "output_type": "display_data",
          "data": {
            "image/png": "[encoded data removed]",
            "text/plain": [
              "<Figure size 432x288 with 1 Axes>"
            ]
          },
          "metadata": {
            "tags": [],
            "needs_background": "light"
          }
        }
      ]
    },
    {
      "cell_type": "markdown",
      "metadata": {
        "id": "_vGkqFzc0thE",
        "colab_type": "text"
      },
      "source": [
        "Ejercicio 1 - Parte 2"
      ]
    },
    {
      "cell_type": "code",
      "metadata": {
        "id": "jscl6VSV0yqG",
        "colab_type": "code",
        "colab": {
          "base_uri": "https://localhost:8080/"
        },
        "outputId": "6606056e-b7dd-4775-ebb5-e7a9395926ad"
      },
      "source": [
        "# Obtener dos columnas para graficar\n",
        "x = dfMpg.displ\n",
        "y = dfMpg.cty\n",
        "\n",
        "plt.scatter(x,y, s = 10, alpha = 0.5, c = 'red')\n",
        "plt.title(\"Desplazamiento vs Rendimiento Ciudad\")\n",
        "plt.xlabel(\"Desplazamiento (lts)\")\n",
        "plt.ylabel(\"Rendimiento ciudad(mpg)\")\n",
        "\n",
        "# Guardar imagen con una resolución de 300 dpi\n",
        "plt.savefig(\"ciudad.tiff\", dpi=300)"
      ],
      "execution_count": null,
      "outputs": [
        {
          "output_type": "display_data",
          "data": {
            "image/png": "[encoded data removed]",
            "text/plain": [
              "<Figure size 432x288 with 1 Axes>"
            ]
          },
          "metadata": {
            "tags": [],
            "needs_background": "light"
          }
        }
      ]
    },
    {
      "cell_type": "markdown",
      "metadata": {
        "id": "kpvLvniAyCgd",
        "colab_type": "text"
      },
      "source": [
        "### Ejercicio 2\n",
        "Emplear el dataframe **iris.csv** Está en el repositorio de GitHub:https://raw.githubusercontent.com/ulises1229/INTRO-PYTHON-ENESJ/master/data/iris.csv\n",
        "\n",
        "1. Se deberá generar un gráfico de dispersión de Longitud de pétalo vs Longitud de sepalo. Lo anterior se deberá hacer para cada especie, se deberá poner el nombre de la especie en una leyenda. "
      ]
    },
    {
      "cell_type": "code",
      "metadata": {
        "id": "kS5lHekryd7T",
        "colab_type": "code",
        "colab": {
          "base_uri": "https://localhost:8080/"
        },
        "outputId": "5e901981-497c-47c9-aa5b-023c32c253a5"
      },
      "source": [
        "# Código aquí\n",
        "\n",
        "\n",
        "iris = pd.read_csv(\"https://raw.githubusercontent.com/ulises1229/INTRO-PYTHON-ENESJ/master/data/iris.csv\")\n",
        "iris.head()\n",
        "\n",
        "x = iris['Sepal.Length']\n",
        "y = iris['Petal.Length']\n",
        "\n",
        "\n",
        "plt.scatter(x,y)"
      ],
      "execution_count": null,
      "outputs": [
        {
          "output_type": "execute_result",
          "data": {
            "text/plain": [
              "<matplotlib.collections.PathCollection at 0x7faaf780cc88>"
            ]
          },
          "metadata": {
            "tags": []
          },
          "execution_count": 494
        },
        {
          "output_type": "display_data",
          "data": {
            "image/png": "[encoded data removed]",
            "text/plain": [
              "<Figure size 432x288 with 1 Axes>"
            ]
          },
          "metadata": {
            "tags": [],
            "needs_background": "light"
          }
        }
      ]
    },
    {
      "cell_type": "markdown",
      "metadata": {
        "id": "1_pDzah9lIE_",
        "colab_type": "text"
      },
      "source": [
        "## 2. Gráficos de Línea# "
      ]
    },
    {
      "cell_type": "code",
      "metadata": {
        "id": "YEQ0KD1rlHjm",
        "colab_type": "code",
        "colab": {
          "base_uri": "https://localhost:8080/"
        },
        "outputId": "53382139-595f-471a-ed07-10e21fd5d950"
      },
      "source": [
        "# Importar pandas y matplotlib\n",
        "import matplotlib.pyplot as plt\n",
        "import pandas as pd\n",
        "\n",
        "# Importar data frame de temperatura\n",
        "df_temp = pd.read_csv('https://raw.githubusercontent.com/ulises1229/INTRO-PYTHON-ENESJ/master/data/temp.csv', sep =',')\n",
        "\n",
        "df_temp\n",
        "\n"
      ],
      "execution_count": null,
      "outputs": [
        {
          "output_type": "execute_result",
          "data": {
            "text/html": [
              "<div>\n",
              "<style scoped>\n",
              "    .dataframe tbody tr th:only-of-type {\n",
              "        vertical-align: middle;\n",
              "    }\n",
              "\n",
              "    .dataframe tbody tr th {\n",
              "        vertical-align: top;\n",
              "    }\n",
              "\n",
              "    .dataframe thead th {\n",
              "        text-align: right;\n",
              "    }\n",
              "</style>\n",
              "<table border=\"1\" class=\"dataframe\">\n",
              "  <thead>\n",
              "    <tr style=\"text-align: right;\">\n",
              "      <th></th>\n",
              "      <th>Source</th>\n",
              "      <th>Year</th>\n",
              "      <th>Mean</th>\n",
              "    </tr>\n",
              "  </thead>\n",
              "  <tbody>\n",
              "    <tr>\n",
              "      <th>0</th>\n",
              "      <td>GCAG</td>\n",
              "      <td>2016</td>\n",
              "      <td>0.9363</td>\n",
              "    </tr>\n",
              "    <tr>\n",
              "      <th>1</th>\n",
              "      <td>GISTEMP</td>\n",
              "      <td>2016</td>\n",
              "      <td>0.9900</td>\n",
              "    </tr>\n",
              "    <tr>\n",
              "      <th>2</th>\n",
              "      <td>GCAG</td>\n",
              "      <td>2015</td>\n",
              "      <td>0.8998</td>\n",
              "    </tr>\n",
              "    <tr>\n",
              "      <th>3</th>\n",
              "      <td>GISTEMP</td>\n",
              "      <td>2015</td>\n",
              "      <td>0.8700</td>\n",
              "    </tr>\n",
              "    <tr>\n",
              "      <th>4</th>\n",
              "      <td>GCAG</td>\n",
              "      <td>2014</td>\n",
              "      <td>0.7408</td>\n",
              "    </tr>\n",
              "    <tr>\n",
              "      <th>...</th>\n",
              "      <td>...</td>\n",
              "      <td>...</td>\n",
              "      <td>...</td>\n",
              "    </tr>\n",
              "    <tr>\n",
              "      <th>269</th>\n",
              "      <td>GISTEMP</td>\n",
              "      <td>1882</td>\n",
              "      <td>-0.1000</td>\n",
              "    </tr>\n",
              "    <tr>\n",
              "      <th>270</th>\n",
              "      <td>GCAG</td>\n",
              "      <td>1881</td>\n",
              "      <td>-0.0628</td>\n",
              "    </tr>\n",
              "    <tr>\n",
              "      <th>271</th>\n",
              "      <td>GISTEMP</td>\n",
              "      <td>1881</td>\n",
              "      <td>-0.1200</td>\n",
              "    </tr>\n",
              "    <tr>\n",
              "      <th>272</th>\n",
              "      <td>GCAG</td>\n",
              "      <td>1880</td>\n",
              "      <td>-0.1148</td>\n",
              "    </tr>\n",
              "    <tr>\n",
              "      <th>273</th>\n",
              "      <td>GISTEMP</td>\n",
              "      <td>1880</td>\n",
              "      <td>-0.2000</td>\n",
              "    </tr>\n",
              "  </tbody>\n",
              "</table>\n",
              "<p>274 rows × 3 columns</p>\n",
              "</div>"
            ],
            "text/plain": [
              "      Source  Year    Mean\n",
              "0       GCAG  2016  0.9363\n",
              "1    GISTEMP  2016  0.9900\n",
              "2       GCAG  2015  0.8998\n",
              "3    GISTEMP  2015  0.8700\n",
              "4       GCAG  2014  0.7408\n",
              "..       ...   ...     ...\n",
              "269  GISTEMP  1882 -0.1000\n",
              "270     GCAG  1881 -0.0628\n",
              "271  GISTEMP  1881 -0.1200\n",
              "272     GCAG  1880 -0.1148\n",
              "273  GISTEMP  1880 -0.2000\n",
              "\n",
              "[274 rows x 3 columns]"
            ]
          },
          "metadata": {
            "tags": []
          },
          "execution_count": 495
        }
      ]
    },
    {
      "cell_type": "code",
      "metadata": {
        "id": "2ZinlkNj6kvB",
        "colab_type": "code",
        "colab": {
          "base_uri": "https://localhost:8080/"
        },
        "outputId": "7187e520-7e4e-4d0d-8aa3-5c1108a81254"
      },
      "source": [
        "# Separa dos variables del dataframe\n",
        "año = df_temp.Year\n",
        "temp = df_temp.Mean\n",
        "\n",
        "# Generar el diagrama de línea\n",
        "plt.plot(año,temp)\n",
        "\n",
        "#Agregar un scatter\n",
        "plt.scatter(año, temp, s = 3, c = \"red\", alpha = 0.6)\n",
        "\n",
        "# Agregar títulos\n",
        "plt.title(\"Temperatura media de la tierra 1880 - 2016\")\n",
        "plt.xlabel('Año')\n",
        "plt.ylabel('Temperatura media ºC')\n",
        "\n",
        "#Guardar el el gráfico en un archivo\n",
        "plt.savefig(\"line_temp.tiff\", dpi=300, quality = 95, bbox_inches='tight')\n",
        "\n"
      ],
      "execution_count": null,
      "outputs": [
        {
          "output_type": "display_data",
          "data": {
            "image/png": "[encoded data removed]",
            "text/plain": [
              "<Figure size 432x288 with 1 Axes>"
            ]
          },
          "metadata": {
            "tags": [],
            "needs_background": "light"
          }
        }
      ]
    },
    {
      "cell_type": "markdown",
      "metadata": {
        "id": "nYGbzUhqyxze",
        "colab_type": "text"
      },
      "source": [
        "### Ejercicio 3\n",
        "Emplear el dataframe **co2.csv** Está en el repositorio de GitHub:https://raw.githubusercontent.com/ulises1229/INTRO-PYTHON-ENESJ/master/data/co2.csv\n",
        "1. Se deberá generar un gráfico de línea con fecha vs Interpolated.\n",
        "\n",
        "2. Se deberá generar un gráfico de línea con fecha vs Trend.\n",
        "\n",
        "3. Se deberá exportar el gráfico con una calidad de 300 dpi.\n"
      ]
    },
    {
      "cell_type": "code",
      "metadata": {
        "id": "Dr7OFQfOzKIl",
        "colab_type": "code",
        "colab": {
          "base_uri": "https://localhost:8080/"
        },
        "outputId": "cb306d1f-033e-4664-8414-4c0a22b15bc8"
      },
      "source": [
        "# Código aquí\n",
        "co2 = pd.read_csv(\"https://raw.githubusercontent.com/ulises1229/INTRO-PYTHON-ENESJ/master/data/co2.csv\")\n",
        "co2.head()"
      ],
      "execution_count": null,
      "outputs": [
        {
          "output_type": "execute_result",
          "data": {
            "text/html": [
              "<div>\n",
              "<style scoped>\n",
              "    .dataframe tbody tr th:only-of-type {\n",
              "        vertical-align: middle;\n",
              "    }\n",
              "\n",
              "    .dataframe tbody tr th {\n",
              "        vertical-align: top;\n",
              "    }\n",
              "\n",
              "    .dataframe thead th {\n",
              "        text-align: right;\n",
              "    }\n",
              "</style>\n",
              "<table border=\"1\" class=\"dataframe\">\n",
              "  <thead>\n",
              "    <tr style=\"text-align: right;\">\n",
              "      <th></th>\n",
              "      <th>Date</th>\n",
              "      <th>Decimal Date</th>\n",
              "      <th>Average</th>\n",
              "      <th>Interpolated</th>\n",
              "      <th>Trend</th>\n",
              "      <th>Number of Days</th>\n",
              "    </tr>\n",
              "  </thead>\n",
              "  <tbody>\n",
              "    <tr>\n",
              "      <th>0</th>\n",
              "      <td>1958-03-01</td>\n",
              "      <td>1958.208</td>\n",
              "      <td>315.71</td>\n",
              "      <td>315.71</td>\n",
              "      <td>314.62</td>\n",
              "      <td>-1</td>\n",
              "    </tr>\n",
              "    <tr>\n",
              "      <th>1</th>\n",
              "      <td>1958-04-01</td>\n",
              "      <td>1958.292</td>\n",
              "      <td>317.45</td>\n",
              "      <td>317.45</td>\n",
              "      <td>315.29</td>\n",
              "      <td>-1</td>\n",
              "    </tr>\n",
              "    <tr>\n",
              "      <th>2</th>\n",
              "      <td>1958-05-01</td>\n",
              "      <td>1958.375</td>\n",
              "      <td>317.50</td>\n",
              "      <td>317.50</td>\n",
              "      <td>314.71</td>\n",
              "      <td>-1</td>\n",
              "    </tr>\n",
              "    <tr>\n",
              "      <th>3</th>\n",
              "      <td>1958-06-01</td>\n",
              "      <td>1958.458</td>\n",
              "      <td>-99.99</td>\n",
              "      <td>317.10</td>\n",
              "      <td>314.85</td>\n",
              "      <td>-1</td>\n",
              "    </tr>\n",
              "    <tr>\n",
              "      <th>4</th>\n",
              "      <td>1958-07-01</td>\n",
              "      <td>1958.542</td>\n",
              "      <td>315.86</td>\n",
              "      <td>315.86</td>\n",
              "      <td>314.98</td>\n",
              "      <td>-1</td>\n",
              "    </tr>\n",
              "  </tbody>\n",
              "</table>\n",
              "</div>"
            ],
            "text/plain": [
              "         Date  Decimal Date  Average  Interpolated   Trend  Number of Days\n",
              "0  1958-03-01      1958.208   315.71        315.71  314.62              -1\n",
              "1  1958-04-01      1958.292   317.45        317.45  315.29              -1\n",
              "2  1958-05-01      1958.375   317.50        317.50  314.71              -1\n",
              "3  1958-06-01      1958.458   -99.99        317.10  314.85              -1\n",
              "4  1958-07-01      1958.542   315.86        315.86  314.98              -1"
            ]
          },
          "metadata": {
            "tags": []
          },
          "execution_count": 497
        }
      ]
    },
    {
      "cell_type": "code",
      "metadata": {
        "id": "kV5uRdpb74BJ",
        "colab_type": "code",
        "colab": {
          "base_uri": "https://localhost:8080/"
        },
        "outputId": "ecfc888b-d94b-4972-c0c9-76c537b6047e"
      },
      "source": [
        "# Primer parrte del ejercicio\n",
        "x = co2['Decimal Date']\n",
        "y = co2.Interpolated\n",
        "\n",
        "plt.plot(x , y)"
      ],
      "execution_count": null,
      "outputs": [
        {
          "output_type": "execute_result",
          "data": {
            "text/plain": [
              "[<matplotlib.lines.Line2D at 0x7faaf6c88550>]"
            ]
          },
          "metadata": {
            "tags": []
          },
          "execution_count": 498
        },
        {
          "output_type": "display_data",
          "data": {
            "image/png": "[encoded data removed]",
            "text/plain": [
              "<Figure size 432x288 with 1 Axes>"
            ]
          },
          "metadata": {
            "tags": [],
            "needs_background": "light"
          }
        }
      ]
    },
    {
      "cell_type": "code",
      "metadata": {
        "id": "TD2uCTaL8dvI",
        "colab_type": "code",
        "colab": {
          "base_uri": "https://localhost:8080/"
        },
        "outputId": "1690f6f6-ad21-43e0-e180-d8355e35f9ac"
      },
      "source": [
        "# Segunda parte\n",
        "x = co2['Decimal Date']\n",
        "y = co2.Trend\n",
        "\n",
        "plt.plot(x,y)"
      ],
      "execution_count": null,
      "outputs": [
        {
          "output_type": "execute_result",
          "data": {
            "text/plain": [
              "[<matplotlib.lines.Line2D at 0x7faaf6bc8e48>]"
            ]
          },
          "metadata": {
            "tags": []
          },
          "execution_count": 499
        },
        {
          "output_type": "display_data",
          "data": {
            "image/png": "[encoded data removed]",
            "text/plain": [
              "<Figure size 432x288 with 1 Axes>"
            ]
          },
          "metadata": {
            "tags": [],
            "needs_background": "light"
          }
        }
      ]
    },
    {
      "cell_type": "markdown",
      "metadata": {
        "id": "bAlltkc8zhuj",
        "colab_type": "text"
      },
      "source": [
        "### 3. Gráficos de Barras"
      ]
    },
    {
      "cell_type": "code",
      "metadata": {
        "id": "5LV2Nku9zqST",
        "colab_type": "code",
        "colab": {
          "base_uri": "https://localhost:8080/"
        },
        "outputId": "d7b4b193-1c00-4a90-e5e0-b6d285b5db1a"
      },
      "source": [
        "# Importar pandas y matplotlib\n",
        "import matplotlib.pyplot as plt\n",
        "import pandas as pd\n",
        "\n",
        "#Leer el dataframe salaries.csv\n",
        "df = pd.read_csv(\"https://raw.githubusercontent.com/ulises1229/INTRO-PYTHON-ENESJ/master/data/salaries.csv\")\n",
        "df.head()"
      ],
      "execution_count": null,
      "outputs": [
        {
          "output_type": "execute_result",
          "data": {
            "text/html": [
              "<div>\n",
              "<style scoped>\n",
              "    .dataframe tbody tr th:only-of-type {\n",
              "        vertical-align: middle;\n",
              "    }\n",
              "\n",
              "    .dataframe tbody tr th {\n",
              "        vertical-align: top;\n",
              "    }\n",
              "\n",
              "    .dataframe thead th {\n",
              "        text-align: right;\n",
              "    }\n",
              "</style>\n",
              "<table border=\"1\" class=\"dataframe\">\n",
              "  <thead>\n",
              "    <tr style=\"text-align: right;\">\n",
              "      <th></th>\n",
              "      <th>rank</th>\n",
              "      <th>discipline</th>\n",
              "      <th>phd</th>\n",
              "      <th>service</th>\n",
              "      <th>sex</th>\n",
              "      <th>salary</th>\n",
              "    </tr>\n",
              "  </thead>\n",
              "  <tbody>\n",
              "    <tr>\n",
              "      <th>0</th>\n",
              "      <td>Prof</td>\n",
              "      <td>B</td>\n",
              "      <td>56</td>\n",
              "      <td>49</td>\n",
              "      <td>Male</td>\n",
              "      <td>186960</td>\n",
              "    </tr>\n",
              "    <tr>\n",
              "      <th>1</th>\n",
              "      <td>Prof</td>\n",
              "      <td>A</td>\n",
              "      <td>12</td>\n",
              "      <td>6</td>\n",
              "      <td>Male</td>\n",
              "      <td>93000</td>\n",
              "    </tr>\n",
              "    <tr>\n",
              "      <th>2</th>\n",
              "      <td>Prof</td>\n",
              "      <td>A</td>\n",
              "      <td>23</td>\n",
              "      <td>20</td>\n",
              "      <td>Male</td>\n",
              "      <td>110515</td>\n",
              "    </tr>\n",
              "    <tr>\n",
              "      <th>3</th>\n",
              "      <td>Prof</td>\n",
              "      <td>A</td>\n",
              "      <td>40</td>\n",
              "      <td>31</td>\n",
              "      <td>Male</td>\n",
              "      <td>131205</td>\n",
              "    </tr>\n",
              "    <tr>\n",
              "      <th>4</th>\n",
              "      <td>Prof</td>\n",
              "      <td>B</td>\n",
              "      <td>20</td>\n",
              "      <td>18</td>\n",
              "      <td>Male</td>\n",
              "      <td>104800</td>\n",
              "    </tr>\n",
              "  </tbody>\n",
              "</table>\n",
              "</div>"
            ],
            "text/plain": [
              "   rank discipline  phd  service   sex  salary\n",
              "0  Prof          B   56       49  Male  186960\n",
              "1  Prof          A   12        6  Male   93000\n",
              "2  Prof          A   23       20  Male  110515\n",
              "3  Prof          A   40       31  Male  131205\n",
              "4  Prof          B   20       18  Male  104800"
            ]
          },
          "metadata": {
            "tags": []
          },
          "execution_count": 500
        }
      ]
    },
    {
      "cell_type": "code",
      "metadata": {
        "id": "zE4Y0IM09NTJ",
        "colab_type": "code",
        "colab": {
          "base_uri": "https://localhost:8080/"
        },
        "outputId": "ea5ce9cf-06c9-4f1f-b587-aa41d0d6fcdc"
      },
      "source": [
        "# Recuperar rank y salario\n",
        "rank = df['rank']\n",
        "sueldo = df.salary\n",
        "\n",
        "# Generar una gráfica de barras\n",
        "plt.bar(rank, sueldo)\n",
        "\n",
        "# Agregar títulos\n",
        "plt.title(\"Posición de en profesor en relación a su salario\")\n",
        "plt.xlabel(\"Posición\")\n",
        "plt.ylabel(\"Salario Anual (USD)\")\n",
        "\n",
        "plt.savefig(\"salario.tiff\", dpi=300, quality = 95, bbox_inches='tight')"
      ],
      "execution_count": null,
      "outputs": [
        {
          "output_type": "display_data",
          "data": {
            "image/png": "[encoded data removed]",
            "text/plain": [
              "<Figure size 432x288 with 1 Axes>"
            ]
          },
          "metadata": {
            "tags": [],
            "needs_background": "light"
          }
        }
      ]
    },
    {
      "cell_type": "markdown",
      "metadata": {
        "id": "3h5IcosC4JOj",
        "colab_type": "text"
      },
      "source": [
        "### Ejercicio 4\n",
        "Emplear el dataframe salaries.csv \n",
        "\n",
        "Está en el repositorio de GitHub\n",
        "\n",
        "1. Se deberá generar un gráfico de barras comparando el salario por sexo."
      ]
    },
    {
      "cell_type": "code",
      "metadata": {
        "id": "SUlFcwUx4IVd",
        "colab_type": "code",
        "colab": {}
      },
      "source": [
        "# Código aquí"
      ],
      "execution_count": null,
      "outputs": []
    },
    {
      "cell_type": "markdown",
      "metadata": {
        "id": "tMEiUsrB492m",
        "colab_type": "text"
      },
      "source": [
        "## 4. Box Plots"
      ]
    },
    {
      "cell_type": "code",
      "metadata": {
        "id": "XE1nx-2Z5ErB",
        "colab_type": "code",
        "colab": {
          "base_uri": "https://localhost:8080/"
        },
        "outputId": "762a9940-b926-4cd1-fd2a-b63051cb0e32"
      },
      "source": [
        "# Importar pandas y matplotlib\n",
        "import matplotlib.pyplot as plt\n",
        "import pandas as pd\n",
        "\n",
        "# importar ma\n",
        "\n",
        "#Leer el dataframe salaries.csv\n",
        "mpg = pd.read_csv(\"https://raw.githubusercontent.com/ulises1229/INTRO-PYTHON-ENESJ/master/data/mpg.csv\")\n",
        "\n",
        "x = 1\n",
        "plt.boxplot(mpg.hwy, notch = True, bootstrap =  len(mpg.hwy))\n",
        "# Agregar títulos\n",
        "plt.title(\"Consumo en autopista de todos los automóviles\")\n",
        "plt.xlabel(\"Número de Cilindros\")\n",
        "plt.ylabel(\"Consumo en autopista (mpg)\")\n",
        "\n",
        "# exportar imágen\n",
        "plt.savefig(\"mpg.tiff\", dpi=300, quality = 95, bbox_inches='tight')"
      ],
      "execution_count": null,
      "outputs": [
        {
          "output_type": "display_data",
          "data": {
            "image/png": "[encoded data removed]",
            "text/plain": [
              "<Figure size 432x288 with 1 Axes>"
            ]
          },
          "metadata": {
            "tags": [],
            "needs_background": "light"
          }
        }
      ]
    },
    {
      "cell_type": "markdown",
      "metadata": {
        "id": "ysHVGVZtBa8D",
        "colab_type": "text"
      },
      "source": [
        "# Matemáticas Simbólicas\n",
        "+ Álgebra\n",
        "+ Cálculo\n",
        "+ Ecuaciones"
      ]
    },
    {
      "cell_type": "code",
      "metadata": {
        "id": "gGxNunL9Bv0S",
        "colab_type": "code",
        "colab": {}
      },
      "source": [
        "# Importar la librería Sympy\n",
        "from sympy import *\n",
        "\n",
        "# importar una variable simbólica (x)\n",
        "from sympy.abc import x\n",
        "\n",
        "# Habilitar impresión avanzada \n",
        "init_printing(use_latex='mathjax')\n",
        "\n",
        "# Lo anterior es equivalente a: \n",
        "x = Symbol('x') \n",
        "\n",
        "# también se puede definir como:\n",
        "x, y = symbols('x y')\n"
      ],
      "execution_count": null,
      "outputs": []
    },
    {
      "cell_type": "markdown",
      "metadata": {
        "id": "zKhqz4COHtZH",
        "colab_type": "text"
      },
      "source": [
        "#### Operaciones Básicas\n",
        " "
      ]
    },
    {
      "cell_type": "code",
      "metadata": {
        "id": "x8TxNWZ6ENVR",
        "colab_type": "code",
        "colab": {
          "base_uri": "https://localhost:8080/"
        },
        "outputId": "e1782386-d9e9-41cf-b2de-5df21c464aa8"
      },
      "source": [
        "# Definir una expresión simple\n",
        "a = 2*x**2 + y \n",
        "print(a)\n",
        "display(a)\n"
      ],
      "execution_count": null,
      "outputs": [
        {
          "output_type": "stream",
          "text": [
            "2*x**2 + y\n"
          ],
          "name": "stdout"
        },
        {
          "output_type": "display_data",
          "data": {
            "text/latex": "$$2 x^{2} + y$$",
            "text/plain": [
              "   2    \n",
              "2⋅x  + y"
            ]
          },
          "metadata": {
            "tags": []
          }
        }
      ]
    },
    {
      "cell_type": "code",
      "metadata": {
        "id": "askGtDUqD4IQ",
        "colab_type": "code",
        "colab": {
          "base_uri": "https://localhost:8080/"
        },
        "outputId": "13d33d01-0c03-4862-edef-f4543e59916e"
      },
      "source": [
        "# Operaciones simples con expresiones\n",
        "display(a + y)\n",
        "display(a**2 )"
      ],
      "execution_count": null,
      "outputs": [
        {
          "output_type": "display_data",
          "data": {
            "text/latex": "$$2 x^{2} + 2 y$$",
            "text/plain": [
              "   2      \n",
              "2⋅x  + 2⋅y"
            ]
          },
          "metadata": {
            "tags": []
          }
        },
        {
          "output_type": "display_data",
          "data": {
            "text/latex": "$$\\left(2 x^{2} + y\\right)^{2}$$",
            "text/plain": [
              "          2\n",
              "⎛   2    ⎞ \n",
              "⎝2⋅x  + y⎠ "
            ]
          },
          "metadata": {
            "tags": []
          }
        }
      ]
    },
    {
      "cell_type": "code",
      "metadata": {
        "id": "s7UtQmzQEBCH",
        "colab_type": "code",
        "colab": {
          "base_uri": "https://localhost:8080/"
        },
        "outputId": "7bed2b48-72b3-42fd-f831-19aa2e6b10c0"
      },
      "source": [
        "# Expandir una expresión\n",
        "expand(a**3)"
      ],
      "execution_count": null,
      "outputs": [
        {
          "output_type": "execute_result",
          "data": {
            "text/latex": "$$8 x^{6} + 12 x^{4} y + 6 x^{2} y^{2} + y^{3}$$",
            "text/plain": [
              "   6       4        2  2    3\n",
              "8⋅x  + 12⋅x ⋅y + 6⋅x ⋅y  + y "
            ]
          },
          "metadata": {
            "tags": []
          },
          "execution_count": 507
        }
      ]
    },
    {
      "cell_type": "code",
      "metadata": {
        "id": "chCoYT2nFp7M",
        "colab_type": "code",
        "colab": {
          "base_uri": "https://localhost:8080/"
        },
        "outputId": "8f8e89d1-eec5-4fa5-a6fd-98a1ae0bde85"
      },
      "source": [
        "# Factorización\n",
        "b = x**3 + 3*x**2 +3*x + 1\n",
        "display(\"Expresión: \", b)\n",
        "display(\"Factorización\",factor(b) )"
      ],
      "execution_count": null,
      "outputs": [
        {
          "output_type": "display_data",
          "data": {
            "application/vnd.google.colaboratory.intrinsic+json": {
              "type": "string"
            },
            "text/plain": [
              "'Expresión: '"
            ]
          },
          "metadata": {
            "tags": []
          }
        },
        {
          "output_type": "display_data",
          "data": {
            "text/latex": "$$x^{3} + 3 x^{2} + 3 x + 1$$",
            "text/plain": [
              " 3      2          \n",
              "x  + 3⋅x  + 3⋅x + 1"
            ]
          },
          "metadata": {
            "tags": []
          }
        },
        {
          "output_type": "display_data",
          "data": {
            "application/vnd.google.colaboratory.intrinsic+json": {
              "type": "string"
            },
            "text/plain": [
              "'Factorización'"
            ]
          },
          "metadata": {
            "tags": []
          }
        },
        {
          "output_type": "display_data",
          "data": {
            "text/latex": "$$\\left(x + 1\\right)^{3}$$",
            "text/plain": [
              "       3\n",
              "(x + 1) "
            ]
          },
          "metadata": {
            "tags": []
          }
        }
      ]
    },
    {
      "cell_type": "code",
      "metadata": {
        "id": "26q2om-8F82h",
        "colab_type": "code",
        "colab": {
          "base_uri": "https://localhost:8080/"
        },
        "outputId": "cb37da91-7de3-42f3-c85f-e830f862ffdb"
      },
      "source": [
        "# Simplificación de expresiones\n",
        "# Definir dos expresiones\n",
        "exp1 = x**2 - y**2\n",
        "exp2 = (x+y)*(x-y)\n",
        "\n",
        "# \n",
        "display(\"Primer expresión: \",exp1)\n",
        "display(\"Segunda expresión: \",exp2)\n",
        "display(\"Simplificación: \", simplify(exp1 - exp2))\n"
      ],
      "execution_count": null,
      "outputs": [
        {
          "output_type": "display_data",
          "data": {
            "application/vnd.google.colaboratory.intrinsic+json": {
              "type": "string"
            },
            "text/plain": [
              "'Primer expresión: '"
            ]
          },
          "metadata": {
            "tags": []
          }
        },
        {
          "output_type": "display_data",
          "data": {
            "text/latex": "$$x^{2} - y^{2}$$",
            "text/plain": [
              " 2    2\n",
              "x  - y "
            ]
          },
          "metadata": {
            "tags": []
          }
        },
        {
          "output_type": "display_data",
          "data": {
            "application/vnd.google.colaboratory.intrinsic+json": {
              "type": "string"
            },
            "text/plain": [
              "'Segunda expresión: '"
            ]
          },
          "metadata": {
            "tags": []
          }
        },
        {
          "output_type": "display_data",
          "data": {
            "text/latex": "$$\\left(x - y\\right) \\left(x + y\\right)$$",
            "text/plain": [
              "(x - y)⋅(x + y)"
            ]
          },
          "metadata": {
            "tags": []
          }
        },
        {
          "output_type": "display_data",
          "data": {
            "application/vnd.google.colaboratory.intrinsic+json": {
              "type": "string"
            },
            "text/plain": [
              "'Simplificación: '"
            ]
          },
          "metadata": {
            "tags": []
          }
        },
        {
          "output_type": "display_data",
          "data": {
            "text/latex": "$$0$$",
            "text/plain": [
              "0"
            ]
          },
          "metadata": {
            "tags": []
          }
        }
      ]
    },
    {
      "cell_type": "markdown",
      "metadata": {
        "id": "EHPDnVszHz--",
        "colab_type": "text"
      },
      "source": [
        "#### Sustituciones"
      ]
    },
    {
      "cell_type": "code",
      "metadata": {
        "id": "RWOtgB0rH4s4",
        "colab_type": "code",
        "colab": {
          "base_uri": "https://localhost:8080/"
        },
        "outputId": "02a0abab-61b5-4541-fd07-f4a8870ce633"
      },
      "source": [
        "# Definir una expresión simple y realizar sustituciones\n",
        "import numpy as np\n",
        "\n",
        "expr = x**2\n",
        "\n",
        "x_a = np.arange(1, 101)\n",
        "y_a = np.arange(1, 101)\n",
        "\n",
        "for i in range(len(x_a)):\n",
        "  y_a[i] = expr.subs(x,x_a[i])\n",
        "\n",
        "print(x_a)\n",
        "print(y_a)\n",
        "\n",
        "import matplotlib.pyplot as plt\n",
        "plt.plot(x_a, y_a)\n",
        "plt.show()\n",
        "\n",
        "display(\"Primer substitución x = y\", expr.subs(x, y))\n",
        "display(\"Segunda substitución x = 0\",expr.subs(x, 0))\n",
        "\n",
        "\n",
        "\n"
      ],
      "execution_count": null,
      "outputs": [
        {
          "output_type": "stream",
          "text": [
            "[  1   2   3   4   5   6   7   8   9  10  11  12  13  14  15  16  17  18\n",
            "  19  20  21  22  23  24  25  26  27  28  29  30  31  32  33  34  35  36\n",
            "  37  38  39  40  41  42  43  44  45  46  47  48  49  50  51  52  53  54\n",
            "  55  56  57  58  59  60  61  62  63  64  65  66  67  68  69  70  71  72\n",
            "  73  74  75  76  77  78  79  80  81  82  83  84  85  86  87  88  89  90\n",
            "  91  92  93  94  95  96  97  98  99 100]\n",
            "[    1     4     9    16    25    36    49    64    81   100   121   144\n",
            "   169   196   225   256   289   324   361   400   441   484   529   576\n",
            "   625   676   729   784   841   900   961  1024  1089  1156  1225  1296\n",
            "  1369  1444  1521  1600  1681  1764  1849  1936  2025  2116  2209  2304\n",
            "  2401  2500  2601  2704  2809  2916  3025  3136  3249  3364  3481  3600\n",
            "  3721  3844  3969  4096  4225  4356  4489  4624  4761  4900  5041  5184\n",
            "  5329  5476  5625  5776  5929  6084  6241  6400  6561  6724  6889  7056\n",
            "  7225  7396  7569  7744  7921  8100  8281  8464  8649  8836  9025  9216\n",
            "  9409  9604  9801 10000]\n"
          ],
          "name": "stdout"
        },
        {
          "output_type": "display_data",
          "data": {
            "image/png": "[encoded data removed]",
            "text/plain": [
              "<Figure size 432x288 with 1 Axes>"
            ]
          },
          "metadata": {
            "tags": [],
            "needs_background": "light"
          }
        },
        {
          "output_type": "display_data",
          "data": {
            "application/vnd.google.colaboratory.intrinsic+json": {
              "type": "string"
            },
            "text/plain": [
              "'Primer substitución x = y'"
            ]
          },
          "metadata": {
            "tags": []
          }
        },
        {
          "output_type": "display_data",
          "data": {
            "text/latex": "$$y^{2}$$",
            "text/plain": [
              " 2\n",
              "y "
            ]
          },
          "metadata": {
            "tags": []
          }
        },
        {
          "output_type": "display_data",
          "data": {
            "application/vnd.google.colaboratory.intrinsic+json": {
              "type": "string"
            },
            "text/plain": [
              "'Segunda substitución x = 0'"
            ]
          },
          "metadata": {
            "tags": []
          }
        },
        {
          "output_type": "display_data",
          "data": {
            "text/latex": "$$0$$",
            "text/plain": [
              "0"
            ]
          },
          "metadata": {
            "tags": []
          }
        }
      ]
    },
    {
      "cell_type": "code",
      "metadata": {
        "id": "-gdFX8R3Img5",
        "colab_type": "code",
        "colab": {
          "base_uri": "https://localhost:8080/"
        },
        "outputId": "05c8b5f2-b554-44d9-e2ae-04abc00f1d38"
      },
      "source": [
        "# Continuación sustituciones\n",
        "expr = x**y\n",
        "display(\"Expresión original\", expr)\n",
        "expr = expr.subs(y, x**y)\n",
        "display(\"Después de la sustitución\", expr)"
      ],
      "execution_count": null,
      "outputs": [
        {
          "output_type": "display_data",
          "data": {
            "application/vnd.google.colaboratory.intrinsic+json": {
              "type": "string"
            },
            "text/plain": [
              "'Expresión original'"
            ]
          },
          "metadata": {
            "tags": []
          }
        },
        {
          "output_type": "display_data",
          "data": {
            "text/latex": "$$x^{y}$$",
            "text/plain": [
              " y\n",
              "x "
            ]
          },
          "metadata": {
            "tags": []
          }
        },
        {
          "output_type": "display_data",
          "data": {
            "application/vnd.google.colaboratory.intrinsic+json": {
              "type": "string"
            },
            "text/plain": [
              "'Después de la sustitución'"
            ]
          },
          "metadata": {
            "tags": []
          }
        },
        {
          "output_type": "display_data",
          "data": {
            "text/latex": "$$x^{x^{y}}$$",
            "text/plain": [
              " ⎛ y⎞\n",
              " ⎝x ⎠\n",
              "x    "
            ]
          },
          "metadata": {
            "tags": []
          }
        }
      ]
    },
    {
      "cell_type": "markdown",
      "metadata": {
        "id": "272FCz0fJrbi",
        "colab_type": "text"
      },
      "source": [
        "#### Funciones trigonométricas\n"
      ]
    },
    {
      "cell_type": "code",
      "metadata": {
        "id": "Lgb5NkuKJ1yc",
        "colab_type": "code",
        "colab": {
          "base_uri": "https://localhost:8080/"
        },
        "outputId": "3daacab5-c8ff-452c-f5da-d4d881f9c645"
      },
      "source": [
        "# Definición de una expresión trig.\n",
        "trigx = sin(2*x) + cos(2*x)\n",
        "\n",
        "# Expansión utilizando identidades\n",
        "display(\"Expansión \", expand_trig(trigx))"
      ],
      "execution_count": null,
      "outputs": [
        {
          "output_type": "display_data",
          "data": {
            "application/vnd.google.colaboratory.intrinsic+json": {
              "type": "string"
            },
            "text/plain": [
              "'Expansión '"
            ]
          },
          "metadata": {
            "tags": []
          }
        },
        {
          "output_type": "display_data",
          "data": {
            "text/latex": "$$2 \\sin{\\left (x \\right )} \\cos{\\left (x \\right )} + 2 \\cos^{2}{\\left (x \\right )} - 1$$",
            "text/plain": [
              "                       2       \n",
              "2⋅sin(x)⋅cos(x) + 2⋅cos (x) - 1"
            ]
          },
          "metadata": {
            "tags": []
          }
        }
      ]
    },
    {
      "cell_type": "code",
      "metadata": {
        "id": "Ozh4e0e7KaOA",
        "colab_type": "code",
        "colab": {
          "base_uri": "https://localhost:8080/"
        },
        "outputId": "21a558d0-58d9-414b-ea7a-4c5ff07be705"
      },
      "source": [
        "# Simplificación\n",
        "display(\"Simplificación \", trigsimp(cos(x)**2 + sin(x)**2))\n"
      ],
      "execution_count": null,
      "outputs": [
        {
          "output_type": "display_data",
          "data": {
            "application/vnd.google.colaboratory.intrinsic+json": {
              "type": "string"
            },
            "text/plain": [
              "'Simplificación '"
            ]
          },
          "metadata": {
            "tags": []
          }
        },
        {
          "output_type": "display_data",
          "data": {
            "text/latex": "$$1$$",
            "text/plain": [
              "1"
            ]
          },
          "metadata": {
            "tags": []
          }
        }
      ]
    },
    {
      "cell_type": "markdown",
      "metadata": {
        "id": "04CHqmBbLX1o",
        "colab_type": "text"
      },
      "source": [
        "\n",
        "#### Symplificación y Evaluación"
      ]
    },
    {
      "cell_type": "code",
      "metadata": {
        "id": "p1g7XZRXLc42",
        "colab_type": "code",
        "colab": {
          "base_uri": "https://localhost:8080/"
        },
        "outputId": "49621543-d46b-4854-860e-ef03771b4ef0"
      },
      "source": [
        "simplify('x**2 + 2*x +4')\n"
      ],
      "execution_count": null,
      "outputs": [
        {
          "output_type": "execute_result",
          "data": {
            "text/latex": "$$x^{2} + 2 x + 4$$",
            "text/plain": [
              " 2          \n",
              "x  + 2⋅x + 4"
            ]
          },
          "metadata": {
            "tags": []
          },
          "execution_count": 514
        }
      ]
    },
    {
      "cell_type": "code",
      "metadata": {
        "id": "y3MQt_jgMIvv",
        "colab_type": "code",
        "colab": {
          "base_uri": "https://localhost:8080/"
        },
        "outputId": "93b1d872-772e-44a8-9e1f-a7372dbc35b7"
      },
      "source": [
        "# Definición de una expresión\n",
        "expr = sqrt(8)\n",
        "\n",
        "# imprimir la expresión\n",
        "display(expr)\n",
        "\n",
        "# Imprimir la evaluación\n",
        "display(expr.evalf())\n",
        "\n",
        "# imprimir pi y hacer su evaluación\n",
        "display(\"Símbolo \", pi)\n",
        "display(\"Evaluación \", pi.evalf(100))"
      ],
      "execution_count": null,
      "outputs": [
        {
          "output_type": "display_data",
          "data": {
            "text/latex": "$$2 \\sqrt{2}$$",
            "text/plain": [
              "2⋅√2"
            ]
          },
          "metadata": {
            "tags": []
          }
        },
        {
          "output_type": "display_data",
          "data": {
            "text/latex": "$$2.82842712474619$$",
            "text/plain": [
              "2.82842712474619"
            ]
          },
          "metadata": {
            "tags": []
          }
        },
        {
          "output_type": "display_data",
          "data": {
            "application/vnd.google.colaboratory.intrinsic+json": {
              "type": "string"
            },
            "text/plain": [
              "'Símbolo '"
            ]
          },
          "metadata": {
            "tags": []
          }
        },
        {
          "output_type": "display_data",
          "data": {
            "text/latex": "$$\\pi$$",
            "text/plain": [
              "π"
            ]
          },
          "metadata": {
            "tags": []
          }
        },
        {
          "output_type": "display_data",
          "data": {
            "application/vnd.google.colaboratory.intrinsic+json": {
              "type": "string"
            },
            "text/plain": [
              "'Evaluación '"
            ]
          },
          "metadata": {
            "tags": []
          }
        },
        {
          "output_type": "display_data",
          "data": {
            "text/latex": "$$3.141592653589793238462643383279502884197169399375105820974944592307816406286208998628034825342117068$$",
            "text/plain": [
              "3.1415926535897932384626433832795028841971693993751058209749445923078164062862\n",
              "08998628034825342117068"
            ]
          },
          "metadata": {
            "tags": []
          }
        }
      ]
    },
    {
      "cell_type": "code",
      "metadata": {
        "id": "JhaiG9ZHI_wu",
        "colab_type": "code",
        "colab": {
          "base_uri": "https://localhost:8080/"
        },
        "outputId": "89807caa-0d2d-4d6c-8eeb-1f22f2e0ccca"
      },
      "source": [
        " # Más simplificaciones\n",
        "display(\"\",simplify((x**3 + x**2 -x -1)/(x**2 +2*x +1)))\n",
        "display(\"\",simplify((x**4 - 1)/(x - 1)))\n",
        "display(\"\",simplify((x**4 - 1)/(x**2 - 1)))\n",
        "display(\"\",expand((x+2*y)**3))\n",
        "display(\"\",cancel((x**4 - 1)/(x - 1)))\n",
        "display(\"\",cancel((x**2 + 2* x + 1)/(x**2 - 1)))\n"
      ],
      "execution_count": null,
      "outputs": [
        {
          "output_type": "display_data",
          "data": {
            "application/vnd.google.colaboratory.intrinsic+json": {
              "type": "string"
            },
            "text/plain": [
              "''"
            ]
          },
          "metadata": {
            "tags": []
          }
        },
        {
          "output_type": "display_data",
          "data": {
            "text/latex": "$$x - 1$$",
            "text/plain": [
              "x - 1"
            ]
          },
          "metadata": {
            "tags": []
          }
        },
        {
          "output_type": "display_data",
          "data": {
            "application/vnd.google.colaboratory.intrinsic+json": {
              "type": "string"
            },
            "text/plain": [
              "''"
            ]
          },
          "metadata": {
            "tags": []
          }
        },
        {
          "output_type": "display_data",
          "data": {
            "text/latex": "$$\\frac{x^{4} - 1}{x - 1}$$",
            "text/plain": [
              " 4    \n",
              "x  - 1\n",
              "──────\n",
              "x - 1 "
            ]
          },
          "metadata": {
            "tags": []
          }
        },
        {
          "output_type": "display_data",
          "data": {
            "application/vnd.google.colaboratory.intrinsic+json": {
              "type": "string"
            },
            "text/plain": [
              "''"
            ]
          },
          "metadata": {
            "tags": []
          }
        },
        {
          "output_type": "display_data",
          "data": {
            "text/latex": "$$x^{2} + 1$$",
            "text/plain": [
              " 2    \n",
              "x  + 1"
            ]
          },
          "metadata": {
            "tags": []
          }
        },
        {
          "output_type": "display_data",
          "data": {
            "application/vnd.google.colaboratory.intrinsic+json": {
              "type": "string"
            },
            "text/plain": [
              "''"
            ]
          },
          "metadata": {
            "tags": []
          }
        },
        {
          "output_type": "display_data",
          "data": {
            "text/latex": "$$x^{3} + 6 x^{2} y + 12 x y^{2} + 8 y^{3}$$",
            "text/plain": [
              " 3      2           2      3\n",
              "x  + 6⋅x ⋅y + 12⋅x⋅y  + 8⋅y "
            ]
          },
          "metadata": {
            "tags": []
          }
        },
        {
          "output_type": "display_data",
          "data": {
            "application/vnd.google.colaboratory.intrinsic+json": {
              "type": "string"
            },
            "text/plain": [
              "''"
            ]
          },
          "metadata": {
            "tags": []
          }
        },
        {
          "output_type": "display_data",
          "data": {
            "text/latex": "$$x^{3} + x^{2} + x + 1$$",
            "text/plain": [
              " 3    2        \n",
              "x  + x  + x + 1"
            ]
          },
          "metadata": {
            "tags": []
          }
        },
        {
          "output_type": "display_data",
          "data": {
            "application/vnd.google.colaboratory.intrinsic+json": {
              "type": "string"
            },
            "text/plain": [
              "''"
            ]
          },
          "metadata": {
            "tags": []
          }
        },
        {
          "output_type": "display_data",
          "data": {
            "text/latex": "$$\\frac{x + 1}{x - 1}$$",
            "text/plain": [
              "x + 1\n",
              "─────\n",
              "x - 1"
            ]
          },
          "metadata": {
            "tags": []
          }
        }
      ]
    },
    {
      "cell_type": "markdown",
      "metadata": {
        "id": "mkBDCIbOKVa2",
        "colab_type": "text"
      },
      "source": [
        "# Potenciación"
      ]
    },
    {
      "cell_type": "code",
      "metadata": {
        "id": "eTVn6BoXKbWA",
        "colab_type": "code",
        "colab": {
          "base_uri": "https://localhost:8080/",
          "height": 57
        },
        "outputId": "df72e321-f07f-4664-d1d7-ab3c275ea26c"
      },
      "source": [
        "# Diferencia entre ambas potenciaciones\n",
        "xp,yp = symbols('x y',positive=True)\n",
        "a,b = symbols('a b', real=True)\n",
        "display(powsimp(x**a * y**a))\n",
        "display(powsimp(xp**a * yp**a))\n"
      ],
      "execution_count": null,
      "outputs": [
        {
          "output_type": "display_data",
          "data": {
            "text/latex": "$$x^{a} y^{a}$$",
            "text/plain": [
              " a  a\n",
              "x ⋅y "
            ]
          },
          "metadata": {
            "tags": []
          }
        },
        {
          "output_type": "display_data",
          "data": {
            "text/latex": "$$\\left(x y\\right)^{a}$$",
            "text/plain": [
              "     a\n",
              "(x⋅y) "
            ]
          },
          "metadata": {
            "tags": []
          }
        }
      ]
    },
    {
      "cell_type": "markdown",
      "metadata": {
        "id": "aLXVlqCfLT0v",
        "colab_type": "text"
      },
      "source": [
        "Exponenciales y logaritmos\n"
      ]
    },
    {
      "cell_type": "code",
      "metadata": {
        "id": "E7Qd8udILfLI",
        "colab_type": "code",
        "colab": {
          "base_uri": "https://localhost:8080/",
          "height": 222
        },
        "outputId": "6c54efb7-8140-495a-f04f-3c1e746ef621"
      },
      "source": [
        "# Definición de un nuevo símbolo\n",
        "n = Symbol('n')\n",
        "\n",
        "# Logaritmos\n",
        "display('',ln(x))\n",
        "display('',expand_log(log(x*y)))\n",
        "display('',expand_log(log(x/y)))\n",
        "display('',expand_log(log(x**2)))\n",
        "display('',expand_log(log(x**n)))\n"
      ],
      "execution_count": null,
      "outputs": [
        {
          "output_type": "display_data",
          "data": {
            "application/vnd.google.colaboratory.intrinsic+json": {
              "type": "string"
            },
            "text/plain": [
              "''"
            ]
          },
          "metadata": {
            "tags": []
          }
        },
        {
          "output_type": "display_data",
          "data": {
            "text/latex": "$$\\log{\\left (x \\right )}$$",
            "text/plain": [
              "log(x)"
            ]
          },
          "metadata": {
            "tags": []
          }
        },
        {
          "output_type": "display_data",
          "data": {
            "application/vnd.google.colaboratory.intrinsic+json": {
              "type": "string"
            },
            "text/plain": [
              "''"
            ]
          },
          "metadata": {
            "tags": []
          }
        },
        {
          "output_type": "display_data",
          "data": {
            "text/latex": "$$\\log{\\left (x y \\right )}$$",
            "text/plain": [
              "log(x⋅y)"
            ]
          },
          "metadata": {
            "tags": []
          }
        },
        {
          "output_type": "display_data",
          "data": {
            "application/vnd.google.colaboratory.intrinsic+json": {
              "type": "string"
            },
            "text/plain": [
              "''"
            ]
          },
          "metadata": {
            "tags": []
          }
        },
        {
          "output_type": "display_data",
          "data": {
            "text/latex": "$$\\log{\\left (\\frac{x}{y} \\right )}$$",
            "text/plain": [
              "   ⎛x⎞\n",
              "log⎜─⎟\n",
              "   ⎝y⎠"
            ]
          },
          "metadata": {
            "tags": []
          }
        },
        {
          "output_type": "display_data",
          "data": {
            "application/vnd.google.colaboratory.intrinsic+json": {
              "type": "string"
            },
            "text/plain": [
              "''"
            ]
          },
          "metadata": {
            "tags": []
          }
        },
        {
          "output_type": "display_data",
          "data": {
            "text/latex": "$$\\log{\\left (x^{2} \\right )}$$",
            "text/plain": [
              "   ⎛ 2⎞\n",
              "log⎝x ⎠"
            ]
          },
          "metadata": {
            "tags": []
          }
        },
        {
          "output_type": "display_data",
          "data": {
            "application/vnd.google.colaboratory.intrinsic+json": {
              "type": "string"
            },
            "text/plain": [
              "''"
            ]
          },
          "metadata": {
            "tags": []
          }
        },
        {
          "output_type": "display_data",
          "data": {
            "text/latex": "$$\\log{\\left (x^{n} \\right )}$$",
            "text/plain": [
              "   ⎛ n⎞\n",
              "log⎝x ⎠"
            ]
          },
          "metadata": {
            "tags": []
          }
        }
      ]
    },
    {
      "cell_type": "markdown",
      "metadata": {
        "id": "gjGTEG98M6F6",
        "colab_type": "text"
      },
      "source": [
        "### Calclulo\n",
        "+ Diferenciación\n",
        "+ Derivación \n",
        "+ Límites"
      ]
    },
    {
      "cell_type": "code",
      "metadata": {
        "id": "2t01XVjFM_7r",
        "colab_type": "code",
        "colab": {
          "base_uri": "https://localhost:8080/"
        },
        "outputId": "dea33217-2c38-4264-c135-30533b5a53a2"
      },
      "source": [
        "#Diferenciación\n",
        "# definiendo una función\n",
        "f = x**3 + 2*x**2 + 3*x + 5 \n",
        "display(\"Función: \" ,f)\n",
        "\n",
        "# Calculando primer derivada\n",
        "derivada1 = diff(f, x)\n",
        "display(\"1er Derivada: \", derivada1)\n",
        "\n",
        "# Calculando segunda derivada\n",
        "derivada2 = diff(derivada1, x)\n",
        "display(\"2da Derivada: \", derivada2)"
      ],
      "execution_count": null,
      "outputs": [
        {
          "output_type": "display_data",
          "data": {
            "application/vnd.google.colaboratory.intrinsic+json": {
              "type": "string"
            },
            "text/plain": [
              "'Función: '"
            ]
          },
          "metadata": {
            "tags": []
          }
        },
        {
          "output_type": "display_data",
          "data": {
            "text/latex": "$$x^{3} + 2 x^{2} + 3 x + 5$$",
            "text/plain": [
              " 3      2          \n",
              "x  + 2⋅x  + 3⋅x + 5"
            ]
          },
          "metadata": {
            "tags": []
          }
        },
        {
          "output_type": "display_data",
          "data": {
            "application/vnd.google.colaboratory.intrinsic+json": {
              "type": "string"
            },
            "text/plain": [
              "'1er Derivada: '"
            ]
          },
          "metadata": {
            "tags": []
          }
        },
        {
          "output_type": "display_data",
          "data": {
            "text/latex": "$$3 x^{2} + 4 x + 3$$",
            "text/plain": [
              "   2          \n",
              "3⋅x  + 4⋅x + 3"
            ]
          },
          "metadata": {
            "tags": []
          }
        },
        {
          "output_type": "display_data",
          "data": {
            "application/vnd.google.colaboratory.intrinsic+json": {
              "type": "string"
            },
            "text/plain": [
              "'2da Derivada: '"
            ]
          },
          "metadata": {
            "tags": []
          }
        },
        {
          "output_type": "display_data",
          "data": {
            "text/latex": "$$6 x + 4$$",
            "text/plain": [
              "6⋅x + 4"
            ]
          },
          "metadata": {
            "tags": []
          }
        }
      ]
    },
    {
      "cell_type": "code",
      "metadata": {
        "id": "rTooyTZBOHTL",
        "colab_type": "code",
        "colab": {
          "base_uri": "https://localhost:8080/"
        },
        "outputId": "4c9b27a0-0c2f-4884-e4f3-4d3e493e913e"
      },
      "source": [
        "#Integración\n",
        "# definiendo una función\n",
        "f = x**3 + 2*x**2 + 3*x + 5 \n",
        "display(\"Función: \" ,f)\n",
        "\n",
        "# Intervalos de evaluación\n",
        "a = 1\n",
        "b = 5\n",
        "\n",
        "# Imprimir la integral\n",
        "display(\"\",Integral(f,(x,a,b)))\n",
        "\n",
        "# Imprimir la evaluación\n",
        "display(\"\",integrate(f,(x,a,b)))"
      ],
      "execution_count": null,
      "outputs": [
        {
          "output_type": "display_data",
          "data": {
            "application/vnd.google.colaboratory.intrinsic+json": {
              "type": "string"
            },
            "text/plain": [
              "'Función: '"
            ]
          },
          "metadata": {
            "tags": []
          }
        },
        {
          "output_type": "display_data",
          "data": {
            "text/latex": "$$x^{3} + 2 x^{2} + 3 x + 5$$",
            "text/plain": [
              " 3      2          \n",
              "x  + 2⋅x  + 3⋅x + 5"
            ]
          },
          "metadata": {
            "tags": []
          }
        },
        {
          "output_type": "display_data",
          "data": {
            "application/vnd.google.colaboratory.intrinsic+json": {
              "type": "string"
            },
            "text/plain": [
              "''"
            ]
          },
          "metadata": {
            "tags": []
          }
        },
        {
          "output_type": "display_data",
          "data": {
            "text/latex": "$$\\int_{1}^{5} \\left(x^{3} + 2 x^{2} + 3 x + 5\\right)\\, dx$$",
            "text/plain": [
              "5                         \n",
              "⌠                         \n",
              "⎮ ⎛ 3      2          ⎞   \n",
              "⎮ ⎝x  + 2⋅x  + 3⋅x + 5⎠ dx\n",
              "⌡                         \n",
              "1                         "
            ]
          },
          "metadata": {
            "tags": []
          }
        },
        {
          "output_type": "display_data",
          "data": {
            "application/vnd.google.colaboratory.intrinsic+json": {
              "type": "string"
            },
            "text/plain": [
              "''"
            ]
          },
          "metadata": {
            "tags": []
          }
        },
        {
          "output_type": "display_data",
          "data": {
            "text/latex": "$$\\frac{884}{3}$$",
            "text/plain": [
              "884/3"
            ]
          },
          "metadata": {
            "tags": []
          }
        }
      ]
    },
    {
      "cell_type": "code",
      "metadata": {
        "id": "fe8C7wMLPI_U",
        "colab_type": "code",
        "colab": {
          "base_uri": "https://localhost:8080/"
        },
        "outputId": "aac35cd0-fe7c-4987-8d48-e83e0deba7c5"
      },
      "source": [
        "# Límites\n",
        "# definiendo una función\n",
        "f = x**3 + 2*x**2 + 3*x + 5 \n",
        "display(\"Función: \" ,f)\n",
        "\n",
        "# Evaluación del límite cuando x –> inf\n",
        "display(\"Límite\", limit(f, x, 2))"
      ],
      "execution_count": null,
      "outputs": [
        {
          "output_type": "display_data",
          "data": {
            "application/vnd.google.colaboratory.intrinsic+json": {
              "type": "string"
            },
            "text/plain": [
              "'Función: '"
            ]
          },
          "metadata": {
            "tags": []
          }
        },
        {
          "output_type": "display_data",
          "data": {
            "text/latex": "$$x^{3} + 2 x^{2} + 3 x + 5$$",
            "text/plain": [
              " 3      2          \n",
              "x  + 2⋅x  + 3⋅x + 5"
            ]
          },
          "metadata": {
            "tags": []
          }
        },
        {
          "output_type": "display_data",
          "data": {
            "application/vnd.google.colaboratory.intrinsic+json": {
              "type": "string"
            },
            "text/plain": [
              "'Límite'"
            ]
          },
          "metadata": {
            "tags": []
          }
        },
        {
          "output_type": "display_data",
          "data": {
            "text/latex": "$$27$$",
            "text/plain": [
              "27"
            ]
          },
          "metadata": {
            "tags": []
          }
        }
      ]
    },
    {
      "cell_type": "code",
      "metadata": {
        "id": "2OvaCpimQdfP",
        "colab_type": "code",
        "colab": {
          "base_uri": "https://localhost:8080/"
        },
        "outputId": "853c5701-b9b5-4970-fbd5-37f883ecb7df"
      },
      "source": [
        "# Ecuaciones\n",
        "# definiendo una ecuación x**3 + 2*x**2 + 3*x + 5 = 0\n",
        "from sympy import *\n",
        "from sympy.abc  import x, y\n",
        "\n",
        "f = x + 2 \n",
        "\n",
        "display(\"Resolver eccuación \", solve(f, x))\n",
        "\n",
        "display(\"Raices reales de un polinomio\", roots(x**3 - 6*x**2 + 9*x,x))\n"
      ],
      "execution_count": null,
      "outputs": [
        {
          "output_type": "display_data",
          "data": {
            "application/vnd.google.colaboratory.intrinsic+json": {
              "type": "string"
            },
            "text/plain": [
              "'Resolver eccuación '"
            ]
          },
          "metadata": {
            "tags": []
          }
        },
        {
          "output_type": "display_data",
          "data": {
            "text/latex": "$$\\left [ -2\\right ]$$",
            "text/plain": [
              "[-2]"
            ]
          },
          "metadata": {
            "tags": []
          }
        },
        {
          "output_type": "display_data",
          "data": {
            "application/vnd.google.colaboratory.intrinsic+json": {
              "type": "string"
            },
            "text/plain": [
              "'Raices reales de un polinomio'"
            ]
          },
          "metadata": {
            "tags": []
          }
        },
        {
          "output_type": "display_data",
          "data": {
            "text/latex": "$$\\left \\{ 0 : 1, \\quad 3 : 2\\right \\}$$",
            "text/plain": [
              "{0: 1, 3: 2}"
            ]
          },
          "metadata": {
            "tags": []
          }
        }
      ]
    },
    {
      "cell_type": "markdown",
      "metadata": {
        "id": "061CtLMB_TV7",
        "colab_type": "text"
      },
      "source": [
        "## Ejercicio alternativo Día 4\n",
        "\n",
        "1. Se deberá generar  la gráfica siguiente función: ``2*x**2 - 11*x + 5. `` Sobre un intervalo ``[-100, 100]`` \n",
        "\n",
        "2. Se deberán calcular las raices de la función y se desplegarán en la gráfica utilizando un diagrama de dispersión(puntos).\n",
        "\n",
        "3. Se deberá asignar una `etiqueta``tanto para la gráfica de línea como para la gráfica de puntos.\n",
        "\n",
        "4. Se deberá exportar la gráfica en un formato ``'.png'`` con una resolución de al menos 300 dpi.\n",
        "\n",
        "\n",
        "\n",
        "\n",
        "\n"
      ]
    }
  ]
}