{
  "nbformat": 4,
  "nbformat_minor": 0,
  "metadata": {
    "colab": {
      "name": "día5.ipynb",
      "provenance": [],
      "collapsed_sections": [],
      "mount_file_id": "1Oua75Lkw-frEwPcweGYXUedw-4t5aozy",
      "authorship_tag": "ABX9TyOX2pRS1h4nMJJSaFMU55mD",
      "include_colab_link": true
    },
    "kernelspec": {
      "name": "python3",
      "display_name": "Python 3"
    }
  },
  "cells": [
    {
      "cell_type": "markdown",
      "metadata": {
        "id": "view-in-github",
        "colab_type": "text"
      },
      "source": [
        "<a href=\"https://colab.research.google.com/github/ulises1229/INTRO-PYTHON-ENESJ/blob/master/code/d%C3%ADa5.ipynb\" target=\"_parent\"><img src=\"https://colab.research.google.com/assets/colab-badge.svg\" alt=\"Open In Colab\"/></a>"
      ]
    },
    {
      "cell_type": "markdown",
      "metadata": {
        "id": "vhdV0eE-_clQ",
        "colab_type": "text"
      },
      "source": [
        "## **Día5 - Deep Learning con Pythorch**\n",
        "+ Autor: Ulises Olivares, Walter André Reyes\n",
        "+ uolivares@unam.mx\n",
        "+ 04 de septiembre de 2020"
      ]
    },
    {
      "cell_type": "markdown",
      "metadata": {
        "id": "-S9YjS_WGq2K",
        "colab_type": "text"
      },
      "source": [
        "---\n",
        "Contenido basado en la documentación oficial de Pythorch: \n",
        "- https://pytorch.org/tutorials/\n",
        "\n",
        "---\n",
        "\n"
      ]
    },
    {
      "cell_type": "markdown",
      "metadata": {
        "id": "Oqf3a8mWCxDS",
        "colab_type": "text"
      },
      "source": [
        "---\n",
        "# Parte I - ¿Qué es Pythorch?\n",
        "---\n",
        "Es un paquete informático científico basado en Python dirigido a dos conjuntos de\n",
        "audiencias:\n",
        "\n",
        "- Un reemplazo de NumPy para usar el poder de cómputo de los GPU.\n",
        "\n",
        "- Una plataforma de investigación de (deep learning) que proporciona máxima flexibilidad y velocidad\n",
        "\n",
        "**Tensores**\n",
        "---------------\n",
        "\n",
        "+ Los tensores son similares a los ndarrays de NumPy, con la adición de que también se pueden usar en un GPU para acelerar los cálculos.\n",
        "\n"
      ]
    },
    {
      "cell_type": "code",
      "metadata": {
        "id": "mhPknTl4_hdA",
        "colab_type": "code",
        "colab": {}
      },
      "source": [
        "# Google Colab soporta Pythorch por default\n",
        "import torch"
      ],
      "execution_count": null,
      "outputs": []
    },
    {
      "cell_type": "markdown",
      "metadata": {
        "id": "iRt7njBVL9Qy",
        "colab_type": "text"
      },
      "source": [
        "\n",
        "**Nota**\n",
        "\n",
        "\n",
        "Se declara una matriz no inicializada, esta matriz no contiene valores definidos antes de su uso. Cuando se crea una matriz no inicializada, los valores que estaban en la memoria asignada en ese momento aparecerán como valores iniciales.\n",
        "\n"
      ]
    },
    {
      "cell_type": "code",
      "metadata": {
        "id": "2AeDK5h6M7Dr",
        "colab_type": "code",
        "colab": {
          "base_uri": "https://localhost:8080/",
          "height": 104
        },
        "outputId": "85ed9bb5-bdba-48b5-d3aa-bc663e0abbad"
      },
      "source": [
        "# Matriz no inicializada de 5 filas y 3 columnas\n",
        "x = torch.empty(5, 3)\n",
        "print(x)"
      ],
      "execution_count": null,
      "outputs": [
        {
          "output_type": "stream",
          "text": [
            "tensor([[1.7501e-35, 0.0000e+00, 3.9236e-44],\n",
            "        [0.0000e+00, 0.0000e+00, 0.0000e+00],\n",
            "        [1.7970e-35, 0.0000e+00, 1.7966e-35],\n",
            "        [0.0000e+00, 1.7969e-35, 0.0000e+00],\n",
            "        [5.6052e-45, 0.0000e+00, 0.0000e+00]])\n"
          ],
          "name": "stdout"
        }
      ]
    },
    {
      "cell_type": "markdown",
      "metadata": {
        "id": "2tEKDGjlCxDW",
        "colab_type": "text"
      },
      "source": [
        "*Construir* una matriz no inicializada de 5x3:\n",
        "\n"
      ]
    },
    {
      "cell_type": "code",
      "metadata": {
        "id": "uZ8-tJv8CxDW",
        "colab_type": "code",
        "colab": {
          "base_uri": "https://localhost:8080/",
          "height": 104
        },
        "outputId": "fde6a2f3-a167-49fa-d789-b63d39ea3016"
      },
      "source": [
        "x = torch.empty(5, 3)\n",
        "print(x)"
      ],
      "execution_count": null,
      "outputs": [
        {
          "output_type": "stream",
          "text": [
            "tensor([[1.7502e-35, 0.0000e+00, 2.1019e-44],\n",
            "        [0.0000e+00, 1.4013e-45, 0.0000e+00],\n",
            "        [2.1762e-04, 1.7063e-07, 1.3090e+22],\n",
            "        [2.6657e-09, 8.4576e+20, 4.1545e+21],\n",
            "        [2.6952e-09, 1.6987e+22, 0.0000e+00]])\n"
          ],
          "name": "stdout"
        }
      ]
    },
    {
      "cell_type": "markdown",
      "metadata": {
        "id": "Et_UfwThCxDY",
        "colab_type": "text"
      },
      "source": [
        "Construir una matriz inicializada de forma aleatoria:\n",
        "\n"
      ]
    },
    {
      "cell_type": "code",
      "metadata": {
        "id": "cVuMjDtICxDZ",
        "colab_type": "code",
        "colab": {
          "base_uri": "https://localhost:8080/",
          "height": 104
        },
        "outputId": "bbe04dbb-2902-4ee1-88cf-08b0f17a4c0f"
      },
      "source": [
        "x = torch.rand(5, 3)\n",
        "print(x)"
      ],
      "execution_count": null,
      "outputs": [
        {
          "output_type": "stream",
          "text": [
            "tensor([[0.5340, 0.7008, 0.2449],\n",
            "        [0.9203, 0.7850, 0.1195],\n",
            "        [0.2695, 0.4620, 0.8420],\n",
            "        [0.8809, 0.6356, 0.8460],\n",
            "        [0.6782, 0.9257, 0.7881]])\n"
          ],
          "name": "stdout"
        }
      ]
    },
    {
      "cell_type": "markdown",
      "metadata": {
        "id": "koUSt9msCxDb",
        "colab_type": "text"
      },
      "source": [
        "Construir una matriz de zeros y de tyopo long:\n",
        "\n",
        "- Ver tipos de datos de pythorch en el siguiente [LINK](https://pytorch.org/docs/stable/tensor_attributes.html)\n"
      ]
    },
    {
      "cell_type": "code",
      "metadata": {
        "id": "ZOUjp2oPCxDb",
        "colab_type": "code",
        "colab": {
          "base_uri": "https://localhost:8080/",
          "height": 104
        },
        "outputId": "025892ea-22ef-4fd6-ae23-af5fe5e95f1e"
      },
      "source": [
        "x = torch.zeros(5, 3, dtype=torch.long)\n",
        "print(x)"
      ],
      "execution_count": null,
      "outputs": [
        {
          "output_type": "stream",
          "text": [
            "tensor([[0, 0, 0],\n",
            "        [0, 0, 0],\n",
            "        [0, 0, 0],\n",
            "        [0, 0, 0],\n",
            "        [0, 0, 0]])\n"
          ],
          "name": "stdout"
        }
      ]
    },
    {
      "cell_type": "markdown",
      "metadata": {
        "id": "hzL3er_kCxDf",
        "colab_type": "text"
      },
      "source": [
        "**Construir un Tensor a partir de datos:**\n",
        "  + Se especifican los elementos entre corchetes. E.g. [1,2,3,5]\n",
        "\n",
        "\n"
      ]
    },
    {
      "cell_type": "code",
      "metadata": {
        "id": "d1d5_tPBCxDf",
        "colab_type": "code",
        "colab": {
          "base_uri": "https://localhost:8080/",
          "height": 34
        },
        "outputId": "9692b175-47e4-47f8-8e4e-ae5619723255"
      },
      "source": [
        "x = torch.tensor([5.5, 3])\n",
        "print(x)"
      ],
      "execution_count": null,
      "outputs": [
        {
          "output_type": "stream",
          "text": [
            "tensor([5.5000, 3.0000])\n"
          ],
          "name": "stdout"
        }
      ]
    },
    {
      "cell_type": "markdown",
      "metadata": {
        "id": "XBkJ4CTNCxDh",
        "colab_type": "text"
      },
      "source": [
        "**Crear un tensor basado en un tensor existente**\n",
        "\n",
        "Este método reutilizá las propiedades del tensor de entrada. E.g. **dtype**, a menos que los nuevos valores se especifiquen por el usuario."
      ]
    },
    {
      "cell_type": "code",
      "metadata": {
        "id": "Mljr-DrzCxDh",
        "colab_type": "code",
        "colab": {
          "base_uri": "https://localhost:8080/",
          "height": 192
        },
        "outputId": "fb4777d0-1adb-47e5-b76f-8bf6aa46dbaf"
      },
      "source": [
        "x = x.new_ones(5, 3, dtype=torch.double)      # new_* methods take in sizes\n",
        "print(x)\n",
        "\n",
        "x = torch.randn_like(x, dtype=torch.float)    # sobreescibir dtype!\n",
        "print(x)                                      # el resultado tiene el mismo tamaño."
      ],
      "execution_count": null,
      "outputs": [
        {
          "output_type": "stream",
          "text": [
            "tensor([[1., 1., 1.],\n",
            "        [1., 1., 1.],\n",
            "        [1., 1., 1.],\n",
            "        [1., 1., 1.],\n",
            "        [1., 1., 1.]], dtype=torch.float64)\n",
            "tensor([[ 1.0110,  0.1915, -1.2654],\n",
            "        [ 0.4731, -1.5652, -1.3700],\n",
            "        [-0.1778, -0.7414,  1.1132],\n",
            "        [-0.9819, -0.5176,  1.3193],\n",
            "        [ 0.0545,  1.6242, -0.3171]])\n"
          ],
          "name": "stdout"
        }
      ]
    },
    {
      "cell_type": "markdown",
      "metadata": {
        "id": "_petMh4HCxDj",
        "colab_type": "text"
      },
      "source": [
        "**Obtener el tamaño de un tensor:**\n",
        "\n"
      ]
    },
    {
      "cell_type": "code",
      "metadata": {
        "id": "kquZbcVrCxDk",
        "colab_type": "code",
        "colab": {
          "base_uri": "https://localhost:8080/",
          "height": 34
        },
        "outputId": "21c663e1-3867-4d20-c092-889c45e38090"
      },
      "source": [
        "print(x.size())"
      ],
      "execution_count": null,
      "outputs": [
        {
          "output_type": "stream",
          "text": [
            "torch.Size([5, 3])\n"
          ],
          "name": "stdout"
        }
      ]
    },
    {
      "cell_type": "markdown",
      "metadata": {
        "id": "l2HTTTyjCxDl",
        "colab_type": "text"
      },
      "source": [
        "<h4>Nota</h4><p>\n",
        "\n",
        "`torch.Size`\n",
        "\n",
        "Es de hecho una tupla, entonces soporta las operaciones de tuplas.</p></div>\n",
        "\n",
        "**Operaciones**\n",
        "\n",
        "Existen múltiples formas de especificar (denotar) operaciones en pythorch. En el siguiente ejemplo, se utilizara la operación de adición. \n",
        "\n",
        "**Suma: sintaxis 1**\n",
        "\n"
      ]
    },
    {
      "cell_type": "code",
      "metadata": {
        "id": "aplA0i7XCxDm",
        "colab_type": "code",
        "colab": {
          "base_uri": "https://localhost:8080/",
          "height": 104
        },
        "outputId": "0481f11b-e522-48e6-cece-34e4f602764a"
      },
      "source": [
        "y = torch.rand(5, 3)\n",
        "print(x + y)"
      ],
      "execution_count": null,
      "outputs": [
        {
          "output_type": "stream",
          "text": [
            "tensor([[ 1.3237,  0.9526, -0.7096],\n",
            "        [ 1.1974, -0.9444, -0.4352],\n",
            "        [ 0.3315, -0.4599,  1.5977],\n",
            "        [-0.5694,  0.0638,  1.8248],\n",
            "        [ 0.2995,  2.3940,  0.5591]])\n"
          ],
          "name": "stdout"
        }
      ]
    },
    {
      "cell_type": "markdown",
      "metadata": {
        "id": "R1ToIO68CxDn",
        "colab_type": "text"
      },
      "source": [
        "**Suma: sintaxis 2**\n",
        "\n"
      ]
    },
    {
      "cell_type": "code",
      "metadata": {
        "id": "J3tplG9LCxDo",
        "colab_type": "code",
        "colab": {
          "base_uri": "https://localhost:8080/",
          "height": 104
        },
        "outputId": "8bd6ea46-b8fa-4bb2-e310-73f69ee08a2a"
      },
      "source": [
        "print(torch.add(x, y))"
      ],
      "execution_count": null,
      "outputs": [
        {
          "output_type": "stream",
          "text": [
            "tensor([[ 1.3237,  0.9526, -0.7096],\n",
            "        [ 1.1974, -0.9444, -0.4352],\n",
            "        [ 0.3315, -0.4599,  1.5977],\n",
            "        [-0.5694,  0.0638,  1.8248],\n",
            "        [ 0.2995,  2.3940,  0.5591]])\n"
          ],
          "name": "stdout"
        }
      ]
    },
    {
      "cell_type": "markdown",
      "metadata": {
        "id": "ihXqbCSsCxDq",
        "colab_type": "text"
      },
      "source": [
        "**Suma: Sintaxis 3** \n",
        "- pasar la variable resultado como un argumento."
      ]
    },
    {
      "cell_type": "code",
      "metadata": {
        "id": "2BQICyCwCxDq",
        "colab_type": "code",
        "colab": {
          "base_uri": "https://localhost:8080/",
          "height": 104
        },
        "outputId": "ca60e20f-6a8e-4421-a1c7-4b936af308a4"
      },
      "source": [
        "result = torch.empty(5, 3)\n",
        "torch.add(x, y, out=result)\n",
        "print(result)"
      ],
      "execution_count": null,
      "outputs": [
        {
          "output_type": "stream",
          "text": [
            "tensor([[ 1.3237,  0.9526, -0.7096],\n",
            "        [ 1.1974, -0.9444, -0.4352],\n",
            "        [ 0.3315, -0.4599,  1.5977],\n",
            "        [-0.5694,  0.0638,  1.8248],\n",
            "        [ 0.2995,  2.3940,  0.5591]])\n"
          ],
          "name": "stdout"
        }
      ]
    },
    {
      "cell_type": "markdown",
      "metadata": {
        "id": "sbAY6KD5CxDs",
        "colab_type": "text"
      },
      "source": [
        "**Suma: Sintaxis 4**\n",
        "- Operación in-situ\n"
      ]
    },
    {
      "cell_type": "code",
      "metadata": {
        "id": "vwg7JFfBCxDs",
        "colab_type": "code",
        "colab": {
          "base_uri": "https://localhost:8080/",
          "height": 104
        },
        "outputId": "f268961e-f3d8-4d31-d710-b7d08343236c"
      },
      "source": [
        "# adds x to y\n",
        "y.add_(x)\n",
        "print(y)"
      ],
      "execution_count": null,
      "outputs": [
        {
          "output_type": "stream",
          "text": [
            "tensor([[ 1.3237,  0.9526, -0.7096],\n",
            "        [ 1.1974, -0.9444, -0.4352],\n",
            "        [ 0.3315, -0.4599,  1.5977],\n",
            "        [-0.5694,  0.0638,  1.8248],\n",
            "        [ 0.2995,  2.3940,  0.5591]])\n"
          ],
          "name": "stdout"
        }
      ]
    },
    {
      "cell_type": "markdown",
      "metadata": {
        "id": "GBFmhZG4CxDu",
        "colab_type": "text"
      },
      "source": [
        "**Nota**\n",
        "\n",
        "Cualquier operación que modifique un tensor in-situ lleva el sufijo `_` \n",
        "\n",
        "Por ejemplo: \n",
        "\n",
        "``x.copy_(y)``, ``x.t_()``, modificarán al tensor ``x``\n",
        "\n",
        "- **¡Es posible utilizar la notación de indexación similar a Numpy!**"
      ]
    },
    {
      "cell_type": "code",
      "metadata": {
        "id": "ZtzvH-KJCxDu",
        "colab_type": "code",
        "colab": {
          "base_uri": "https://localhost:8080/",
          "height": 34
        },
        "outputId": "1222cea2-ef32-4998-8afd-1501214cedfd"
      },
      "source": [
        "print(x[:, 1])"
      ],
      "execution_count": null,
      "outputs": [
        {
          "output_type": "stream",
          "text": [
            "tensor([ 0.1915, -1.5652, -0.7414, -0.5176,  1.6242])\n"
          ],
          "name": "stdout"
        }
      ]
    },
    {
      "cell_type": "markdown",
      "metadata": {
        "id": "kq_HI5WVCxDw",
        "colab_type": "text"
      },
      "source": [
        "**Modificar el tamaño:** Si es necesario modificar el tamaño o la forma de un tensoer, se puede utilizar:\n",
        "\n",
        "``torch.view``:\n",
        "\n"
      ]
    },
    {
      "cell_type": "code",
      "metadata": {
        "id": "BuUGPsY0CxDx",
        "colab_type": "code",
        "colab": {
          "base_uri": "https://localhost:8080/",
          "height": 34
        },
        "outputId": "2f15af2c-2b7b-41f3-c349-59259815a14f"
      },
      "source": [
        "x = torch.randn(4, 4)\n",
        "y = x.view(16)\n",
        "z = x.view(-1, 8)  # el tamaño -1 se asigna automáticamente (infiere) de la otra dimensión.\n",
        "print(x.size(), y.size(), z.size())"
      ],
      "execution_count": null,
      "outputs": [
        {
          "output_type": "stream",
          "text": [
            "torch.Size([4, 4]) torch.Size([16]) torch.Size([2, 8])\n"
          ],
          "name": "stdout"
        }
      ]
    },
    {
      "cell_type": "markdown",
      "metadata": {
        "id": "NOzcaxQqCxDz",
        "colab_type": "text"
      },
      "source": [
        "Si se tiene un único elemento en el tensor, se puede emplear ``.item()`` para obtener el valor como un número de Python."
      ]
    },
    {
      "cell_type": "code",
      "metadata": {
        "id": "McbKRjkKCxD0",
        "colab_type": "code",
        "colab": {
          "base_uri": "https://localhost:8080/",
          "height": 52
        },
        "outputId": "70d0bb40-9a98-4268-c34d-1e0816e25850"
      },
      "source": [
        "x = torch.randn(1)\n",
        "print(x)\n",
        "print(x.item())"
      ],
      "execution_count": null,
      "outputs": [
        {
          "output_type": "stream",
          "text": [
            "tensor([0.5930])\n",
            "0.593023955821991\n"
          ],
          "name": "stdout"
        }
      ]
    },
    {
      "cell_type": "markdown",
      "metadata": {
        "id": "h-4nCDUbCxD2",
        "colab_type": "text"
      },
      "source": [
        "**Revisar más tarde:**\n",
        "\n",
        "  - Más de 100 operaciones con tensores incluidos:\n",
        "    + Transposiciones\n",
        "    + Indexación\n",
        "    + Subconjuntos\n",
        "    + Operaciones matemáticas\n",
        "    + Operaciones de álgebra lineal\n",
        "    + Números aleatorios, etc\n",
        "\n",
        "Todas estas operaciones están descritas\n",
        "  `aquí <https://pytorch.org/docs/torch>`_.\n",
        "\n",
        "Conversión de Torch Tensor a Numpy Array y viceversa\n",
        "---\n",
        "\n",
        "La conversión es muy sencilla\n",
        "\n",
        "El arraglo de Numpy y el Tensor compartirán la ubicación de memoria subyacente\n",
        "(si el tensor de Torch está en el CPU), cambiar un elemento modificará atomáticamente el otro.\n",
        "\n",
        "**Convirtiendo un Tensor Torch a un Numpy Array**"
      ]
    },
    {
      "cell_type": "code",
      "metadata": {
        "id": "EboMC3uuCxD2",
        "colab_type": "code",
        "colab": {
          "base_uri": "https://localhost:8080/",
          "height": 34
        },
        "outputId": "4a494c6e-6622-4996-94a3-fb7e08da0a96"
      },
      "source": [
        "# Torch tensor\n",
        "a = torch.ones(5)\n",
        "print(a)"
      ],
      "execution_count": null,
      "outputs": [
        {
          "output_type": "stream",
          "text": [
            "tensor([1., 1., 1., 1., 1.])\n"
          ],
          "name": "stdout"
        }
      ]
    },
    {
      "cell_type": "code",
      "metadata": {
        "id": "Tml5PfSoCxD4",
        "colab_type": "code",
        "colab": {
          "base_uri": "https://localhost:8080/",
          "height": 34
        },
        "outputId": "80d6476f-272b-48c6-9831-3a0cfeac811c"
      },
      "source": [
        "# Arreglo de numpy\n",
        "b = a.numpy()\n",
        "print(b)"
      ],
      "execution_count": null,
      "outputs": [
        {
          "output_type": "stream",
          "text": [
            "[1. 1. 1. 1. 1.]\n"
          ],
          "name": "stdout"
        }
      ]
    },
    {
      "cell_type": "markdown",
      "metadata": {
        "id": "kgMEmrcdCxD5",
        "colab_type": "text"
      },
      "source": [
        "\n",
        "Verificar el arraglo de numpy.\n"
      ]
    },
    {
      "cell_type": "code",
      "metadata": {
        "id": "CAbpn-nACxD6",
        "colab_type": "code",
        "colab": {
          "base_uri": "https://localhost:8080/",
          "height": 52
        },
        "outputId": "3689d2b6-e952-40f8-803d-1b70713d255f"
      },
      "source": [
        "a.add_(1)\n",
        "print(a)\n",
        "print(b)"
      ],
      "execution_count": null,
      "outputs": [
        {
          "output_type": "stream",
          "text": [
            "tensor([2., 2., 2., 2., 2.])\n",
            "[2. 2. 2. 2. 2.]\n"
          ],
          "name": "stdout"
        }
      ]
    },
    {
      "cell_type": "markdown",
      "metadata": {
        "id": "gw8-nAarCxD7",
        "colab_type": "text"
      },
      "source": [
        "Convirtiendo el arreglo de Numpy a un Tensor Torch\n",
        "---\n",
        "Verificar como el arraglod e Numpy modifica automáticamente al tensor Torch."
      ]
    },
    {
      "cell_type": "code",
      "metadata": {
        "id": "ZZmVxEz1CxD7",
        "colab_type": "code",
        "colab": {
          "base_uri": "https://localhost:8080/",
          "height": 52
        },
        "outputId": "d54707ab-baa5-408f-ce9b-e5a8cb4015ea"
      },
      "source": [
        "import numpy as np\n",
        "a = np.ones(5)\n",
        "b = torch.from_numpy(a)\n",
        "np.add(a, 1, out=a)\n",
        "print(a)\n",
        "print(b)"
      ],
      "execution_count": null,
      "outputs": [
        {
          "output_type": "stream",
          "text": [
            "[2. 2. 2. 2. 2.]\n",
            "tensor([2., 2., 2., 2., 2.], dtype=torch.float64)\n"
          ],
          "name": "stdout"
        }
      ]
    },
    {
      "cell_type": "markdown",
      "metadata": {
        "id": "P3uAibk_CxEL",
        "colab_type": "text"
      },
      "source": [
        "Todos ls tensores que se definen en CPU (con excepción de CharTensor) pueden convertirse a un arreglo de Numpy y viceversa.\n",
        "\n",
        "Tensores de CUDA -> (GPU)\n",
        "------------\n",
        "Los tensores pueden ser movido a un GPU (device) utilizando el método ``.to``.\n",
        "\n",
        "Sólo podrán ejecutar este código si cuentan con un GPU de NVIDIA y el framework  de CUDA instalado. De lo contrario pueden utilizar Google Colab ``<https://colab.research.google.com/>`` o  Kaggle `<https://www.kaggle.com/>``\n",
        "\n"
      ]
    },
    {
      "cell_type": "code",
      "metadata": {
        "id": "U-NIB8ojCxEN",
        "colab_type": "code",
        "colab": {
          "base_uri": "https://localhost:8080/",
          "height": 34
        },
        "outputId": "e5aab7ae-9eb6-46d4-efaf-82db3690f3b1"
      },
      "source": [
        "# se verificará si CUDA está disponible\n",
        "# Se usarán objetos ``torch.device`` para mover objetos al device y viceversa\n",
        "import torch\n",
        "\n",
        "if torch.cuda.is_available():\n",
        "    device = torch.device(\"cuda\")        # Objeto de CUDA device\n",
        "    x = torch.ones(3000,3000)                  # Definición de una matriz de 2x3 de 1s\n",
        "    y = torch.ones_like(x, device=device)  # Crear un tensor directamente en GPU(device)\n",
        "    x = x.to(device)                       # or just use strings ``.to(\"cuda\")``\n",
        "    z = x * y\n",
        "    print(z)\n",
        "    print(z.to(\"cpu\", torch.double))       # ``.to`` permite modificar el tipo de datos!\n",
        "else:\n",
        "    print(\"CUDA no esta disponible :'(\")"
      ],
      "execution_count": null,
      "outputs": [
        {
          "output_type": "stream",
          "text": [
            "CUDA no esta disponible :'(\n"
          ],
          "name": "stdout"
        }
      ]
    }
  ]
}